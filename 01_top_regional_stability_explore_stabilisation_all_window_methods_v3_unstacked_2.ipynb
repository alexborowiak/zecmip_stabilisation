{
 "cells": [
  {
   "cell_type": "markdown",
   "id": "3012ac88",
   "metadata": {},
   "source": [
    "# The stability of the global average on different window lengths\n",
    "This notebook outllines different methods that can be used to de-trend the LongRunMIP and ZECMIP time series."
   ]
  },
  {
   "cell_type": "code",
   "execution_count": 1,
   "id": "fb3b4beb-a4bc-45b0-9864-331ffa196d28",
   "metadata": {},
   "outputs": [
    {
     "name": "stderr",
     "output_type": "stream",
     "text": [
      "Matplotlib created a temporary cache directory at /jobfs/123849798.gadi-pbs/matplotlib-ouqu9b_p because the default path (/home/563/ab2313/.cache/matplotlib) is not a writable directory; it is highly recommended to set the MPLCONFIGDIR environment variable to a writable directory, in particular to speed up the import of Matplotlib and to better support multiprocessing.\n",
      "Matplotlib is building the font cache; this may take a moment.\n"
     ]
    }
   ],
   "source": [
    "# Standard Library Imports\n",
    "import os\n",
    "import sys\n",
    "from importlib import reload\n",
    "from time import sleep\n",
    "\n",
    "# Third-Party Library Imports\n",
    "import numpy as np\n",
    "import pandas as pd\n",
    "import xarray as xr\n",
    "from typing import NamedTuple\n",
    "from enum import Enum\n",
    "import matplotlib.pyplot as plt\n",
    "import matplotlib.gridspec as gridspec\n",
    "import cartopy.crs as ccrs\n",
    "from functools import partial\n",
    "import string\n",
    "\n",
    "from numpy.typing import ArrayLike\n",
    "from typing import List, Any, Callable, Union, Tuple, Optional\n",
    "\n",
    "# Custom Module Imports\n",
    "sys.path.append(os.path.join(os.getcwd(), 'Documents', 'zecmip_stabilisation'))\n",
    "import constants\n",
    "sys.path.append(constants.MODULE_DIR)\n",
    "import open_zecmip\n",
    "import utils\n",
    "# import signal_to_noise as sn\n",
    "import plotting_functions\n",
    "import xarray_extender as xe\n",
    "import zec_calculation_functions\n",
    "import signal_to_noise_calculations as sn_calc\n",
    "\n",
    "# import drift_functions\n",
    "import sn_plotting\n",
    "import my_stats\n",
    "# import signal_to_noise_calculations as sn_calc\n",
    "\n",
    "# import sn_plotting_utils\n",
    "# Suppress Warnings\n",
    "import warnings\n",
    "warnings.filterwarnings('ignore')\n",
    "warnings.filterwarnings(\"ignore\", category=RuntimeWarning, module='dask.*')\n",
    "warnings.filterwarnings(\"ignore\", category=Warning)\n",
    "# # Logging\n",
    "logger = utils.get_notebook_logger()"
   ]
  },
  {
   "cell_type": "code",
   "execution_count": 2,
   "id": "4ecfd19f-3c78-4f00-8a7e-a834fad28ca9",
   "metadata": {},
   "outputs": [],
   "source": [
    "sys.path.append(os.path.join(os.getcwd(), 'Documents', 'list_xarray'))\n",
    "# from listXarray import listXarray\n",
    "# import listXarray as lxr\n",
    "from listXarray import listXarray, where, apply_ufunc, read_listxarray\n",
    "# reload(lxr)\n",
    "# from listXarray import array_function"
   ]
  },
  {
   "cell_type": "code",
   "execution_count": 3,
   "id": "3c968029-87a9-4665-9bb0-690a1c5afa36",
   "metadata": {},
   "outputs": [],
   "source": [
    "# import listXarray\n",
    "# reload(listXarray)\n",
    "# from listXarray import listXarray"
   ]
  },
  {
   "cell_type": "code",
   "execution_count": 4,
   "id": "96b8ccc6-803b-4b87-9c08-42d835b90687",
   "metadata": {},
   "outputs": [
    {
     "data": {
      "text/plain": [
       "<xarray.core.options.set_options at 0x146554aa9960>"
      ]
     },
     "execution_count": 4,
     "metadata": {},
     "output_type": "execute_result"
    }
   ],
   "source": [
    "np.set_printoptions(precision=2, suppress=True, edgeitems=1)\n",
    "xr.set_options(display_expand_data=False)"
   ]
  },
  {
   "cell_type": "code",
   "execution_count": 5,
   "id": "37e60152-241a-44c9-96b2-04192a565e18",
   "metadata": {},
   "outputs": [],
   "source": [
    "# client.close()"
   ]
  },
  {
   "cell_type": "code",
   "execution_count": 6,
   "id": "34559155-f831-49d4-916c-e771e4b097cd",
   "metadata": {},
   "outputs": [
    {
     "name": "stdout",
     "output_type": "stream",
     "text": [
      "- State start\n",
      "- Found stale lock file and directory '/jobfs/123849798.gadi-pbs/dask-scratch-space/scheduler-0cex_4k1', purging\n",
      "-   Scheduler at:     tcp://127.0.0.1:44465\n",
      "-   dashboard at:         /proxy/8787/status\n",
      "- Registering Worker plugin shuffle\n",
      "-         Start Nanny at: 'tcp://127.0.0.1:42429'\n",
      "-         Start Nanny at: 'tcp://127.0.0.1:46429'\n",
      "-         Start Nanny at: 'tcp://127.0.0.1:38189'\n",
      "-         Start Nanny at: 'tcp://127.0.0.1:42101'\n",
      "-         Start Nanny at: 'tcp://127.0.0.1:39591'\n",
      "-         Start Nanny at: 'tcp://127.0.0.1:37771'\n",
      "-         Start Nanny at: 'tcp://127.0.0.1:37155'\n",
      "-         Start Nanny at: 'tcp://127.0.0.1:38123'\n",
      "-         Start Nanny at: 'tcp://127.0.0.1:34879'\n",
      "-         Start Nanny at: 'tcp://127.0.0.1:37173'\n",
      "-         Start Nanny at: 'tcp://127.0.0.1:34429'\n",
      "-         Start Nanny at: 'tcp://127.0.0.1:38989'\n",
      "- Register worker <WorkerState 'tcp://127.0.0.1:41495', name: 0, status: init, memory: 0, processing: 0>\n",
      "- Starting worker compute stream, tcp://127.0.0.1:41495\n",
      "- Starting established connection to tcp://127.0.0.1:40102\n",
      "- Register worker <WorkerState 'tcp://127.0.0.1:32857', name: 1, status: init, memory: 0, processing: 0>\n",
      "- Starting worker compute stream, tcp://127.0.0.1:32857\n",
      "- Starting established connection to tcp://127.0.0.1:40114\n",
      "- Register worker <WorkerState 'tcp://127.0.0.1:39449', name: 9, status: init, memory: 0, processing: 0>\n",
      "- Starting worker compute stream, tcp://127.0.0.1:39449\n",
      "- Starting established connection to tcp://127.0.0.1:40128\n",
      "- Register worker <WorkerState 'tcp://127.0.0.1:44999', name: 8, status: init, memory: 0, processing: 0>\n",
      "- Starting worker compute stream, tcp://127.0.0.1:44999\n",
      "- Starting established connection to tcp://127.0.0.1:40120\n",
      "- Register worker <WorkerState 'tcp://127.0.0.1:34073', name: 3, status: init, memory: 0, processing: 0>\n",
      "- Starting worker compute stream, tcp://127.0.0.1:34073\n",
      "- Starting established connection to tcp://127.0.0.1:40166\n",
      "- Register worker <WorkerState 'tcp://127.0.0.1:36327', name: 4, status: init, memory: 0, processing: 0>\n",
      "- Starting worker compute stream, tcp://127.0.0.1:36327\n",
      "- Starting established connection to tcp://127.0.0.1:40170\n",
      "- Register worker <WorkerState 'tcp://127.0.0.1:40123', name: 5, status: init, memory: 0, processing: 0>\n",
      "- Starting worker compute stream, tcp://127.0.0.1:40123\n",
      "- Starting established connection to tcp://127.0.0.1:40190\n",
      "- Register worker <WorkerState 'tcp://127.0.0.1:37295', name: 10, status: init, memory: 0, processing: 0>\n",
      "- Starting worker compute stream, tcp://127.0.0.1:37295\n",
      "- Starting established connection to tcp://127.0.0.1:40134\n",
      "- Register worker <WorkerState 'tcp://127.0.0.1:35209', name: 6, status: init, memory: 0, processing: 0>\n",
      "- Starting worker compute stream, tcp://127.0.0.1:35209\n",
      "- Starting established connection to tcp://127.0.0.1:40196\n",
      "- Register worker <WorkerState 'tcp://127.0.0.1:40347', name: 2, status: init, memory: 0, processing: 0>\n",
      "- Starting worker compute stream, tcp://127.0.0.1:40347\n",
      "- Starting established connection to tcp://127.0.0.1:40182\n",
      "- Register worker <WorkerState 'tcp://127.0.0.1:33853', name: 7, status: init, memory: 0, processing: 0>\n",
      "- Starting worker compute stream, tcp://127.0.0.1:33853\n",
      "- Starting established connection to tcp://127.0.0.1:40208\n",
      "- Register worker <WorkerState 'tcp://127.0.0.1:43057', name: 11, status: init, memory: 0, processing: 0>\n",
      "- Starting worker compute stream, tcp://127.0.0.1:43057\n",
      "- Starting established connection to tcp://127.0.0.1:40150\n",
      "- Receive client connection: Client-456fb8f1-6507-11ef-806d-000007e5fe80\n",
      "- Starting established connection to tcp://127.0.0.1:40224\n"
     ]
    },
    {
     "data": {
      "text/html": [
       "<div>\n",
       "    <div style=\"width: 24px; height: 24px; background-color: #e1e1e1; border: 3px solid #9D9D9D; border-radius: 5px; position: absolute;\"> </div>\n",
       "    <div style=\"margin-left: 48px;\">\n",
       "        <h3 style=\"margin-bottom: 0px;\">Client</h3>\n",
       "        <p style=\"color: #9D9D9D; margin-bottom: 0px;\">Client-456fb8f1-6507-11ef-806d-000007e5fe80</p>\n",
       "        <table style=\"width: 100%; text-align: left;\">\n",
       "\n",
       "        <tr>\n",
       "        \n",
       "            <td style=\"text-align: left;\"><strong>Connection method:</strong> Cluster object</td>\n",
       "            <td style=\"text-align: left;\"><strong>Cluster type:</strong> distributed.LocalCluster</td>\n",
       "        \n",
       "        </tr>\n",
       "\n",
       "        \n",
       "            <tr>\n",
       "                <td style=\"text-align: left;\">\n",
       "                    <strong>Dashboard: </strong> <a href=\"/proxy/8787/status\" target=\"_blank\">/proxy/8787/status</a>\n",
       "                </td>\n",
       "                <td style=\"text-align: left;\"></td>\n",
       "            </tr>\n",
       "        \n",
       "\n",
       "        </table>\n",
       "\n",
       "        \n",
       "            <button style=\"margin-bottom: 12px;\" data-commandlinker-command=\"dask:populate-and-launch-layout\" data-commandlinker-args='{\"url\": \"/proxy/8787/status\" }'>\n",
       "                Launch dashboard in JupyterLab\n",
       "            </button>\n",
       "        \n",
       "\n",
       "        \n",
       "            <details>\n",
       "            <summary style=\"margin-bottom: 20px;\"><h3 style=\"display: inline;\">Cluster Info</h3></summary>\n",
       "            <div class=\"jp-RenderedHTMLCommon jp-RenderedHTML jp-mod-trusted jp-OutputArea-output\">\n",
       "    <div style=\"width: 24px; height: 24px; background-color: #e1e1e1; border: 3px solid #9D9D9D; border-radius: 5px; position: absolute;\">\n",
       "    </div>\n",
       "    <div style=\"margin-left: 48px;\">\n",
       "        <h3 style=\"margin-bottom: 0px; margin-top: 0px;\">LocalCluster</h3>\n",
       "        <p style=\"color: #9D9D9D; margin-bottom: 0px;\">d1ff6c9b</p>\n",
       "        <table style=\"width: 100%; text-align: left;\">\n",
       "            <tr>\n",
       "                <td style=\"text-align: left;\">\n",
       "                    <strong>Dashboard:</strong> <a href=\"/proxy/8787/status\" target=\"_blank\">/proxy/8787/status</a>\n",
       "                </td>\n",
       "                <td style=\"text-align: left;\">\n",
       "                    <strong>Workers:</strong> 12\n",
       "                </td>\n",
       "            </tr>\n",
       "            <tr>\n",
       "                <td style=\"text-align: left;\">\n",
       "                    <strong>Total threads:</strong> 12\n",
       "                </td>\n",
       "                <td style=\"text-align: left;\">\n",
       "                    <strong>Total memory:</strong> 0 B\n",
       "                </td>\n",
       "            </tr>\n",
       "            \n",
       "            <tr>\n",
       "    <td style=\"text-align: left;\"><strong>Status:</strong> running</td>\n",
       "    <td style=\"text-align: left;\"><strong>Using processes:</strong> True</td>\n",
       "</tr>\n",
       "\n",
       "            \n",
       "        </table>\n",
       "\n",
       "        <details>\n",
       "            <summary style=\"margin-bottom: 20px;\">\n",
       "                <h3 style=\"display: inline;\">Scheduler Info</h3>\n",
       "            </summary>\n",
       "\n",
       "            <div style=\"\">\n",
       "    <div>\n",
       "        <div style=\"width: 24px; height: 24px; background-color: #FFF7E5; border: 3px solid #FF6132; border-radius: 5px; position: absolute;\"> </div>\n",
       "        <div style=\"margin-left: 48px;\">\n",
       "            <h3 style=\"margin-bottom: 0px;\">Scheduler</h3>\n",
       "            <p style=\"color: #9D9D9D; margin-bottom: 0px;\">Scheduler-01af58c1-465e-4858-9f7d-23ab25aa0737</p>\n",
       "            <table style=\"width: 100%; text-align: left;\">\n",
       "                <tr>\n",
       "                    <td style=\"text-align: left;\">\n",
       "                        <strong>Comm:</strong> tcp://127.0.0.1:44465\n",
       "                    </td>\n",
       "                    <td style=\"text-align: left;\">\n",
       "                        <strong>Workers:</strong> 12\n",
       "                    </td>\n",
       "                </tr>\n",
       "                <tr>\n",
       "                    <td style=\"text-align: left;\">\n",
       "                        <strong>Dashboard:</strong> <a href=\"/proxy/8787/status\" target=\"_blank\">/proxy/8787/status</a>\n",
       "                    </td>\n",
       "                    <td style=\"text-align: left;\">\n",
       "                        <strong>Total threads:</strong> 12\n",
       "                    </td>\n",
       "                </tr>\n",
       "                <tr>\n",
       "                    <td style=\"text-align: left;\">\n",
       "                        <strong>Started:</strong> Just now\n",
       "                    </td>\n",
       "                    <td style=\"text-align: left;\">\n",
       "                        <strong>Total memory:</strong> 0 B\n",
       "                    </td>\n",
       "                </tr>\n",
       "            </table>\n",
       "        </div>\n",
       "    </div>\n",
       "\n",
       "    <details style=\"margin-left: 48px;\">\n",
       "        <summary style=\"margin-bottom: 20px;\">\n",
       "            <h3 style=\"display: inline;\">Workers</h3>\n",
       "        </summary>\n",
       "\n",
       "        \n",
       "        <div style=\"margin-bottom: 20px;\">\n",
       "            <div style=\"width: 24px; height: 24px; background-color: #DBF5FF; border: 3px solid #4CC9FF; border-radius: 5px; position: absolute;\"> </div>\n",
       "            <div style=\"margin-left: 48px;\">\n",
       "            <details>\n",
       "                <summary>\n",
       "                    <h4 style=\"margin-bottom: 0px; display: inline;\">Worker: 0</h4>\n",
       "                </summary>\n",
       "                <table style=\"width: 100%; text-align: left;\">\n",
       "                    <tr>\n",
       "                        <td style=\"text-align: left;\">\n",
       "                            <strong>Comm: </strong> tcp://127.0.0.1:41495\n",
       "                        </td>\n",
       "                        <td style=\"text-align: left;\">\n",
       "                            <strong>Total threads: </strong> 1\n",
       "                        </td>\n",
       "                    </tr>\n",
       "                    <tr>\n",
       "                        <td style=\"text-align: left;\">\n",
       "                            <strong>Dashboard: </strong> <a href=\"/proxy/37899/status\" target=\"_blank\">/proxy/37899/status</a>\n",
       "                        </td>\n",
       "                        <td style=\"text-align: left;\">\n",
       "                            <strong>Memory: </strong> 0 B\n",
       "                        </td>\n",
       "                    </tr>\n",
       "                    <tr>\n",
       "                        <td style=\"text-align: left;\">\n",
       "                            <strong>Nanny: </strong> tcp://127.0.0.1:42429\n",
       "                        </td>\n",
       "                        <td style=\"text-align: left;\"></td>\n",
       "                    </tr>\n",
       "                    <tr>\n",
       "                        <td colspan=\"2\" style=\"text-align: left;\">\n",
       "                            <strong>Local directory: </strong> /jobfs/123849798.gadi-pbs/dask-scratch-space/worker-mbyk1cjk\n",
       "                        </td>\n",
       "                    </tr>\n",
       "\n",
       "                    \n",
       "\n",
       "                    \n",
       "\n",
       "                </table>\n",
       "            </details>\n",
       "            </div>\n",
       "        </div>\n",
       "        \n",
       "        <div style=\"margin-bottom: 20px;\">\n",
       "            <div style=\"width: 24px; height: 24px; background-color: #DBF5FF; border: 3px solid #4CC9FF; border-radius: 5px; position: absolute;\"> </div>\n",
       "            <div style=\"margin-left: 48px;\">\n",
       "            <details>\n",
       "                <summary>\n",
       "                    <h4 style=\"margin-bottom: 0px; display: inline;\">Worker: 1</h4>\n",
       "                </summary>\n",
       "                <table style=\"width: 100%; text-align: left;\">\n",
       "                    <tr>\n",
       "                        <td style=\"text-align: left;\">\n",
       "                            <strong>Comm: </strong> tcp://127.0.0.1:32857\n",
       "                        </td>\n",
       "                        <td style=\"text-align: left;\">\n",
       "                            <strong>Total threads: </strong> 1\n",
       "                        </td>\n",
       "                    </tr>\n",
       "                    <tr>\n",
       "                        <td style=\"text-align: left;\">\n",
       "                            <strong>Dashboard: </strong> <a href=\"/proxy/41519/status\" target=\"_blank\">/proxy/41519/status</a>\n",
       "                        </td>\n",
       "                        <td style=\"text-align: left;\">\n",
       "                            <strong>Memory: </strong> 0 B\n",
       "                        </td>\n",
       "                    </tr>\n",
       "                    <tr>\n",
       "                        <td style=\"text-align: left;\">\n",
       "                            <strong>Nanny: </strong> tcp://127.0.0.1:46429\n",
       "                        </td>\n",
       "                        <td style=\"text-align: left;\"></td>\n",
       "                    </tr>\n",
       "                    <tr>\n",
       "                        <td colspan=\"2\" style=\"text-align: left;\">\n",
       "                            <strong>Local directory: </strong> /jobfs/123849798.gadi-pbs/dask-scratch-space/worker-7c0rtul5\n",
       "                        </td>\n",
       "                    </tr>\n",
       "\n",
       "                    \n",
       "\n",
       "                    \n",
       "\n",
       "                </table>\n",
       "            </details>\n",
       "            </div>\n",
       "        </div>\n",
       "        \n",
       "        <div style=\"margin-bottom: 20px;\">\n",
       "            <div style=\"width: 24px; height: 24px; background-color: #DBF5FF; border: 3px solid #4CC9FF; border-radius: 5px; position: absolute;\"> </div>\n",
       "            <div style=\"margin-left: 48px;\">\n",
       "            <details>\n",
       "                <summary>\n",
       "                    <h4 style=\"margin-bottom: 0px; display: inline;\">Worker: 2</h4>\n",
       "                </summary>\n",
       "                <table style=\"width: 100%; text-align: left;\">\n",
       "                    <tr>\n",
       "                        <td style=\"text-align: left;\">\n",
       "                            <strong>Comm: </strong> tcp://127.0.0.1:40347\n",
       "                        </td>\n",
       "                        <td style=\"text-align: left;\">\n",
       "                            <strong>Total threads: </strong> 1\n",
       "                        </td>\n",
       "                    </tr>\n",
       "                    <tr>\n",
       "                        <td style=\"text-align: left;\">\n",
       "                            <strong>Dashboard: </strong> <a href=\"/proxy/40861/status\" target=\"_blank\">/proxy/40861/status</a>\n",
       "                        </td>\n",
       "                        <td style=\"text-align: left;\">\n",
       "                            <strong>Memory: </strong> 0 B\n",
       "                        </td>\n",
       "                    </tr>\n",
       "                    <tr>\n",
       "                        <td style=\"text-align: left;\">\n",
       "                            <strong>Nanny: </strong> tcp://127.0.0.1:38189\n",
       "                        </td>\n",
       "                        <td style=\"text-align: left;\"></td>\n",
       "                    </tr>\n",
       "                    <tr>\n",
       "                        <td colspan=\"2\" style=\"text-align: left;\">\n",
       "                            <strong>Local directory: </strong> /jobfs/123849798.gadi-pbs/dask-scratch-space/worker-9zlcdf3g\n",
       "                        </td>\n",
       "                    </tr>\n",
       "\n",
       "                    \n",
       "\n",
       "                    \n",
       "\n",
       "                </table>\n",
       "            </details>\n",
       "            </div>\n",
       "        </div>\n",
       "        \n",
       "        <div style=\"margin-bottom: 20px;\">\n",
       "            <div style=\"width: 24px; height: 24px; background-color: #DBF5FF; border: 3px solid #4CC9FF; border-radius: 5px; position: absolute;\"> </div>\n",
       "            <div style=\"margin-left: 48px;\">\n",
       "            <details>\n",
       "                <summary>\n",
       "                    <h4 style=\"margin-bottom: 0px; display: inline;\">Worker: 3</h4>\n",
       "                </summary>\n",
       "                <table style=\"width: 100%; text-align: left;\">\n",
       "                    <tr>\n",
       "                        <td style=\"text-align: left;\">\n",
       "                            <strong>Comm: </strong> tcp://127.0.0.1:34073\n",
       "                        </td>\n",
       "                        <td style=\"text-align: left;\">\n",
       "                            <strong>Total threads: </strong> 1\n",
       "                        </td>\n",
       "                    </tr>\n",
       "                    <tr>\n",
       "                        <td style=\"text-align: left;\">\n",
       "                            <strong>Dashboard: </strong> <a href=\"/proxy/44165/status\" target=\"_blank\">/proxy/44165/status</a>\n",
       "                        </td>\n",
       "                        <td style=\"text-align: left;\">\n",
       "                            <strong>Memory: </strong> 0 B\n",
       "                        </td>\n",
       "                    </tr>\n",
       "                    <tr>\n",
       "                        <td style=\"text-align: left;\">\n",
       "                            <strong>Nanny: </strong> tcp://127.0.0.1:42101\n",
       "                        </td>\n",
       "                        <td style=\"text-align: left;\"></td>\n",
       "                    </tr>\n",
       "                    <tr>\n",
       "                        <td colspan=\"2\" style=\"text-align: left;\">\n",
       "                            <strong>Local directory: </strong> /jobfs/123849798.gadi-pbs/dask-scratch-space/worker-nq1715al\n",
       "                        </td>\n",
       "                    </tr>\n",
       "\n",
       "                    \n",
       "\n",
       "                    \n",
       "\n",
       "                </table>\n",
       "            </details>\n",
       "            </div>\n",
       "        </div>\n",
       "        \n",
       "        <div style=\"margin-bottom: 20px;\">\n",
       "            <div style=\"width: 24px; height: 24px; background-color: #DBF5FF; border: 3px solid #4CC9FF; border-radius: 5px; position: absolute;\"> </div>\n",
       "            <div style=\"margin-left: 48px;\">\n",
       "            <details>\n",
       "                <summary>\n",
       "                    <h4 style=\"margin-bottom: 0px; display: inline;\">Worker: 4</h4>\n",
       "                </summary>\n",
       "                <table style=\"width: 100%; text-align: left;\">\n",
       "                    <tr>\n",
       "                        <td style=\"text-align: left;\">\n",
       "                            <strong>Comm: </strong> tcp://127.0.0.1:36327\n",
       "                        </td>\n",
       "                        <td style=\"text-align: left;\">\n",
       "                            <strong>Total threads: </strong> 1\n",
       "                        </td>\n",
       "                    </tr>\n",
       "                    <tr>\n",
       "                        <td style=\"text-align: left;\">\n",
       "                            <strong>Dashboard: </strong> <a href=\"/proxy/37429/status\" target=\"_blank\">/proxy/37429/status</a>\n",
       "                        </td>\n",
       "                        <td style=\"text-align: left;\">\n",
       "                            <strong>Memory: </strong> 0 B\n",
       "                        </td>\n",
       "                    </tr>\n",
       "                    <tr>\n",
       "                        <td style=\"text-align: left;\">\n",
       "                            <strong>Nanny: </strong> tcp://127.0.0.1:39591\n",
       "                        </td>\n",
       "                        <td style=\"text-align: left;\"></td>\n",
       "                    </tr>\n",
       "                    <tr>\n",
       "                        <td colspan=\"2\" style=\"text-align: left;\">\n",
       "                            <strong>Local directory: </strong> /jobfs/123849798.gadi-pbs/dask-scratch-space/worker-s80wvfbp\n",
       "                        </td>\n",
       "                    </tr>\n",
       "\n",
       "                    \n",
       "\n",
       "                    \n",
       "\n",
       "                </table>\n",
       "            </details>\n",
       "            </div>\n",
       "        </div>\n",
       "        \n",
       "        <div style=\"margin-bottom: 20px;\">\n",
       "            <div style=\"width: 24px; height: 24px; background-color: #DBF5FF; border: 3px solid #4CC9FF; border-radius: 5px; position: absolute;\"> </div>\n",
       "            <div style=\"margin-left: 48px;\">\n",
       "            <details>\n",
       "                <summary>\n",
       "                    <h4 style=\"margin-bottom: 0px; display: inline;\">Worker: 5</h4>\n",
       "                </summary>\n",
       "                <table style=\"width: 100%; text-align: left;\">\n",
       "                    <tr>\n",
       "                        <td style=\"text-align: left;\">\n",
       "                            <strong>Comm: </strong> tcp://127.0.0.1:40123\n",
       "                        </td>\n",
       "                        <td style=\"text-align: left;\">\n",
       "                            <strong>Total threads: </strong> 1\n",
       "                        </td>\n",
       "                    </tr>\n",
       "                    <tr>\n",
       "                        <td style=\"text-align: left;\">\n",
       "                            <strong>Dashboard: </strong> <a href=\"/proxy/34135/status\" target=\"_blank\">/proxy/34135/status</a>\n",
       "                        </td>\n",
       "                        <td style=\"text-align: left;\">\n",
       "                            <strong>Memory: </strong> 0 B\n",
       "                        </td>\n",
       "                    </tr>\n",
       "                    <tr>\n",
       "                        <td style=\"text-align: left;\">\n",
       "                            <strong>Nanny: </strong> tcp://127.0.0.1:37771\n",
       "                        </td>\n",
       "                        <td style=\"text-align: left;\"></td>\n",
       "                    </tr>\n",
       "                    <tr>\n",
       "                        <td colspan=\"2\" style=\"text-align: left;\">\n",
       "                            <strong>Local directory: </strong> /jobfs/123849798.gadi-pbs/dask-scratch-space/worker-714w4rwl\n",
       "                        </td>\n",
       "                    </tr>\n",
       "\n",
       "                    \n",
       "\n",
       "                    \n",
       "\n",
       "                </table>\n",
       "            </details>\n",
       "            </div>\n",
       "        </div>\n",
       "        \n",
       "        <div style=\"margin-bottom: 20px;\">\n",
       "            <div style=\"width: 24px; height: 24px; background-color: #DBF5FF; border: 3px solid #4CC9FF; border-radius: 5px; position: absolute;\"> </div>\n",
       "            <div style=\"margin-left: 48px;\">\n",
       "            <details>\n",
       "                <summary>\n",
       "                    <h4 style=\"margin-bottom: 0px; display: inline;\">Worker: 6</h4>\n",
       "                </summary>\n",
       "                <table style=\"width: 100%; text-align: left;\">\n",
       "                    <tr>\n",
       "                        <td style=\"text-align: left;\">\n",
       "                            <strong>Comm: </strong> tcp://127.0.0.1:35209\n",
       "                        </td>\n",
       "                        <td style=\"text-align: left;\">\n",
       "                            <strong>Total threads: </strong> 1\n",
       "                        </td>\n",
       "                    </tr>\n",
       "                    <tr>\n",
       "                        <td style=\"text-align: left;\">\n",
       "                            <strong>Dashboard: </strong> <a href=\"/proxy/37769/status\" target=\"_blank\">/proxy/37769/status</a>\n",
       "                        </td>\n",
       "                        <td style=\"text-align: left;\">\n",
       "                            <strong>Memory: </strong> 0 B\n",
       "                        </td>\n",
       "                    </tr>\n",
       "                    <tr>\n",
       "                        <td style=\"text-align: left;\">\n",
       "                            <strong>Nanny: </strong> tcp://127.0.0.1:37155\n",
       "                        </td>\n",
       "                        <td style=\"text-align: left;\"></td>\n",
       "                    </tr>\n",
       "                    <tr>\n",
       "                        <td colspan=\"2\" style=\"text-align: left;\">\n",
       "                            <strong>Local directory: </strong> /jobfs/123849798.gadi-pbs/dask-scratch-space/worker-cj5_rubr\n",
       "                        </td>\n",
       "                    </tr>\n",
       "\n",
       "                    \n",
       "\n",
       "                    \n",
       "\n",
       "                </table>\n",
       "            </details>\n",
       "            </div>\n",
       "        </div>\n",
       "        \n",
       "        <div style=\"margin-bottom: 20px;\">\n",
       "            <div style=\"width: 24px; height: 24px; background-color: #DBF5FF; border: 3px solid #4CC9FF; border-radius: 5px; position: absolute;\"> </div>\n",
       "            <div style=\"margin-left: 48px;\">\n",
       "            <details>\n",
       "                <summary>\n",
       "                    <h4 style=\"margin-bottom: 0px; display: inline;\">Worker: 7</h4>\n",
       "                </summary>\n",
       "                <table style=\"width: 100%; text-align: left;\">\n",
       "                    <tr>\n",
       "                        <td style=\"text-align: left;\">\n",
       "                            <strong>Comm: </strong> tcp://127.0.0.1:33853\n",
       "                        </td>\n",
       "                        <td style=\"text-align: left;\">\n",
       "                            <strong>Total threads: </strong> 1\n",
       "                        </td>\n",
       "                    </tr>\n",
       "                    <tr>\n",
       "                        <td style=\"text-align: left;\">\n",
       "                            <strong>Dashboard: </strong> <a href=\"/proxy/32883/status\" target=\"_blank\">/proxy/32883/status</a>\n",
       "                        </td>\n",
       "                        <td style=\"text-align: left;\">\n",
       "                            <strong>Memory: </strong> 0 B\n",
       "                        </td>\n",
       "                    </tr>\n",
       "                    <tr>\n",
       "                        <td style=\"text-align: left;\">\n",
       "                            <strong>Nanny: </strong> tcp://127.0.0.1:38123\n",
       "                        </td>\n",
       "                        <td style=\"text-align: left;\"></td>\n",
       "                    </tr>\n",
       "                    <tr>\n",
       "                        <td colspan=\"2\" style=\"text-align: left;\">\n",
       "                            <strong>Local directory: </strong> /jobfs/123849798.gadi-pbs/dask-scratch-space/worker-0qrs7nq3\n",
       "                        </td>\n",
       "                    </tr>\n",
       "\n",
       "                    \n",
       "\n",
       "                    \n",
       "\n",
       "                </table>\n",
       "            </details>\n",
       "            </div>\n",
       "        </div>\n",
       "        \n",
       "        <div style=\"margin-bottom: 20px;\">\n",
       "            <div style=\"width: 24px; height: 24px; background-color: #DBF5FF; border: 3px solid #4CC9FF; border-radius: 5px; position: absolute;\"> </div>\n",
       "            <div style=\"margin-left: 48px;\">\n",
       "            <details>\n",
       "                <summary>\n",
       "                    <h4 style=\"margin-bottom: 0px; display: inline;\">Worker: 8</h4>\n",
       "                </summary>\n",
       "                <table style=\"width: 100%; text-align: left;\">\n",
       "                    <tr>\n",
       "                        <td style=\"text-align: left;\">\n",
       "                            <strong>Comm: </strong> tcp://127.0.0.1:44999\n",
       "                        </td>\n",
       "                        <td style=\"text-align: left;\">\n",
       "                            <strong>Total threads: </strong> 1\n",
       "                        </td>\n",
       "                    </tr>\n",
       "                    <tr>\n",
       "                        <td style=\"text-align: left;\">\n",
       "                            <strong>Dashboard: </strong> <a href=\"/proxy/33705/status\" target=\"_blank\">/proxy/33705/status</a>\n",
       "                        </td>\n",
       "                        <td style=\"text-align: left;\">\n",
       "                            <strong>Memory: </strong> 0 B\n",
       "                        </td>\n",
       "                    </tr>\n",
       "                    <tr>\n",
       "                        <td style=\"text-align: left;\">\n",
       "                            <strong>Nanny: </strong> tcp://127.0.0.1:34879\n",
       "                        </td>\n",
       "                        <td style=\"text-align: left;\"></td>\n",
       "                    </tr>\n",
       "                    <tr>\n",
       "                        <td colspan=\"2\" style=\"text-align: left;\">\n",
       "                            <strong>Local directory: </strong> /jobfs/123849798.gadi-pbs/dask-scratch-space/worker-v341hgq0\n",
       "                        </td>\n",
       "                    </tr>\n",
       "\n",
       "                    \n",
       "\n",
       "                    \n",
       "\n",
       "                </table>\n",
       "            </details>\n",
       "            </div>\n",
       "        </div>\n",
       "        \n",
       "        <div style=\"margin-bottom: 20px;\">\n",
       "            <div style=\"width: 24px; height: 24px; background-color: #DBF5FF; border: 3px solid #4CC9FF; border-radius: 5px; position: absolute;\"> </div>\n",
       "            <div style=\"margin-left: 48px;\">\n",
       "            <details>\n",
       "                <summary>\n",
       "                    <h4 style=\"margin-bottom: 0px; display: inline;\">Worker: 9</h4>\n",
       "                </summary>\n",
       "                <table style=\"width: 100%; text-align: left;\">\n",
       "                    <tr>\n",
       "                        <td style=\"text-align: left;\">\n",
       "                            <strong>Comm: </strong> tcp://127.0.0.1:39449\n",
       "                        </td>\n",
       "                        <td style=\"text-align: left;\">\n",
       "                            <strong>Total threads: </strong> 1\n",
       "                        </td>\n",
       "                    </tr>\n",
       "                    <tr>\n",
       "                        <td style=\"text-align: left;\">\n",
       "                            <strong>Dashboard: </strong> <a href=\"/proxy/43261/status\" target=\"_blank\">/proxy/43261/status</a>\n",
       "                        </td>\n",
       "                        <td style=\"text-align: left;\">\n",
       "                            <strong>Memory: </strong> 0 B\n",
       "                        </td>\n",
       "                    </tr>\n",
       "                    <tr>\n",
       "                        <td style=\"text-align: left;\">\n",
       "                            <strong>Nanny: </strong> tcp://127.0.0.1:37173\n",
       "                        </td>\n",
       "                        <td style=\"text-align: left;\"></td>\n",
       "                    </tr>\n",
       "                    <tr>\n",
       "                        <td colspan=\"2\" style=\"text-align: left;\">\n",
       "                            <strong>Local directory: </strong> /jobfs/123849798.gadi-pbs/dask-scratch-space/worker-5g2bgfew\n",
       "                        </td>\n",
       "                    </tr>\n",
       "\n",
       "                    \n",
       "\n",
       "                    \n",
       "\n",
       "                </table>\n",
       "            </details>\n",
       "            </div>\n",
       "        </div>\n",
       "        \n",
       "        <div style=\"margin-bottom: 20px;\">\n",
       "            <div style=\"width: 24px; height: 24px; background-color: #DBF5FF; border: 3px solid #4CC9FF; border-radius: 5px; position: absolute;\"> </div>\n",
       "            <div style=\"margin-left: 48px;\">\n",
       "            <details>\n",
       "                <summary>\n",
       "                    <h4 style=\"margin-bottom: 0px; display: inline;\">Worker: 10</h4>\n",
       "                </summary>\n",
       "                <table style=\"width: 100%; text-align: left;\">\n",
       "                    <tr>\n",
       "                        <td style=\"text-align: left;\">\n",
       "                            <strong>Comm: </strong> tcp://127.0.0.1:37295\n",
       "                        </td>\n",
       "                        <td style=\"text-align: left;\">\n",
       "                            <strong>Total threads: </strong> 1\n",
       "                        </td>\n",
       "                    </tr>\n",
       "                    <tr>\n",
       "                        <td style=\"text-align: left;\">\n",
       "                            <strong>Dashboard: </strong> <a href=\"/proxy/40935/status\" target=\"_blank\">/proxy/40935/status</a>\n",
       "                        </td>\n",
       "                        <td style=\"text-align: left;\">\n",
       "                            <strong>Memory: </strong> 0 B\n",
       "                        </td>\n",
       "                    </tr>\n",
       "                    <tr>\n",
       "                        <td style=\"text-align: left;\">\n",
       "                            <strong>Nanny: </strong> tcp://127.0.0.1:34429\n",
       "                        </td>\n",
       "                        <td style=\"text-align: left;\"></td>\n",
       "                    </tr>\n",
       "                    <tr>\n",
       "                        <td colspan=\"2\" style=\"text-align: left;\">\n",
       "                            <strong>Local directory: </strong> /jobfs/123849798.gadi-pbs/dask-scratch-space/worker-rwymxqks\n",
       "                        </td>\n",
       "                    </tr>\n",
       "\n",
       "                    \n",
       "\n",
       "                    \n",
       "\n",
       "                </table>\n",
       "            </details>\n",
       "            </div>\n",
       "        </div>\n",
       "        \n",
       "        <div style=\"margin-bottom: 20px;\">\n",
       "            <div style=\"width: 24px; height: 24px; background-color: #DBF5FF; border: 3px solid #4CC9FF; border-radius: 5px; position: absolute;\"> </div>\n",
       "            <div style=\"margin-left: 48px;\">\n",
       "            <details>\n",
       "                <summary>\n",
       "                    <h4 style=\"margin-bottom: 0px; display: inline;\">Worker: 11</h4>\n",
       "                </summary>\n",
       "                <table style=\"width: 100%; text-align: left;\">\n",
       "                    <tr>\n",
       "                        <td style=\"text-align: left;\">\n",
       "                            <strong>Comm: </strong> tcp://127.0.0.1:43057\n",
       "                        </td>\n",
       "                        <td style=\"text-align: left;\">\n",
       "                            <strong>Total threads: </strong> 1\n",
       "                        </td>\n",
       "                    </tr>\n",
       "                    <tr>\n",
       "                        <td style=\"text-align: left;\">\n",
       "                            <strong>Dashboard: </strong> <a href=\"/proxy/38285/status\" target=\"_blank\">/proxy/38285/status</a>\n",
       "                        </td>\n",
       "                        <td style=\"text-align: left;\">\n",
       "                            <strong>Memory: </strong> 0 B\n",
       "                        </td>\n",
       "                    </tr>\n",
       "                    <tr>\n",
       "                        <td style=\"text-align: left;\">\n",
       "                            <strong>Nanny: </strong> tcp://127.0.0.1:38989\n",
       "                        </td>\n",
       "                        <td style=\"text-align: left;\"></td>\n",
       "                    </tr>\n",
       "                    <tr>\n",
       "                        <td colspan=\"2\" style=\"text-align: left;\">\n",
       "                            <strong>Local directory: </strong> /jobfs/123849798.gadi-pbs/dask-scratch-space/worker-ig0mglua\n",
       "                        </td>\n",
       "                    </tr>\n",
       "\n",
       "                    \n",
       "\n",
       "                    \n",
       "\n",
       "                </table>\n",
       "            </details>\n",
       "            </div>\n",
       "        </div>\n",
       "        \n",
       "\n",
       "    </details>\n",
       "</div>\n",
       "\n",
       "        </details>\n",
       "    </div>\n",
       "</div>\n",
       "            </details>\n",
       "        \n",
       "\n",
       "    </div>\n",
       "</div>"
      ],
      "text/plain": [
       "<Client: 'tcp://127.0.0.1:44465' processes=12 threads=12>"
      ]
     },
     "execution_count": 6,
     "metadata": {},
     "output_type": "execute_result"
    },
    {
     "name": "stdout",
     "output_type": "stream",
     "text": [
      "- Event loop was unresponsive in Nanny for 28.22s.  This is often caused by long-running GIL-holding functions or moving large chunks of data. This can cause timeouts and instability.\n",
      "- Event loop was unresponsive in Nanny for 28.06s.  This is often caused by long-running GIL-holding functions or moving large chunks of data. This can cause timeouts and instability.\n",
      "- Event loop was unresponsive in Nanny for 28.06s.  This is often caused by long-running GIL-holding functions or moving large chunks of data. This can cause timeouts and instability.\n",
      "- Event loop was unresponsive in Nanny for 28.06s.  This is often caused by long-running GIL-holding functions or moving large chunks of data. This can cause timeouts and instability.\n",
      "- Event loop was unresponsive in Nanny for 28.06s.  This is often caused by long-running GIL-holding functions or moving large chunks of data. This can cause timeouts and instability.\n",
      "- Event loop was unresponsive in Nanny for 28.06s.  This is often caused by long-running GIL-holding functions or moving large chunks of data. This can cause timeouts and instability.\n",
      "- Event loop was unresponsive in Nanny for 28.06s.  This is often caused by long-running GIL-holding functions or moving large chunks of data. This can cause timeouts and instability.\n",
      "- Event loop was unresponsive in Nanny for 28.06s.  This is often caused by long-running GIL-holding functions or moving large chunks of data. This can cause timeouts and instability.\n",
      "- Event loop was unresponsive in Nanny for 28.06s.  This is often caused by long-running GIL-holding functions or moving large chunks of data. This can cause timeouts and instability.\n",
      "- Event loop was unresponsive in Nanny for 28.06s.  This is often caused by long-running GIL-holding functions or moving large chunks of data. This can cause timeouts and instability.\n",
      "- Event loop was unresponsive in Nanny for 28.07s.  This is often caused by long-running GIL-holding functions or moving large chunks of data. This can cause timeouts and instability.\n",
      "- Event loop was unresponsive in Nanny for 28.07s.  This is often caused by long-running GIL-holding functions or moving large chunks of data. This can cause timeouts and instability.\n",
      "- Event loop was unresponsive in Scheduler for 28.07s.  This is often caused by long-running GIL-holding functions or moving large chunks of data. This can cause timeouts and instability.\n",
      "- Failed to Serialize\n",
      "Traceback (most recent call last):\n",
      "  File \"/g/data/hh5/public/apps/miniconda3/envs/analysis3-24.07/lib/python3.10/site-packages/distributed/protocol/core.py\", line 109, in dumps\n",
      "    frames[0] = msgpack.dumps(msg, default=_encode_default, use_bin_type=True)\n",
      "  File \"/g/data/hh5/public/apps/miniconda3/envs/analysis3-24.07/lib/python3.10/site-packages/msgpack/__init__.py\", line 36, in packb\n",
      "    return Packer(**kwargs).pack(o)\n",
      "  File \"msgpack/_packer.pyx\", line 294, in msgpack._cmsgpack.Packer.pack\n",
      "  File \"msgpack/_packer.pyx\", line 300, in msgpack._cmsgpack.Packer.pack\n",
      "  File \"msgpack/_packer.pyx\", line 297, in msgpack._cmsgpack.Packer.pack\n",
      "  File \"msgpack/_packer.pyx\", line 264, in msgpack._cmsgpack.Packer._pack\n",
      "  File \"msgpack/_packer.pyx\", line 231, in msgpack._cmsgpack.Packer._pack\n",
      "  File \"msgpack/_packer.pyx\", line 264, in msgpack._cmsgpack.Packer._pack\n",
      "  File \"msgpack/_packer.pyx\", line 202, in msgpack._cmsgpack.Packer._pack\n",
      "ValueError: bytes object is too large\n"
     ]
    }
   ],
   "source": [
    "from dask.distributed import Client\n",
    "client = Client(memory_limit=None, threads_per_worker=1, n_workers=12)\n",
    "client"
   ]
  },
  {
   "cell_type": "code",
   "execution_count": 7,
   "id": "a66391f6-90a1-4ab2-b417-8beb746232d9",
   "metadata": {},
   "outputs": [],
   "source": [
    "# One projeciton for when it is to be passed into a function. The other is when I am using it here.\n",
    "# The passed function version also then used the same central longitude.\n",
    "projection = ccrs.PlateCarree\n",
    "projection_init = ccrs.PlateCarree()#central_longitude=np.mean(year_stable_model_average.lon.values))"
   ]
  },
  {
   "cell_type": "code",
   "execution_count": 8,
   "id": "51216c1a-9ac0-4d60-b29c-4234db7c7c10",
   "metadata": {},
   "outputs": [],
   "source": [
    "units =  r'$^{\\circ}C$'"
   ]
  },
  {
   "cell_type": "code",
   "execution_count": 9,
   "id": "611b9471-9eb3-422e-a33e-bf6ace7fd302",
   "metadata": {},
   "outputs": [],
   "source": [
    "NAMING_MAP = {'gl': 'Global',\n",
    " 'nh': 'Northern Hemisphere',\n",
    " 'sh': 'Southern Hemisphere',\n",
    " 'tropics': 'Tropics',\n",
    " 'land': 'Land',\n",
    " 'ocean': 'Ocean',\n",
    " 'mid_nh': 'Mid Latitudes NH',\n",
    " 'mid_sh': 'Mid Latitudes SH',\n",
    " 'arctic': 'Arctic',\n",
    " 'antarctic': 'Antarctic',\n",
    " 'global_warm': 'Warming Trends',\n",
    " 'global_cool': 'Cooling Trends'}"
   ]
  },
  {
   "cell_type": "code",
   "execution_count": 10,
   "id": "f29a8a73-b9e5-4763-91fa-cdf76f425e07",
   "metadata": {},
   "outputs": [
    {
     "data": {
      "text/plain": [
       "['--', '-', '--', '-', '--', '-', '--', '-', '--', '-']"
      ]
     },
     "execution_count": 10,
     "metadata": {},
     "output_type": "execute_result"
    }
   ],
   "source": [
    "# linestyles = ['--', '-'] * int(np.ceil(len(percent_stable_timeseries_data.model.values)/2))\n",
    "linestyles = ['--', '-'] *5#int(np.ceil(len(percent_stable_timeseries_ds.model.values)/2))\n",
    "\n",
    "linestyles"
   ]
  },
  {
   "cell_type": "code",
   "execution_count": 11,
   "id": "ebe1f7de-aa9b-4655-ab0e-68860b97825c",
   "metadata": {},
   "outputs": [],
   "source": [
    "ZEC_LINESTYLE_DICT = {\n",
    "    'GISS-E2-1-G-CC': {'value': -0.09, 'color': '#add8e6', 'linestyle':  (0, (1, 1))},\n",
    "     'CanESM5': {'value': -0.102, 'color': '#87ceeb', 'linestyle': '-'},\n",
    "     'MIROC-ES2L': {'value': -0.109, 'color': '#6495ed', 'linestyle': ':'},\n",
    "     'GFDL-ESM4': {'value': -0.205, 'color': '#4169e1', 'linestyle': '--'},\n",
    "     'MPI-ESM1-2-LR': {'value': -0.27, 'color': '#1e90ff', 'linestyle': '-'},\n",
    "     'CESM2': {'value': -0.31, 'color': '#0000cd', 'linestyle': '-'},\n",
    "     'NorESM2-LM': {'value': -0.334,'color': '#00008b','linestyle': (0, (5, 1, 1, 1))},\n",
    "     'ACCESS-ESM1-5': {'value': 0.011, 'color': [0.99, 0.7 , 0.48, 1.  ], 'linestyle': ':'},\n",
    "     'UKESM1-0-LL': {'value': 0.289, 'color': [0.79, 0.11, 0.07, 1.  ]}}"
   ]
  },
  {
   "cell_type": "code",
   "execution_count": 12,
   "id": "b016209a-c246-4cba-b678-dc58402d62f3",
   "metadata": {},
   "outputs": [
    {
     "data": {
      "text/plain": [
       "array(['NorESM2-LM', 'CESM2', 'MPI-ESM1-2-LR', 'GFDL-ESM4', 'MIROC-ES2L',\n",
       "       'CanESM5', 'GISS-E2-1-G-CC', 'ACCESS-ESM1-5', 'UKESM1-0-LL'],\n",
       "      dtype='<U14')"
      ]
     },
     "execution_count": 12,
     "metadata": {},
     "output_type": "execute_result"
    }
   ],
   "source": [
    "# Sorting the models by their ZEC values\n",
    "zec_values = list(map(lambda x: x['value'], list(ZEC_LINESTYLE_DICT.values())))\n",
    "models = np.array(list(ZEC_LINESTYLE_DICT))\n",
    "models_sorted = models[np.argsort(zec_values)]\n",
    "models_sorted_name = np.sort(models_sorted)\n",
    "\n",
    "models_sorted"
   ]
  },
  {
   "cell_type": "code",
   "execution_count": 13,
   "id": "35ee7a11-74ab-44eb-a6fe-cd937e8ea185",
   "metadata": {},
   "outputs": [
    {
     "name": "stdout",
     "output_type": "stream",
     "text": [
      "[-3.   -2.67 -2.33 -2.   -1.67 -1.33 -1.   -0.67 -0.33]\n",
      "[-0.33  0.    0.33  0.67  1.    1.33  1.67  2.    2.33  2.67  3.  ]\n"
     ]
    }
   ],
   "source": [
    "sn_cmap, sn_levels = sn_plotting.generte_sn_cmap_and_levels(1/3)"
   ]
  },
  {
   "cell_type": "markdown",
   "id": "b8b00e6c-f705-4127-842a-92ec34b25034",
   "metadata": {},
   "source": [
    "# Calculations"
   ]
  },
  {
   "cell_type": "markdown",
   "id": "8ca4a09f-d9e2-435e-9a29-5dc3fde5f166",
   "metadata": {},
   "source": [
    "## Opening Data"
   ]
  },
  {
   "cell_type": "code",
   "execution_count": 14,
   "id": "eb6096a7-7b00-49d1-b923-14cf61f72ff7",
   "metadata": {},
   "outputs": [],
   "source": [
    "chunks = {'lat':-1, 'lon':-1, 'time':-1, 'ensemble':-1}"
   ]
  },
  {
   "cell_type": "code",
   "execution_count": 15,
   "id": "3ed8d142-e279-47d6-9c72-d2bdbf9fe4a4",
   "metadata": {},
   "outputs": [],
   "source": [
    "a1_raw_data = (open_zecmip.extract_experiment_into_xrlist(\n",
    "    '1000pgc', 'tas', chunks=chunks, logginglevel='ERROR')\n",
    "                 .to_dataarray('tas')\n",
    "                 .sort_by_refkey())"
   ]
  },
  {
   "cell_type": "code",
   "execution_count": 16,
   "id": "d18c5d31-0a17-43ed-bf44-2578a8e9254f",
   "metadata": {},
   "outputs": [
    {
     "name": "stdout",
     "output_type": "stream",
     "text": [
      "key_dim = model\n"
     ]
    },
    {
     "data": {
      "text/plain": [
       "Number of da/ds: 9\n",
       "---------------\n",
       "ACCESS-ESM1-5  (dataArray): ({'ensemble': 1, 'model': 1, 'time': 1212, 'lat': 145, 'lon': 192})\n",
       "              (Array: 128.72, Chunk: 128.72Mib) ({'ensemble': (1,), 'model': (1,), 'time': (1212,), 'lat': (145,), 'lon': (192,)})\n",
       "CESM2          (dataArray): ({'ensemble': 1, 'model': 1, 'time': 1800, 'lat': 192, 'lon': 288})\n",
       "              (Array: 379.69, Chunk: 126.56Mib) ({'ensemble': (1,), 'model': (1,), 'time': (600, 600, 600), 'lat': (192,), 'lon': (288,)})\n",
       "CanESM5        (dataArray): ({'ensemble': 5, 'model': 1, 'time': 1200, 'lat': 64, 'lon': 128})\n",
       "              (Array: 187.50, Chunk: 37.5Mib) ({'ensemble': (1, 1, 1, 1, 1), 'model': (1,), 'time': (1200,), 'lat': (64,), 'lon': (128,)})\n",
       "GFDL-ESM4      (dataArray): ({'ensemble': 1, 'model': 1, 'time': 2400, 'lat': 180, 'lon': 288})\n",
       "              (Array: 474.61, Chunk: 237.3Mib) ({'ensemble': (1,), 'model': (1,), 'time': (1200, 1200), 'lat': (180,), 'lon': (288,)})\n",
       "GISS-E2-1-G-CC (dataArray): ({'ensemble': 1, 'model': 1, 'time': 2160, 'lat': 90, 'lon': 144})\n",
       "              (Array: 106.79, Chunk: 18.39Mib) ({'ensemble': (1,), 'model': (1,), 'time': (372, 600, 600, 588), 'lat': (90,), 'lon': (144,)})\n",
       "MIROC-ES2L     (dataArray): ({'ensemble': 1, 'model': 1, 'time': 2976, 'lat': 64, 'lon': 128})\n",
       "              (Array: 93.00, Chunk: 75.0Mib) ({'ensemble': (1,), 'model': (1,), 'time': (2400, 576), 'lat': (64,), 'lon': (128,)})\n",
       "MPI-ESM1-2-LR  (dataArray): ({'ensemble': 1, 'model': 1, 'time': 2220, 'lat': 96, 'lon': 192})\n",
       "              (Array: 156.09, Chunk: 16.88Mib) ({'ensemble': (1,), 'model': (1,), 'time': (240, 240, 240, 240, 240, 240, 240, 240, 240, 60), 'lat': (96,), 'lon': (192,)})\n",
       "NorESM2-LM     (dataArray): ({'ensemble': 1, 'model': 1, 'time': 1200, 'lat': 96, 'lon': 144})\n",
       "              (Array: 63.28, Chunk: 6.33Mib) ({'ensemble': (1,), 'model': (1,), 'time': (120, 120, 120, 120, 120, 120, 120, 120, 120, 120), 'lat': (96,), 'lon': (144,)})\n",
       "UKESM1-0-LL    (dataArray): ({'ensemble': 4, 'model': 1, 'time': 3960, 'lat': 144, 'lon': 192})\n",
       "              (Array: 1670.62, Chunk: 43.03Mib) ({'ensemble': (1, 1, 1, 1), 'model': (1,), 'time': (408, 312, 20, 58, 642, 40, 116, 12, 552, 60, 174, 414, 72, 80, 232, 408, 100, 260), 'lat': (144,), 'lon': (192,)})"
      ]
     },
     "execution_count": 16,
     "metadata": {},
     "output_type": "execute_result"
    }
   ],
   "source": [
    "a1_raw_data"
   ]
  },
  {
   "cell_type": "code",
   "execution_count": 17,
   "id": "b712ac58-c86a-4af9-90be-e09510abc25f",
   "metadata": {},
   "outputs": [
    {
     "name": "stdout",
     "output_type": "stream",
     "text": [
      "key_dim = model\n"
     ]
    },
    {
     "data": {
      "text/plain": [
       "Number of da/ds: 2\n",
       "---------------\n",
       "CESM2      (dataArray): ({'ensemble': 1, 'model': 1, 'time': 1800, 'lat': 192, 'lon': 288})\n",
       "          (Array: 379.69, Chunk: 126.56Mib) ({'ensemble': (1,), 'model': (1,), 'time': (600, 600, 600), 'lat': (192,), 'lon': (288,)})\n",
       "NorESM2-LM (dataArray): ({'ensemble': 1, 'model': 1, 'time': 1200, 'lat': 96, 'lon': 144})\n",
       "          (Array: 63.28, Chunk: 6.33Mib) ({'ensemble': (1,), 'model': (1,), 'time': (120, 120, 120, 120, 120, 120, 120, 120, 120, 120), 'lat': (96,), 'lon': (144,)})"
      ]
     },
     "execution_count": 17,
     "metadata": {},
     "output_type": "execute_result"
    }
   ],
   "source": [
    "a1_raw_data.sel(model=['CESM2', 'NorESM2-LM'])"
   ]
  },
  {
   "cell_type": "code",
   "execution_count": 18,
   "id": "221eb7a2-606a-4e5d-a5d3-3f1d8afa4aaa",
   "metadata": {},
   "outputs": [
    {
     "name": "stdout",
     "output_type": "stream",
     "text": [
      "key_dim = model\n"
     ]
    },
    {
     "data": {
      "text/plain": [
       "Number of da/ds: 3\n",
       "---------------\n",
       "ACCESS-ESM1-5 (dataArray): ({'ensemble': 1, 'model': 1, 'time': 1800, 'lat': 192, 'lon': 288})\n",
       "             (Array: 379.69, Chunk: 126.56Mib) ({'ensemble': (1,), 'model': (1,), 'time': (600, 600, 600), 'lat': (192,), 'lon': (288,)})\n",
       "CESM2         (dataArray): ({'ensemble': 5, 'model': 1, 'time': 1200, 'lat': 64, 'lon': 128})\n",
       "             (Array: 187.50, Chunk: 37.5Mib) ({'ensemble': (1, 1, 1, 1, 1), 'model': (1,), 'time': (1200,), 'lat': (64,), 'lon': (128,)})\n",
       "CanESM5       (dataArray): ({'ensemble': 1, 'model': 1, 'time': 2160, 'lat': 90, 'lon': 144})\n",
       "             (Array: 106.79, Chunk: 18.39Mib) ({'ensemble': (1,), 'model': (1,), 'time': (372, 600, 600, 588), 'lat': (90,), 'lon': (144,)})"
      ]
     },
     "execution_count": 18,
     "metadata": {},
     "output_type": "execute_result"
    }
   ],
   "source": [
    "a1_raw_data.isel(model=[1,2,4])"
   ]
  },
  {
   "cell_type": "code",
   "execution_count": 19,
   "id": "a60075d0-ddf8-4535-b632-4f2252397798",
   "metadata": {},
   "outputs": [],
   "source": [
    "pct_raw_data =  (open_zecmip.extract_experiment_into_xrlist('1pct', 'tas', chunks=chunks)\n",
    "                   .to_dataarray('tas')\n",
    "                   .sort_by_refkey())"
   ]
  },
  {
   "cell_type": "code",
   "execution_count": 20,
   "id": "61fbeff6-7f20-47dc-a4e0-68e775651ed7",
   "metadata": {},
   "outputs": [
    {
     "name": "stdout",
     "output_type": "stream",
     "text": [
      "- ACCESS-ESM1-5\n",
      "-      r1i1p1f1 - /g/data/fs38/publications/CMIP6/CMIP/CSIRO/ACCESS-ESM1-5/piControl/r1i1p1f1/Amon/tas/gn/v20210316/*.nc\n",
      "- CanESM5\n",
      "-      r1i1p1f1 - /g/data/oi10/replicas/CMIP6/CMIP/CCCma/CanESM5/piControl/r1i1p1f1/Amon/tas/gn/v20190429/*.nc\n",
      "-      r1i1p2f1 - /g/data/oi10/replicas/CMIP6/CMIP/CCCma/CanESM5/piControl/r1i1p2f1/Amon/tas/gn/v20190429/*.nc\n",
      "- MIROC-ES2L\n",
      "-      r1i1p1f2 - /g/data/oi10/replicas/CMIP6/CMIP/MIROC/MIROC-ES2L/piControl/r1i1p1f2/Amon/tas/gn/v20190823/*.nc\n",
      "- UKESM1-0-LL\n",
      "-      r1i1p1f2 - /g/data/oi10/replicas/CMIP6/CMIP/MOHC/UKESM1-0-LL/piControl/r1i1p1f2/Amon/tas/gn/v20200828/*.nc\n",
      "- MPI-ESM1-2-LR\n",
      "-      r1i1p1f1 - /g/data/oi10/replicas/CMIP6/CMIP/MPI-M/MPI-ESM1-2-LR/piControl/r1i1p1f1/Amon/tas/gn/v20190710/*.nc\n",
      "-      r2i1p1f1 - /g/data/oi10/replicas/CMIP6/CMIP/MPI-M/MPI-ESM1-2-LR/piControl/r2i1p1f1/Amon/tas/gn/v20190815/*.nc\n",
      "- GISS-E2-1-G-CC\n",
      "-      r1i1p1f1 - /g/data/oi10/replicas/CMIP6/CMIP/NASA-GISS/GISS-E2-1-G-CC/piControl/r1i1p1f1/Amon/tas/gn/v20190815/*.nc\n",
      "- CESM2\n",
      "-      r1i1p1f1 - /g/data/oi10/replicas/CMIP6/CMIP/NCAR/CESM2/piControl/r1i1p1f1/Amon/tas/gn/v20190320/*.nc\n",
      "- NorESM2-LM\n",
      "-      r1i1p1f1 - /g/data/oi10/replicas/CMIP6/CMIP/NCC/NorESM2-LM/piControl/r1i1p1f1/Amon/tas/gn/v20210118/*.nc\n",
      "- GFDL-ESM4\n",
      "-      r1i1p1f1 - /g/data/oi10/replicas/CMIP6/CMIP/NOAA-GFDL/GFDL-ESM4/piControl/r1i1p1f1/Amon/tas/gr1/v20180701/*.nc\n"
     ]
    }
   ],
   "source": [
    "# pi-Control (not ESM)\n",
    "esmpi_raw_data = (open_zecmip.extract_experiment_into_xrlist('picontrol', 'tas', chunks=chunks, logginglevel='INFO')\n",
    "                    .to_dataarray('tas')\n",
    "                    .isel(ensemble=0)\n",
    "                    .squeeze('ensemble')\n",
    "                    .sort_by_refkey()\n",
    "                    .rename({'latitude':'lat', 'longitude': 'lon'}))"
   ]
  },
  {
   "cell_type": "code",
   "execution_count": 21,
   "id": "5a197be0-68cb-4764-b940-cca580d3767f",
   "metadata": {},
   "outputs": [],
   "source": [
    "### ESM-pi-Control\n",
    "# esmpi_raw_data = (open_zecmip.extract_experiment_into_data('esm-piControl', 'tas', logginglevel='INFO') #esm-piControl'\n",
    "#                     .to_dataarray('tas')\n",
    "#                     # .isel(ensemble=0)\n",
    "#                     # .squeeze('ensemble')\n",
    "#                     .sort_by_refkey()\n",
    "#                     .rename({'latitude':'lat', 'longitude': 'lon'}))"
   ]
  },
  {
   "cell_type": "code",
   "execution_count": 22,
   "id": "3448943d-8533-4357-be13-5140fc62c1ba",
   "metadata": {},
   "outputs": [
    {
     "name": "stdout",
     "output_type": "stream",
     "text": [
      "key_dim = model\n"
     ]
    },
    {
     "data": {
      "text/plain": [
       "Number of da/ds: 9\n",
       "---------------\n",
       "ACCESS-ESM1-5  (dataArray): ({'model': 1, 'time': 12000, 'lat': 145, 'lon': 192})\n",
       "              (Array: 1274.41, Chunk: 637.21Mib) ({'model': (1,), 'time': (6000, 4800, 1200), 'lat': (145,), 'lon': (192,)})\n",
       "CESM2          (dataArray): ({'model': 1, 'time': 14400, 'lat': 192, 'lon': 288})\n",
       "              (Array: 3037.50, Chunk: 250.59Mib) ({'model': (1,), 'time': (1188, 1200, 1200, 1200, 1200, 1200, 1200, 1200, 1200, 1200, 1200, 1212), 'lat': (192,), 'lon': (288,)})\n",
       "CanESM5        (dataArray): ({'model': 1, 'time': 16800, 'lat': 64, 'lon': 128})\n",
       "              (Array: 525.00, Chunk: 65.69Mib) ({'model': (1,), 'time': (2102, 298, 1804, 596, 1506, 894, 1208, 1192, 910, 1490, 612, 1788, 314, 2086), 'lat': (64,), 'lon': (128,)})\n",
       "GFDL-ESM4      (dataArray): ({'model': 1, 'time': 6000, 'lat': 180, 'lon': 288})\n",
       "              (Array: 1186.52, Chunk: 237.3Mib) ({'model': (1,), 'time': (1200, 1200, 1200, 1200, 1200), 'lat': (180,), 'lon': (288,)})\n",
       "GISS-E2-1-G-CC (dataArray): ({'model': 1, 'time': 1980, 'lat': 90, 'lon': 144})\n",
       "              (Array: 97.89, Chunk: 30.26Mib) ({'model': (1,), 'time': (612, 600, 600, 168), 'lat': (90,), 'lon': (144,)})\n",
       "MIROC-ES2L     (dataArray): ({'model': 1, 'time': 6000, 'lat': 64, 'lon': 128})\n",
       "              (Array: 187.50, Chunk: 75.0Mib) ({'model': (1,), 'time': (2400, 2400, 1200), 'lat': (64,), 'lon': (128,)})\n",
       "MPI-ESM1-2-LR  (dataArray): ({'model': 1, 'time': 12000, 'lat': 96, 'lon': 192})\n",
       "              (Array: 843.75, Chunk: 16.88Mib) ({'model': (1,), 'time': (240, 240, 240, 240, 240, 240, 240, 240, 240, 240, 240, 240, 240, 240, 240, 240, 240, 240, 240, 240, 240, 240, 240, 240, 240, 240, 240, 240, 240, 240, 240, 240, 240, 240, 240, 240, 240, 240, 240, 240, 240, 240, 240, 240, 240, 240, 240, 240, 240, 240), 'lat': (96,), 'lon': (192,)})\n",
       "NorESM2-LM     (dataArray): ({'model': 1, 'time': 6012, 'lat': 96, 'lon': 144})\n",
       "              (Array: 317.04, Chunk: 6.33Mib) ({'model': (1,), 'time': (120, 120, 120, 120, 120, 120, 120, 120, 120, 120, 120, 120, 120, 120, 120, 120, 120, 120, 120, 120, 12, 120, 120, 120, 120, 120, 120, 120, 120, 120, 120, 120, 120, 120, 120, 120, 120, 120, 120, 120, 120, 120, 120, 120, 120, 120, 120, 120, 120, 120, 120), 'lat': (96,), 'lon': (144,)})\n",
       "UKESM1-0-LL    (dataArray): ({'model': 1, 'time': 22560, 'lat': 144, 'lon': 192})\n",
       "              (Array: 2379.38, Chunk: 113.91Mib) ({'model': (1,), 'time': (1080, 1200, 1200, 1200, 1200, 1200, 1200, 720, 480, 1200, 1200, 1200, 120, 1080, 1200, 1200, 1200, 1200, 1200, 1200, 1080), 'lat': (144,), 'lon': (192,)})"
      ]
     },
     "execution_count": 22,
     "metadata": {},
     "output_type": "execute_result"
    }
   ],
   "source": [
    "esmpi_raw_data"
   ]
  },
  {
   "cell_type": "code",
   "execution_count": 23,
   "id": "8743ba66-a526-4d53-b893-8d5ba4b32300",
   "metadata": {},
   "outputs": [],
   "source": [
    "# Making sure that the ensembles match. NOTE -  this can not be done\n",
    "# with the piControl\n",
    "a1_raw_data = a1_raw_data.cross_match_dim(pct_raw_data, 'ensemble')\n",
    "pct_raw_data = pct_raw_data.cross_match_dim(a1_raw_data, 'ensemble')"
   ]
  },
  {
   "cell_type": "code",
   "execution_count": 24,
   "id": "03c13f4f-8d0d-4330-a1d7-93efcc5369c1",
   "metadata": {},
   "outputs": [],
   "source": [
    "# We are just looking at a single ensemble here.\n",
    "a1_raw_data = a1_raw_data.isel(ensemble=0)\n",
    "pct_raw_data = pct_raw_data.isel(ensemble=0)\n",
    "esmpi_raw_data = esmpi_raw_data.isel(ensemble=0)"
   ]
  },
  {
   "cell_type": "code",
   "execution_count": 25,
   "id": "773b07f5-8249-47a8-bc3b-f2cc94cb72b5",
   "metadata": {},
   "outputs": [
    {
     "data": {
      "text/html": [
       "<div><svg style=\"position: absolute; width: 0; height: 0; overflow: hidden\">\n",
       "<defs>\n",
       "<symbol id=\"icon-database\" viewBox=\"0 0 32 32\">\n",
       "<path d=\"M16 0c-8.837 0-16 2.239-16 5v4c0 2.761 7.163 5 16 5s16-2.239 16-5v-4c0-2.761-7.163-5-16-5z\"></path>\n",
       "<path d=\"M16 17c-8.837 0-16-2.239-16-5v6c0 2.761 7.163 5 16 5s16-2.239 16-5v-6c0 2.761-7.163 5-16 5z\"></path>\n",
       "<path d=\"M16 26c-8.837 0-16-2.239-16-5v6c0 2.761 7.163 5 16 5s16-2.239 16-5v-6c0 2.761-7.163 5-16 5z\"></path>\n",
       "</symbol>\n",
       "<symbol id=\"icon-file-text2\" viewBox=\"0 0 32 32\">\n",
       "<path d=\"M28.681 7.159c-0.694-0.947-1.662-2.053-2.724-3.116s-2.169-2.030-3.116-2.724c-1.612-1.182-2.393-1.319-2.841-1.319h-15.5c-1.378 0-2.5 1.121-2.5 2.5v27c0 1.378 1.122 2.5 2.5 2.5h23c1.378 0 2.5-1.122 2.5-2.5v-19.5c0-0.448-0.137-1.23-1.319-2.841zM24.543 5.457c0.959 0.959 1.712 1.825 2.268 2.543h-4.811v-4.811c0.718 0.556 1.584 1.309 2.543 2.268zM28 29.5c0 0.271-0.229 0.5-0.5 0.5h-23c-0.271 0-0.5-0.229-0.5-0.5v-27c0-0.271 0.229-0.5 0.5-0.5 0 0 15.499-0 15.5 0v7c0 0.552 0.448 1 1 1h7v19.5z\"></path>\n",
       "<path d=\"M23 26h-14c-0.552 0-1-0.448-1-1s0.448-1 1-1h14c0.552 0 1 0.448 1 1s-0.448 1-1 1z\"></path>\n",
       "<path d=\"M23 22h-14c-0.552 0-1-0.448-1-1s0.448-1 1-1h14c0.552 0 1 0.448 1 1s-0.448 1-1 1z\"></path>\n",
       "<path d=\"M23 18h-14c-0.552 0-1-0.448-1-1s0.448-1 1-1h14c0.552 0 1 0.448 1 1s-0.448 1-1 1z\"></path>\n",
       "</symbol>\n",
       "</defs>\n",
       "</svg>\n",
       "<style>/* CSS stylesheet for displaying xarray objects in jupyterlab.\n",
       " *\n",
       " */\n",
       "\n",
       ":root {\n",
       "  --xr-font-color0: var(--jp-content-font-color0, rgba(0, 0, 0, 1));\n",
       "  --xr-font-color2: var(--jp-content-font-color2, rgba(0, 0, 0, 0.54));\n",
       "  --xr-font-color3: var(--jp-content-font-color3, rgba(0, 0, 0, 0.38));\n",
       "  --xr-border-color: var(--jp-border-color2, #e0e0e0);\n",
       "  --xr-disabled-color: var(--jp-layout-color3, #bdbdbd);\n",
       "  --xr-background-color: var(--jp-layout-color0, white);\n",
       "  --xr-background-color-row-even: var(--jp-layout-color1, white);\n",
       "  --xr-background-color-row-odd: var(--jp-layout-color2, #eeeeee);\n",
       "}\n",
       "\n",
       "html[theme=dark],\n",
       "html[data-theme=dark],\n",
       "body[data-theme=dark],\n",
       "body.vscode-dark {\n",
       "  --xr-font-color0: rgba(255, 255, 255, 1);\n",
       "  --xr-font-color2: rgba(255, 255, 255, 0.54);\n",
       "  --xr-font-color3: rgba(255, 255, 255, 0.38);\n",
       "  --xr-border-color: #1F1F1F;\n",
       "  --xr-disabled-color: #515151;\n",
       "  --xr-background-color: #111111;\n",
       "  --xr-background-color-row-even: #111111;\n",
       "  --xr-background-color-row-odd: #313131;\n",
       "}\n",
       "\n",
       ".xr-wrap {\n",
       "  display: block !important;\n",
       "  min-width: 300px;\n",
       "  max-width: 700px;\n",
       "}\n",
       "\n",
       ".xr-text-repr-fallback {\n",
       "  /* fallback to plain text repr when CSS is not injected (untrusted notebook) */\n",
       "  display: none;\n",
       "}\n",
       "\n",
       ".xr-header {\n",
       "  padding-top: 6px;\n",
       "  padding-bottom: 6px;\n",
       "  margin-bottom: 4px;\n",
       "  border-bottom: solid 1px var(--xr-border-color);\n",
       "}\n",
       "\n",
       ".xr-header > div,\n",
       ".xr-header > ul {\n",
       "  display: inline;\n",
       "  margin-top: 0;\n",
       "  margin-bottom: 0;\n",
       "}\n",
       "\n",
       ".xr-obj-type,\n",
       ".xr-array-name {\n",
       "  margin-left: 2px;\n",
       "  margin-right: 10px;\n",
       "}\n",
       "\n",
       ".xr-obj-type {\n",
       "  color: var(--xr-font-color2);\n",
       "}\n",
       "\n",
       ".xr-sections {\n",
       "  padding-left: 0 !important;\n",
       "  display: grid;\n",
       "  grid-template-columns: 150px auto auto 1fr 20px 20px;\n",
       "}\n",
       "\n",
       ".xr-section-item {\n",
       "  display: contents;\n",
       "}\n",
       "\n",
       ".xr-section-item input {\n",
       "  display: none;\n",
       "}\n",
       "\n",
       ".xr-section-item input + label {\n",
       "  color: var(--xr-disabled-color);\n",
       "}\n",
       "\n",
       ".xr-section-item input:enabled + label {\n",
       "  cursor: pointer;\n",
       "  color: var(--xr-font-color2);\n",
       "}\n",
       "\n",
       ".xr-section-item input:enabled + label:hover {\n",
       "  color: var(--xr-font-color0);\n",
       "}\n",
       "\n",
       ".xr-section-summary {\n",
       "  grid-column: 1;\n",
       "  color: var(--xr-font-color2);\n",
       "  font-weight: 500;\n",
       "}\n",
       "\n",
       ".xr-section-summary > span {\n",
       "  display: inline-block;\n",
       "  padding-left: 0.5em;\n",
       "}\n",
       "\n",
       ".xr-section-summary-in:disabled + label {\n",
       "  color: var(--xr-font-color2);\n",
       "}\n",
       "\n",
       ".xr-section-summary-in + label:before {\n",
       "  display: inline-block;\n",
       "  content: '►';\n",
       "  font-size: 11px;\n",
       "  width: 15px;\n",
       "  text-align: center;\n",
       "}\n",
       "\n",
       ".xr-section-summary-in:disabled + label:before {\n",
       "  color: var(--xr-disabled-color);\n",
       "}\n",
       "\n",
       ".xr-section-summary-in:checked + label:before {\n",
       "  content: '▼';\n",
       "}\n",
       "\n",
       ".xr-section-summary-in:checked + label > span {\n",
       "  display: none;\n",
       "}\n",
       "\n",
       ".xr-section-summary,\n",
       ".xr-section-inline-details {\n",
       "  padding-top: 4px;\n",
       "  padding-bottom: 4px;\n",
       "}\n",
       "\n",
       ".xr-section-inline-details {\n",
       "  grid-column: 2 / -1;\n",
       "}\n",
       "\n",
       ".xr-section-details {\n",
       "  display: none;\n",
       "  grid-column: 1 / -1;\n",
       "  margin-bottom: 5px;\n",
       "}\n",
       "\n",
       ".xr-section-summary-in:checked ~ .xr-section-details {\n",
       "  display: contents;\n",
       "}\n",
       "\n",
       ".xr-array-wrap {\n",
       "  grid-column: 1 / -1;\n",
       "  display: grid;\n",
       "  grid-template-columns: 20px auto;\n",
       "}\n",
       "\n",
       ".xr-array-wrap > label {\n",
       "  grid-column: 1;\n",
       "  vertical-align: top;\n",
       "}\n",
       "\n",
       ".xr-preview {\n",
       "  color: var(--xr-font-color3);\n",
       "}\n",
       "\n",
       ".xr-array-preview,\n",
       ".xr-array-data {\n",
       "  padding: 0 5px !important;\n",
       "  grid-column: 2;\n",
       "}\n",
       "\n",
       ".xr-array-data,\n",
       ".xr-array-in:checked ~ .xr-array-preview {\n",
       "  display: none;\n",
       "}\n",
       "\n",
       ".xr-array-in:checked ~ .xr-array-data,\n",
       ".xr-array-preview {\n",
       "  display: inline-block;\n",
       "}\n",
       "\n",
       ".xr-dim-list {\n",
       "  display: inline-block !important;\n",
       "  list-style: none;\n",
       "  padding: 0 !important;\n",
       "  margin: 0;\n",
       "}\n",
       "\n",
       ".xr-dim-list li {\n",
       "  display: inline-block;\n",
       "  padding: 0;\n",
       "  margin: 0;\n",
       "}\n",
       "\n",
       ".xr-dim-list:before {\n",
       "  content: '(';\n",
       "}\n",
       "\n",
       ".xr-dim-list:after {\n",
       "  content: ')';\n",
       "}\n",
       "\n",
       ".xr-dim-list li:not(:last-child):after {\n",
       "  content: ',';\n",
       "  padding-right: 5px;\n",
       "}\n",
       "\n",
       ".xr-has-index {\n",
       "  font-weight: bold;\n",
       "}\n",
       "\n",
       ".xr-var-list,\n",
       ".xr-var-item {\n",
       "  display: contents;\n",
       "}\n",
       "\n",
       ".xr-var-item > div,\n",
       ".xr-var-item label,\n",
       ".xr-var-item > .xr-var-name span {\n",
       "  background-color: var(--xr-background-color-row-even);\n",
       "  margin-bottom: 0;\n",
       "}\n",
       "\n",
       ".xr-var-item > .xr-var-name:hover span {\n",
       "  padding-right: 5px;\n",
       "}\n",
       "\n",
       ".xr-var-list > li:nth-child(odd) > div,\n",
       ".xr-var-list > li:nth-child(odd) > label,\n",
       ".xr-var-list > li:nth-child(odd) > .xr-var-name span {\n",
       "  background-color: var(--xr-background-color-row-odd);\n",
       "}\n",
       "\n",
       ".xr-var-name {\n",
       "  grid-column: 1;\n",
       "}\n",
       "\n",
       ".xr-var-dims {\n",
       "  grid-column: 2;\n",
       "}\n",
       "\n",
       ".xr-var-dtype {\n",
       "  grid-column: 3;\n",
       "  text-align: right;\n",
       "  color: var(--xr-font-color2);\n",
       "}\n",
       "\n",
       ".xr-var-preview {\n",
       "  grid-column: 4;\n",
       "}\n",
       "\n",
       ".xr-index-preview {\n",
       "  grid-column: 2 / 5;\n",
       "  color: var(--xr-font-color2);\n",
       "}\n",
       "\n",
       ".xr-var-name,\n",
       ".xr-var-dims,\n",
       ".xr-var-dtype,\n",
       ".xr-preview,\n",
       ".xr-attrs dt {\n",
       "  white-space: nowrap;\n",
       "  overflow: hidden;\n",
       "  text-overflow: ellipsis;\n",
       "  padding-right: 10px;\n",
       "}\n",
       "\n",
       ".xr-var-name:hover,\n",
       ".xr-var-dims:hover,\n",
       ".xr-var-dtype:hover,\n",
       ".xr-attrs dt:hover {\n",
       "  overflow: visible;\n",
       "  width: auto;\n",
       "  z-index: 1;\n",
       "}\n",
       "\n",
       ".xr-var-attrs,\n",
       ".xr-var-data,\n",
       ".xr-index-data {\n",
       "  display: none;\n",
       "  background-color: var(--xr-background-color) !important;\n",
       "  padding-bottom: 5px !important;\n",
       "}\n",
       "\n",
       ".xr-var-attrs-in:checked ~ .xr-var-attrs,\n",
       ".xr-var-data-in:checked ~ .xr-var-data,\n",
       ".xr-index-data-in:checked ~ .xr-index-data {\n",
       "  display: block;\n",
       "}\n",
       "\n",
       ".xr-var-data > table {\n",
       "  float: right;\n",
       "}\n",
       "\n",
       ".xr-var-name span,\n",
       ".xr-var-data,\n",
       ".xr-index-name div,\n",
       ".xr-index-data,\n",
       ".xr-attrs {\n",
       "  padding-left: 25px !important;\n",
       "}\n",
       "\n",
       ".xr-attrs,\n",
       ".xr-var-attrs,\n",
       ".xr-var-data,\n",
       ".xr-index-data {\n",
       "  grid-column: 1 / -1;\n",
       "}\n",
       "\n",
       "dl.xr-attrs {\n",
       "  padding: 0;\n",
       "  margin: 0;\n",
       "  display: grid;\n",
       "  grid-template-columns: 125px auto;\n",
       "}\n",
       "\n",
       ".xr-attrs dt,\n",
       ".xr-attrs dd {\n",
       "  padding: 0;\n",
       "  margin: 0;\n",
       "  float: left;\n",
       "  padding-right: 10px;\n",
       "  width: auto;\n",
       "}\n",
       "\n",
       ".xr-attrs dt {\n",
       "  font-weight: normal;\n",
       "  grid-column: 1;\n",
       "}\n",
       "\n",
       ".xr-attrs dt:hover span {\n",
       "  display: inline-block;\n",
       "  background: var(--xr-background-color);\n",
       "  padding-right: 10px;\n",
       "}\n",
       "\n",
       ".xr-attrs dd {\n",
       "  grid-column: 2;\n",
       "  white-space: pre-wrap;\n",
       "  word-break: break-all;\n",
       "}\n",
       "\n",
       ".xr-icon-database,\n",
       ".xr-icon-file-text2,\n",
       ".xr-no-icon {\n",
       "  display: inline-block;\n",
       "  vertical-align: middle;\n",
       "  width: 1em;\n",
       "  height: 1.5em !important;\n",
       "  stroke-width: 0;\n",
       "  stroke: currentColor;\n",
       "  fill: currentColor;\n",
       "}\n",
       "</style><pre class='xr-text-repr-fallback'>&lt;xarray.Dataset&gt; Size: 150kB\n",
       "Dimensions:  (lat: 96, lon: 192)\n",
       "Coordinates:\n",
       "  * lat      (lat) float64 768B -88.57 -86.72 -84.86 -83.0 ... 84.86 86.72 88.57\n",
       "  * lon      (lon) float64 2kB 0.0 1.875 3.75 5.625 ... 352.5 354.4 356.2 358.1\n",
       "Data variables:\n",
       "    mask     (lat, lon) int64 147kB ...\n",
       "Attributes:\n",
       "    Original model:  Made from data found at /g/data/oi10/replicas/CMIP6/C4MI...</pre><div class='xr-wrap' style='display:none'><div class='xr-header'><div class='xr-obj-type'>xarray.Dataset</div></div><ul class='xr-sections'><li class='xr-section-item'><input id='section-9e6a991c-7431-4429-8581-2178a70a5b70' class='xr-section-summary-in' type='checkbox' disabled ><label for='section-9e6a991c-7431-4429-8581-2178a70a5b70' class='xr-section-summary'  title='Expand/collapse section'>Dimensions:</label><div class='xr-section-inline-details'><ul class='xr-dim-list'><li><span class='xr-has-index'>lat</span>: 96</li><li><span class='xr-has-index'>lon</span>: 192</li></ul></div><div class='xr-section-details'></div></li><li class='xr-section-item'><input id='section-2eae8a50-aa56-4211-af5d-6d0bf7371ed0' class='xr-section-summary-in' type='checkbox'  checked><label for='section-2eae8a50-aa56-4211-af5d-6d0bf7371ed0' class='xr-section-summary' >Coordinates: <span>(2)</span></label><div class='xr-section-inline-details'></div><div class='xr-section-details'><ul class='xr-var-list'><li class='xr-var-item'><div class='xr-var-name'><span class='xr-has-index'>lat</span></div><div class='xr-var-dims'>(lat)</div><div class='xr-var-dtype'>float64</div><div class='xr-var-preview xr-preview'>-88.57 -86.72 ... 86.72 88.57</div><input id='attrs-25e73855-42ad-4f62-a4af-ac6672197ee0' class='xr-var-attrs-in' type='checkbox' ><label for='attrs-25e73855-42ad-4f62-a4af-ac6672197ee0' title='Show/Hide attributes'><svg class='icon xr-icon-file-text2'><use xlink:href='#icon-file-text2'></use></svg></label><input id='data-3616be3f-e99e-4d86-b8ed-b1c58888a254' class='xr-var-data-in' type='checkbox'><label for='data-3616be3f-e99e-4d86-b8ed-b1c58888a254' title='Show/Hide data repr'><svg class='icon xr-icon-database'><use xlink:href='#icon-database'></use></svg></label><div class='xr-var-attrs'><dl class='xr-attrs'><dt><span>bounds :</span></dt><dd>lat_bnds</dd><dt><span>units :</span></dt><dd>degrees_north</dd><dt><span>axis :</span></dt><dd>Y</dd><dt><span>long_name :</span></dt><dd>Latitude</dd><dt><span>standard_name :</span></dt><dd>latitude</dd></dl></div><div class='xr-var-data'><pre>array([-88.572169, -86.722531, -84.86197 , -82.998942, -81.134977, -79.270559,\n",
       "       -77.405888, -75.541061, -73.676132, -71.811132, -69.946081, -68.080991,\n",
       "       -66.215872, -64.35073 , -62.485571, -60.620396, -58.755209, -56.890013,\n",
       "       -55.024808, -53.159595, -51.294377, -49.429154, -47.563926, -45.698694,\n",
       "       -43.833459, -41.96822 , -40.102979, -38.237736, -36.372491, -34.507243,\n",
       "       -32.641994, -30.776744, -28.911492, -27.046239, -25.180986, -23.315731,\n",
       "       -21.450475, -19.585219, -17.719962, -15.854704, -13.989446, -12.124187,\n",
       "       -10.258928,  -8.393669,  -6.528409,  -4.66315 ,  -2.79789 ,  -0.93263 ,\n",
       "         0.93263 ,   2.79789 ,   4.66315 ,   6.528409,   8.393669,  10.258928,\n",
       "        12.124187,  13.989446,  15.854704,  17.719962,  19.585219,  21.450475,\n",
       "        23.315731,  25.180986,  27.046239,  28.911492,  30.776744,  32.641994,\n",
       "        34.507243,  36.372491,  38.237736,  40.102979,  41.96822 ,  43.833459,\n",
       "        45.698694,  47.563926,  49.429154,  51.294377,  53.159595,  55.024808,\n",
       "        56.890013,  58.755209,  60.620396,  62.485571,  64.35073 ,  66.215872,\n",
       "        68.080991,  69.946081,  71.811132,  73.676132,  75.541061,  77.405888,\n",
       "        79.270559,  81.134977,  82.998942,  84.86197 ,  86.722531,  88.572169])</pre></div></li><li class='xr-var-item'><div class='xr-var-name'><span class='xr-has-index'>lon</span></div><div class='xr-var-dims'>(lon)</div><div class='xr-var-dtype'>float64</div><div class='xr-var-preview xr-preview'>0.0 1.875 3.75 ... 356.2 358.1</div><input id='attrs-86f2258e-6ee9-4565-916d-720b35827c2b' class='xr-var-attrs-in' type='checkbox' ><label for='attrs-86f2258e-6ee9-4565-916d-720b35827c2b' title='Show/Hide attributes'><svg class='icon xr-icon-file-text2'><use xlink:href='#icon-file-text2'></use></svg></label><input id='data-918ce188-671b-4a06-9cf5-ac3df5708c7f' class='xr-var-data-in' type='checkbox'><label for='data-918ce188-671b-4a06-9cf5-ac3df5708c7f' title='Show/Hide data repr'><svg class='icon xr-icon-database'><use xlink:href='#icon-database'></use></svg></label><div class='xr-var-attrs'><dl class='xr-attrs'><dt><span>bounds :</span></dt><dd>lon_bnds</dd><dt><span>units :</span></dt><dd>degrees_east</dd><dt><span>axis :</span></dt><dd>X</dd><dt><span>long_name :</span></dt><dd>Longitude</dd><dt><span>standard_name :</span></dt><dd>longitude</dd></dl></div><div class='xr-var-data'><pre>array([  0.   ,   1.875,   3.75 ,   5.625,   7.5  ,   9.375,  11.25 ,  13.125,\n",
       "        15.   ,  16.875,  18.75 ,  20.625,  22.5  ,  24.375,  26.25 ,  28.125,\n",
       "        30.   ,  31.875,  33.75 ,  35.625,  37.5  ,  39.375,  41.25 ,  43.125,\n",
       "        45.   ,  46.875,  48.75 ,  50.625,  52.5  ,  54.375,  56.25 ,  58.125,\n",
       "        60.   ,  61.875,  63.75 ,  65.625,  67.5  ,  69.375,  71.25 ,  73.125,\n",
       "        75.   ,  76.875,  78.75 ,  80.625,  82.5  ,  84.375,  86.25 ,  88.125,\n",
       "        90.   ,  91.875,  93.75 ,  95.625,  97.5  ,  99.375, 101.25 , 103.125,\n",
       "       105.   , 106.875, 108.75 , 110.625, 112.5  , 114.375, 116.25 , 118.125,\n",
       "       120.   , 121.875, 123.75 , 125.625, 127.5  , 129.375, 131.25 , 133.125,\n",
       "       135.   , 136.875, 138.75 , 140.625, 142.5  , 144.375, 146.25 , 148.125,\n",
       "       150.   , 151.875, 153.75 , 155.625, 157.5  , 159.375, 161.25 , 163.125,\n",
       "       165.   , 166.875, 168.75 , 170.625, 172.5  , 174.375, 176.25 , 178.125,\n",
       "       180.   , 181.875, 183.75 , 185.625, 187.5  , 189.375, 191.25 , 193.125,\n",
       "       195.   , 196.875, 198.75 , 200.625, 202.5  , 204.375, 206.25 , 208.125,\n",
       "       210.   , 211.875, 213.75 , 215.625, 217.5  , 219.375, 221.25 , 223.125,\n",
       "       225.   , 226.875, 228.75 , 230.625, 232.5  , 234.375, 236.25 , 238.125,\n",
       "       240.   , 241.875, 243.75 , 245.625, 247.5  , 249.375, 251.25 , 253.125,\n",
       "       255.   , 256.875, 258.75 , 260.625, 262.5  , 264.375, 266.25 , 268.125,\n",
       "       270.   , 271.875, 273.75 , 275.625, 277.5  , 279.375, 281.25 , 283.125,\n",
       "       285.   , 286.875, 288.75 , 290.625, 292.5  , 294.375, 296.25 , 298.125,\n",
       "       300.   , 301.875, 303.75 , 305.625, 307.5  , 309.375, 311.25 , 313.125,\n",
       "       315.   , 316.875, 318.75 , 320.625, 322.5  , 324.375, 326.25 , 328.125,\n",
       "       330.   , 331.875, 333.75 , 335.625, 337.5  , 339.375, 341.25 , 343.125,\n",
       "       345.   , 346.875, 348.75 , 350.625, 352.5  , 354.375, 356.25 , 358.125])</pre></div></li></ul></div></li><li class='xr-section-item'><input id='section-531ac6ba-8f9a-489c-ba91-2b6a6a30df96' class='xr-section-summary-in' type='checkbox'  checked><label for='section-531ac6ba-8f9a-489c-ba91-2b6a6a30df96' class='xr-section-summary' >Data variables: <span>(1)</span></label><div class='xr-section-inline-details'></div><div class='xr-section-details'><ul class='xr-var-list'><li class='xr-var-item'><div class='xr-var-name'><span>mask</span></div><div class='xr-var-dims'>(lat, lon)</div><div class='xr-var-dtype'>int64</div><div class='xr-var-preview xr-preview'>...</div><input id='attrs-82c8c614-10c5-4385-8f94-fbd8791c3450' class='xr-var-attrs-in' type='checkbox' disabled><label for='attrs-82c8c614-10c5-4385-8f94-fbd8791c3450' title='Show/Hide attributes'><svg class='icon xr-icon-file-text2'><use xlink:href='#icon-file-text2'></use></svg></label><input id='data-61e11bc9-6265-44cd-ac19-153dba7163a5' class='xr-var-data-in' type='checkbox'><label for='data-61e11bc9-6265-44cd-ac19-153dba7163a5' title='Show/Hide data repr'><svg class='icon xr-icon-database'><use xlink:href='#icon-database'></use></svg></label><div class='xr-var-attrs'><dl class='xr-attrs'></dl></div><div class='xr-var-data'><pre>[18432 values with dtype=int64]</pre></div></li></ul></div></li><li class='xr-section-item'><input id='section-1812d803-2994-4662-ab3f-50073b2c0c89' class='xr-section-summary-in' type='checkbox'  ><label for='section-1812d803-2994-4662-ab3f-50073b2c0c89' class='xr-section-summary' >Indexes: <span>(2)</span></label><div class='xr-section-inline-details'></div><div class='xr-section-details'><ul class='xr-var-list'><li class='xr-var-item'><div class='xr-index-name'><div>lat</div></div><div class='xr-index-preview'>PandasIndex</div><div></div><input id='index-0e7db69c-1b20-49fa-a7c1-3605c43e32bd' class='xr-index-data-in' type='checkbox'/><label for='index-0e7db69c-1b20-49fa-a7c1-3605c43e32bd' title='Show/Hide index repr'><svg class='icon xr-icon-database'><use xlink:href='#icon-database'></use></svg></label><div class='xr-index-data'><pre>PandasIndex(Index([ -88.57216851400727,  -86.72253095466814,  -84.86197029204237,\n",
       "        -82.99894164283755,  -81.13497683767741,  -79.27055903485967,\n",
       "         -77.4058880820788,  -75.54106145287895,  -73.67613231320912,\n",
       "        -71.81113211427447,  -69.94608064698343,  -68.08099098565125,\n",
       "         -66.2158721139987,  -64.35073040887207,  -62.48557052203639,\n",
       "        -60.62039592682648,  -58.75520926937993,  -56.89001260135711,\n",
       "        -55.02480753831166,  -53.15959537001968,  -51.29437713895115,\n",
       "        -49.42915369712305,  -47.56392574797867, -45.698693877701785,\n",
       "        -43.83345857895126,  -41.96822026907538,   -40.1029793042494,\n",
       "        -38.23773599056483,  -36.37249059281224,  -34.50724334150103,\n",
       "        -32.64199443851768,  -30.77674406172325,  -28.91149236871774,\n",
       "        -27.04623949994481, -25.180985581270594,  -23.31573072614093,\n",
       "       -21.450475037398185,  -19.58521860882233, -17.719961526447428,\n",
       "       -15.854703869694873, -13.989445712356673, -12.124187123455766,\n",
       "       -10.258928168006376,  -8.393668907692383, -6.5284094014799905,\n",
       "        -4.663149706177884,  -2.797889876956741,  -0.932629967837991,\n",
       "         0.932629967837991,   2.797889876956741,   4.663149706177884,\n",
       "        6.5284094014799905,   8.393668907692383,  10.258928168006376,\n",
       "        12.124187123455766,  13.989445712356673,  15.854703869694873,\n",
       "        17.719961526447428,   19.58521860882233,  21.450475037398185,\n",
       "         23.31573072614093,  25.180985581270594,   27.04623949994481,\n",
       "         28.91149236871774,   30.77674406172325,   32.64199443851768,\n",
       "         34.50724334150103,   36.37249059281224,   38.23773599056483,\n",
       "          40.1029793042494,   41.96822026907538,   43.83345857895126,\n",
       "        45.698693877701785,   47.56392574797867,   49.42915369712305,\n",
       "         51.29437713895115,   53.15959537001968,   55.02480753831166,\n",
       "         56.89001260135711,   58.75520926937993,   60.62039592682648,\n",
       "         62.48557052203639,   64.35073040887207,    66.2158721139987,\n",
       "         68.08099098565125,   69.94608064698343,   71.81113211427447,\n",
       "         73.67613231320912,   75.54106145287895,    77.4058880820788,\n",
       "         79.27055903485967,   81.13497683767741,   82.99894164283755,\n",
       "         84.86197029204237,   86.72253095466814,   88.57216851400727],\n",
       "      dtype=&#x27;float64&#x27;, name=&#x27;lat&#x27;))</pre></div></li><li class='xr-var-item'><div class='xr-index-name'><div>lon</div></div><div class='xr-index-preview'>PandasIndex</div><div></div><input id='index-b6b59573-d63d-4ef0-9ecb-ea4433b76db9' class='xr-index-data-in' type='checkbox'/><label for='index-b6b59573-d63d-4ef0-9ecb-ea4433b76db9' title='Show/Hide index repr'><svg class='icon xr-icon-database'><use xlink:href='#icon-database'></use></svg></label><div class='xr-index-data'><pre>PandasIndex(Index([    0.0,   1.875,    3.75,   5.625,     7.5,   9.375,   11.25,  13.125,\n",
       "          15.0,  16.875,\n",
       "       ...\n",
       "        341.25, 343.125,   345.0, 346.875,  348.75, 350.625,   352.5, 354.375,\n",
       "        356.25, 358.125],\n",
       "      dtype=&#x27;float64&#x27;, name=&#x27;lon&#x27;, length=192))</pre></div></li></ul></div></li><li class='xr-section-item'><input id='section-d23f5cb1-24a0-452f-902a-56340c1f97a4' class='xr-section-summary-in' type='checkbox'  checked><label for='section-d23f5cb1-24a0-452f-902a-56340c1f97a4' class='xr-section-summary' >Attributes: <span>(1)</span></label><div class='xr-section-inline-details'></div><div class='xr-section-details'><dl class='xr-attrs'><dt><span>Original model :</span></dt><dd>Made from data found at /g/data/oi10/replicas/CMIP6/C4MIP/MPI-M/MPI-ESM1-2-LR/1pctCO2-bgc/r3i1p1f1/Emon/cLand/gn/v20190710</dd></dl></div></li></ul></div></div>"
      ],
      "text/plain": [
       "<xarray.Dataset> Size: 150kB\n",
       "Dimensions:  (lat: 96, lon: 192)\n",
       "Coordinates:\n",
       "  * lat      (lat) float64 768B -88.57 -86.72 -84.86 -83.0 ... 84.86 86.72 88.57\n",
       "  * lon      (lon) float64 2kB 0.0 1.875 3.75 5.625 ... 352.5 354.4 356.2 358.1\n",
       "Data variables:\n",
       "    mask     (lat, lon) int64 147kB ...\n",
       "Attributes:\n",
       "    Original model:  Made from data found at /g/data/oi10/replicas/CMIP6/C4MI..."
      ]
     },
     "execution_count": 25,
     "metadata": {},
     "output_type": "execute_result"
    }
   ],
   "source": [
    "mask_ds = xr.open_dataset(os.path.join(constants.ZECMIP_LOCAL_DIR, 'landsea_mask.nc')) #_regridd_MPI_ESM\n",
    "# mask_data = xr.open_dataset(os.path.join(constants.ZECMIP_LOCAL_REGRIDDED_DIR, 'landsea_mask_regridd_MPI_ESM.nc')); mask_data\n",
    "mask_ds"
   ]
  },
  {
   "cell_type": "code",
   "execution_count": 26,
   "id": "dbb2c745-866d-471b-ba49-41c8512e7dad",
   "metadata": {},
   "outputs": [
    {
     "name": "stdout",
     "output_type": "stream",
     "text": [
      "ACCESS-ESM1-5\n"
     ]
    },
    {
     "name": "stderr",
     "output_type": "stream",
     "text": [
      "[gadi-cpu-spr-0498.gadi.nci.org.au:573549] shmem: mmap: an error occurred while determining whether or not /jobfs/123849798.gadi-pbs/ompi.gadi-cpu-spr-0498.13954/jf.0/1195966464/shared_mem_cuda_pool.gadi-cpu-spr-0498 could be created.\n",
      "[gadi-cpu-spr-0498.gadi.nci.org.au:573549] create_and_attach: unable to create shared memory BTL coordinating structure :: size 134217728 \n"
     ]
    },
    {
     "name": "stdout",
     "output_type": "stream",
     "text": [
      "CESM2\n",
      "CanESM5\n",
      "GFDL-ESM4\n",
      "GISS-E2-1-G-CC\n",
      "MIROC-ES2L\n",
      "MPI-ESM1-2-LR\n",
      "NorESM2-LM\n",
      "UKESM1-0-LL\n"
     ]
    }
   ],
   "source": [
    "import xesmf\n",
    "regridded_file_list = []\n",
    "for model in a1_raw_data.model:\n",
    "    print(model)\n",
    "    \n",
    "    target_ds = a1_raw_data[model].isel(time=0).squeeze().drop(['ensemble', 'model', 'time'])\n",
    "    \n",
    "    regridder = xesmf.Regridder(mask_ds.mask , target_ds, method='nearest_s2d')\n",
    "    regridded_file = regridder(mask_ds.mask)\n",
    "    regridded_file = regridded_file.expand_dims(model=[model])\n",
    "    regridded_file_list.append(regridded_file)\n",
    "\n",
    "mask_data = listXarray(regridded_file_list, 'model')"
   ]
  },
  {
   "cell_type": "code",
   "execution_count": 27,
   "id": "587dbcad-09b7-4cef-b2e8-ab0780d4e68a",
   "metadata": {},
   "outputs": [
    {
     "data": {
      "text/plain": [
       "<matplotlib.collections.QuadMesh at 0x14645e66eaa0>"
      ]
     },
     "execution_count": 27,
     "metadata": {},
     "output_type": "execute_result"
    },
    {
     "data": {
      "image/png": "[encoded data removed]",
      "text/plain": [
       "<Figure size 640x480 with 2 Axes>"
      ]
     },
     "metadata": {},
     "output_type": "display_data"
    }
   ],
   "source": [
    "a1_raw_data[6].where(mask_data[6]).isel(time=0).plot()"
   ]
  },
  {
   "cell_type": "code",
   "execution_count": 28,
   "id": "f7bcd3f8-3afb-4a0b-b2b6-499798174db6",
   "metadata": {},
   "outputs": [],
   "source": [
    "# Convert to celcius\n",
    "a1_raw_data = a1_raw_data - 273.15\n",
    "pct_raw_data = pct_raw_data - 273.15\n",
    "esmpi_raw_data = esmpi_raw_data - 273.15"
   ]
  },
  {
   "cell_type": "code",
   "execution_count": 29,
   "id": "6baa09a5-84b2-4080-a243-2ec2747f9abf",
   "metadata": {},
   "outputs": [],
   "source": [
    "# Can remove a lot of data, as I don't actually need this past the 70 year mark\n",
    "# Data is montly so times by 12, a do 100 points just for saftery\n",
    "pct_raw_data = pct_raw_data.isel(time=slice(0, 100 * 12))"
   ]
  },
  {
   "cell_type": "code",
   "execution_count": 30,
   "id": "ef2338cd-7e8e-4a18-bfd0-601f0ce0d2e0",
   "metadata": {},
   "outputs": [],
   "source": [
    "# Yearly data transfomration - montly resolution is not needed\n",
    "esmpi_data = esmpi_raw_data.chunk({'time':-1}).resample(time='Y').mean(dim='time').set_refkeys('model')\n",
    "pct_resample_data = pct_raw_data.chunk({'time':-1}).resample(time='Y').mean(dim='time').set_refkeys('model')\n",
    "a1_data = a1_raw_data.chunk({'time':-1}).resample(time='Y').mean(dim='time').set_refkeys('model')\n",
    "\n",
    "# Can see this in the global mean time series. But this has errors after 1000\n",
    "esmpi_data['CanESM5'] = esmpi_data['CanESM5'].isel(time=slice(None, 1000))"
   ]
  },
  {
   "cell_type": "code",
   "execution_count": 31,
   "id": "b875d4f6-d5a5-4d26-9c3b-c6f2cf0e8edf",
   "metadata": {},
   "outputs": [],
   "source": [
    "# Reduce time so that the smalles time densions matches. This is at 101 years\n",
    "# a1_data = a1_data.isel(time=slice(None, 100))"
   ]
  },
  {
   "cell_type": "markdown",
   "id": "2f6af14a-6adc-4388-8cf8-898f0f52515f",
   "metadata": {},
   "source": [
    "## Anomaly Calculation"
   ]
  },
  {
   "cell_type": "code",
   "execution_count": 32,
   "id": "cee39d5c-bcee-4f5f-ab6a-4beb633822b4",
   "metadata": {},
   "outputs": [
    {
     "name": "stdout",
     "output_type": "stream",
     "text": [
      "- <function calculate_branch_average at 0x14651402f1c0> has been called\n",
      "- ACCESS-ESM1-5\n",
      "- ['ACCESS-ESM1-5'] - ['ACCESS-ESM1-5']\n",
      "- branch_start_time=cftime.DatetimeProlepticGregorian(168, 12, 31, 0, 0, 0, 0, has_year_zero=True)\n",
      "- onepct_branch_arg=67\n",
      "- \n",
      "\n",
      "- CESM2\n",
      "- ['CESM2'] - ['CESM2']\n",
      "- branch_start_time=cftime.DatetimeNoLeap(68, 12, 31, 0, 0, 0, 0, has_year_zero=True)\n",
      "- onepct_branch_arg=67\n",
      "- \n",
      "\n",
      "- CanESM5\n",
      "- ['CanESM5'] - ['CanESM5']\n",
      "- branch_start_time=cftime.DatetimeNoLeap(1911, 12, 31, 0, 0, 0, 0, has_year_zero=True)\n",
      "- onepct_branch_arg=61\n",
      "- \n",
      "\n",
      "- GFDL-ESM4\n",
      "- ['GFDL-ESM4'] - ['GFDL-ESM4']\n",
      "- branch_start_time=cftime.DatetimeNoLeap(64, 12, 31, 0, 0, 0, 0, has_year_zero=True)\n",
      "- onepct_branch_arg=63\n",
      "- \n",
      "\n",
      "- GISS-E2-1-G-CC\n",
      "- ['GISS-E2-1-G-CC'] - ['GISS-E2-1-G-CC']\n",
      "- branch_start_time=cftime.DatetimeNoLeap(1920, 12, 31, 0, 0, 0, 0, has_year_zero=True)\n",
      "- onepct_branch_arg=70\n",
      "- \n",
      "\n",
      "- MIROC-ES2L\n",
      "- ['MIROC-ES2L'] - ['MIROC-ES2L']\n",
      "- branch_start_time=cftime.DatetimeGregorian(1913, 12, 31, 0, 0, 0, 0, has_year_zero=False)\n",
      "- onepct_branch_arg=63\n",
      "- \n",
      "\n",
      "- MPI-ESM1-2-LR\n",
      "- ['MPI-ESM1-2-LR'] - ['MPI-ESM1-2-LR']\n",
      "- branch_start_time=cftime.DatetimeProlepticGregorian(1915, 12, 31, 0, 0, 0, 0, has_year_zero=True)\n",
      "- onepct_branch_arg=65\n",
      "- \n",
      "\n",
      "- NorESM2-LM\n",
      "- ['NorESM2-LM'] - ['NorESM2-LM']\n",
      "- branch_start_time=cftime.DatetimeNoLeap(67, 12, 31, 0, 0, 0, 0, has_year_zero=True)\n",
      "- onepct_branch_arg=66\n",
      "- \n",
      "\n",
      "- UKESM1-0-LL\n",
      "- ['UKESM1-0-LL'] - ['UKESM1-0-LL']\n",
      "- branch_start_time=cftime.Datetime360Day(1916, 12, 30, 0, 0, 0, 0, has_year_zero=True)\n",
      "- onepct_branch_arg=66\n",
      "- \n",
      "\n"
     ]
    }
   ],
   "source": [
    "branch_point_mean_data = pct_resample_data(\n",
    "    zec_calculation_functions.calculate_branch_average,\n",
    "    a1_data, logginglevel='INFO')"
   ]
  },
  {
   "cell_type": "code",
   "execution_count": 33,
   "id": "9614679c-1c36-4cae-a738-d467eacb5883",
   "metadata": {},
   "outputs": [],
   "source": [
    "# # Base period calculation - 20 year average at branch poin\n",
    "# branch_point_mean_data = listXarray([zec_calculation_functions.calculate_branch_average(\n",
    "#     pct_data[model], a1_data[model], logginglevel='INFO') for model in pct_data.refkeys]).set_refkeys('model')"
   ]
  },
  {
   "cell_type": "code",
   "execution_count": 34,
   "id": "cef6c0dc-bf75-46d6-90c1-9b74e622ee16",
   "metadata": {},
   "outputs": [],
   "source": [
    "# Amomaly time series from the branch point (previosuly called 'experiment_zec_da_anom')\n",
    "a1_anom_data = (a1_data - branch_point_mean_data)#.compute()"
   ]
  },
  {
   "cell_type": "code",
   "execution_count": 35,
   "id": "aada4b25-d047-430d-bcee-553793aa1407",
   "metadata": {},
   "outputs": [],
   "source": [
    "a1_anom_data = a1_anom_data.compute()"
   ]
  },
  {
   "cell_type": "code",
   "execution_count": 36,
   "id": "8817f160-f6e6-4b21-add7-c9897d267923",
   "metadata": {},
   "outputs": [
    {
     "name": "stdout",
     "output_type": "stream",
     "text": [
      "key_dim = model\n"
     ]
    },
    {
     "data": {
      "text/plain": [
       "Number of da/ds: 9\n",
       "---------------\n",
       "ACCESS-ESM1-5  (dataArray): ({'model': 1, 'lat': 145, 'lon': 192})\n",
       "CESM2          (dataArray): ({'model': 1, 'lat': 192, 'lon': 288})\n",
       "CanESM5        (dataArray): ({'model': 1, 'lat': 64, 'lon': 128})\n",
       "GFDL-ESM4      (dataArray): ({'model': 1, 'lat': 180, 'lon': 288})\n",
       "GISS-E2-1-G-CC (dataArray): ({'model': 1, 'lat': 90, 'lon': 144})\n",
       "MIROC-ES2L     (dataArray): ({'model': 1, 'lat': 64, 'lon': 128})\n",
       "MPI-ESM1-2-LR  (dataArray): ({'model': 1, 'lat': 96, 'lon': 192})\n",
       "NorESM2-LM     (dataArray): ({'model': 1, 'lat': 96, 'lon': 144})\n",
       "UKESM1-0-LL    (dataArray): ({'model': 1, 'lat': 144, 'lon': 192})"
      ]
     },
     "execution_count": 36,
     "metadata": {},
     "output_type": "execute_result"
    }
   ],
   "source": [
    "# This way procudes the same as when you average first then take the anomalies. However, we also get the anomaleis\n",
    "# time series which is useful\n",
    "zec25_data = a1_anom_data.isel(time=slice(15, 35)).mean(dim='time')#.compute()\n",
    "zec50_data = a1_anom_data.isel(time=slice(40, 60)).mean(dim='time')#.compute()\n",
    "zec90_data = a1_anom_data.isel(time=slice(80, 100)).mean(dim='time')#.compute()\n",
    "zec50_data"
   ]
  },
  {
   "cell_type": "code",
   "execution_count": 37,
   "id": "7336515b-a392-452a-82aa-4c078b836048",
   "metadata": {},
   "outputs": [
    {
     "data": {
      "text/plain": [
       "array([cftime.DatetimeNoLeap(5201, 12, 31, 0, 0, 0, 0, has_year_zero=True),\n",
       "       cftime.DatetimeNoLeap(5202, 12, 31, 0, 0, 0, 0, has_year_zero=True),\n",
       "       cftime.DatetimeNoLeap(5203, 12, 31, 0, 0, 0, 0, has_year_zero=True),\n",
       "       cftime.DatetimeNoLeap(6198, 12, 31, 0, 0, 0, 0, has_year_zero=True),\n",
       "       cftime.DatetimeNoLeap(6199, 12, 31, 0, 0, 0, 0, has_year_zero=True),\n",
       "       cftime.DatetimeNoLeap(6200, 12, 31, 0, 0, 0, 0, has_year_zero=True)],\n",
       "      dtype=object)"
      ]
     },
     "execution_count": 37,
     "metadata": {},
     "output_type": "execute_result"
    }
   ],
   "source": [
    "np.take(esmpi_data.dim('time', output='dict')['CanESM5'], [0,1,2,-3,-2,-1])"
   ]
  },
  {
   "cell_type": "code",
   "execution_count": 38,
   "id": "9f11726d-8844-4350-8bb2-00a9107ed3a5",
   "metadata": {},
   "outputs": [],
   "source": [
    "# Reset to time zero\n",
    "a1_anom_data = a1_anom_data(utils.reset_time_to_0_start, parallel_call=True)\n",
    "pct_data = pct_resample_data(utils.reset_time_to_0_start, parallel_call=True)\n",
    "esmpi_data = esmpi_data(utils.reset_time_to_0_start, parallel_call=True)"
   ]
  },
  {
   "cell_type": "code",
   "execution_count": 39,
   "id": "a6e9b4be-977b-4f49-8cb9-11fb875c9070",
   "metadata": {},
   "outputs": [
    {
     "data": {
      "text/plain": [
       "array([cftime.datetime(1, 12, 31, 0, 0, 0, 0, calendar='standard', has_year_zero=False),\n",
       "       cftime.datetime(2, 12, 31, 0, 0, 0, 0, calendar='standard', has_year_zero=False),\n",
       "       cftime.datetime(3, 12, 31, 0, 0, 0, 0, calendar='standard', has_year_zero=False),\n",
       "       cftime.datetime(998, 12, 31, 0, 0, 0, 0, calendar='standard', has_year_zero=False),\n",
       "       cftime.datetime(999, 12, 31, 0, 0, 0, 0, calendar='standard', has_year_zero=False),\n",
       "       cftime.datetime(1000, 12, 31, 0, 0, 0, 0, calendar='standard', has_year_zero=False)],\n",
       "      dtype=object)"
      ]
     },
     "execution_count": 39,
     "metadata": {},
     "output_type": "execute_result"
    }
   ],
   "source": [
    "np.take(esmpi_data.dim('time', output='dict')['CanESM5'], [0,1,2,-3,-2,-1])"
   ]
  },
  {
   "cell_type": "code",
   "execution_count": 40,
   "id": "dbad407e-32e2-44b0-b0a8-2930c73209c6",
   "metadata": {},
   "outputs": [],
   "source": [
    "# These two can be computed as they are small (combined is around  100mb with each \n",
    "# model being around 7mb\n",
    "a1_anom_data = a1_anom_data.compute()\n",
    "pct_data = pct_data.compute()"
   ]
  },
  {
   "cell_type": "code",
   "execution_count": 41,
   "id": "cfb33da6-9cc5-409a-ad90-0d426f63126d",
   "metadata": {
    "scrolled": true
   },
   "outputs": [],
   "source": [
    "# Each model is around 100mb. Parallel across this would be great. But would be \n",
    "# too much effort for now\n",
    "esmpi_data = esmpi_data.compute()"
   ]
  },
  {
   "cell_type": "markdown",
   "id": "fb200d9b-1780-496a-8d84-671982c359b7",
   "metadata": {},
   "source": [
    "## SN Calculation"
   ]
  },
  {
   "cell_type": "code",
   "execution_count": 42,
   "id": "eba083c7-43cd-4a51-9114-fe49fa62c0c1",
   "metadata": {},
   "outputs": [],
   "source": [
    "# NOTE: This can only be done if all the time lengths are the same\n",
    "# If they are different then PLEASE use listxarray\n",
    "# Converted to xarray - all models now have matching coordinates\n",
    "\n",
    "# a1_anom_data = a1_anom_data.drop('ensemble').concat('model').sortby('model').compute()\n",
    "# esmpi_data = esmpi_data.drop('ensemble').concat('model').sortby('model').compute()\n",
    "# a1_anom_detrend_data = a1_anom_detrend_data.concat('model').sortby('model').compute()\n",
    "# pct_data = pct_data.concat('model').sortby('model')"
   ]
  },
  {
   "cell_type": "code",
   "execution_count": 43,
   "id": "a8107ded-78b2-4e88-98f7-417d0070e0b3",
   "metadata": {},
   "outputs": [
    {
     "name": "stdout",
     "output_type": "stream",
     "text": [
      "key_dim = model\n"
     ]
    },
    {
     "data": {
      "text/plain": [
       "Number of da/ds: 9\n",
       "---------------\n",
       "ACCESS-ESM1-5  (dataArray): ({'model': 1, 'time': 101, 'lat': 145, 'lon': 192})\n",
       "CESM2          (dataArray): ({'model': 1, 'time': 150, 'lat': 192, 'lon': 288})\n",
       "CanESM5        (dataArray): ({'model': 1, 'time': 100, 'lat': 64, 'lon': 128})\n",
       "GFDL-ESM4      (dataArray): ({'model': 1, 'time': 200, 'lat': 180, 'lon': 288})\n",
       "GISS-E2-1-G-CC (dataArray): ({'model': 1, 'time': 180, 'lat': 90, 'lon': 144})\n",
       "MIROC-ES2L     (dataArray): ({'model': 1, 'time': 248, 'lat': 64, 'lon': 128})\n",
       "MPI-ESM1-2-LR  (dataArray): ({'model': 1, 'time': 185, 'lat': 96, 'lon': 192})\n",
       "NorESM2-LM     (dataArray): ({'model': 1, 'time': 100, 'lat': 96, 'lon': 144})\n",
       "UKESM1-0-LL    (dataArray): ({'model': 1, 'time': 330, 'lat': 144, 'lon': 192})"
      ]
     },
     "execution_count": 43,
     "metadata": {},
     "output_type": "execute_result"
    }
   ],
   "source": [
    "a1_anom_data"
   ]
  },
  {
   "cell_type": "code",
   "execution_count": 44,
   "id": "8a84adaa-8e47-41c9-9bec-ee9445cf09ed",
   "metadata": {
    "scrolled": true
   },
   "outputs": [],
   "source": [
    "a1_anom_trend_data = a1_anom_data(my_stats.trend_fit, method='polynomial', order=4)\n",
    "# a1_anom_trend_data=  my_stats_trend_fit(a1_anom_data, method='polynomial', order=4)\n",
    "a1_anom_detrend_data= a1_anom_data - a1_anom_trend_data"
   ]
  },
  {
   "cell_type": "code",
   "execution_count": 45,
   "id": "9f03bb48-5c30-479d-be2a-97efdf365af0",
   "metadata": {},
   "outputs": [],
   "source": [
    "# a1_anom_trend_data = my_stats.trend_fit(a1_anom_data, method='polynomial', order=4)\n",
    "# a1_anom_detrend_data = a1_anom_data - a1_anom_trend_data"
   ]
  },
  {
   "cell_type": "code",
   "execution_count": 46,
   "id": "9ea45c91-605f-458b-8057-4000807ceb6c",
   "metadata": {},
   "outputs": [],
   "source": [
    "a1_anom_detrend_data = a1_anom_detrend_data.compute()"
   ]
  },
  {
   "cell_type": "code",
   "execution_count": 47,
   "id": "c671d9a5-4ab4-42fe-ae8d-500864856534",
   "metadata": {},
   "outputs": [
    {
     "name": "stdout",
     "output_type": "stream",
     "text": [
      "key_dim = model\n"
     ]
    },
    {
     "data": {
      "text/plain": [
       "Number of da/ds: 9\n",
       "---------------\n",
       "ACCESS-ESM1-5  (dataArray): ({'model': 1, 'time': 101, 'lon': 192})\n",
       "CESM2          (dataArray): ({'model': 1, 'time': 150, 'lon': 288})\n",
       "CanESM5        (dataArray): ({'model': 1, 'time': 100, 'lon': 128})\n",
       "GFDL-ESM4      (dataArray): ({'model': 1, 'time': 200, 'lon': 288})\n",
       "GISS-E2-1-G-CC (dataArray): ({'model': 1, 'time': 180, 'lon': 144})\n",
       "MIROC-ES2L     (dataArray): ({'model': 1, 'time': 248, 'lon': 128})\n",
       "MPI-ESM1-2-LR  (dataArray): ({'model': 1, 'time': 185, 'lon': 192})\n",
       "NorESM2-LM     (dataArray): ({'model': 1, 'time': 100, 'lon': 144})\n",
       "UKESM1-0-LL    (dataArray): ({'model': 1, 'time': 330, 'lon': 192})"
      ]
     },
     "execution_count": 47,
     "metadata": {},
     "output_type": "execute_result"
    }
   ],
   "source": [
    "a1_anom_data.sel(lat=-38, method='nearest')"
   ]
  },
  {
   "cell_type": "code",
   "execution_count": 48,
   "id": "8a11ed5d-daac-49cd-b070-2947f162138d",
   "metadata": {},
   "outputs": [
    {
     "data": {
      "text/plain": [
       "<matplotlib.legend.Legend at 0x14644a04ee30>"
      ]
     },
     "execution_count": 48,
     "metadata": {},
     "output_type": "execute_result"
    },
    {
     "data": {
      "image/png": "[encoded data removed]",
      "text/plain": [
       "<Figure size 640x480 with 1 Axes>"
      ]
     },
     "metadata": {},
     "output_type": "display_data"
    }
   ],
   "source": [
    "model = 'UKESM1-0-LL'#'CESM2'\n",
    "a1_anom_data.sel(model=model).sel(lat=-39, lon=144, method='nearest').plot(label='Raw')\n",
    "a1_anom_trend_data.sel(model=model).sel(lat=-39, lon=144, method='nearest').plot(label='Trend Fit')\n",
    "a1_anom_detrend_data.sel(model=model).sel(lat=-39, lon=144, method='nearest').plot(label='Detrended')\n",
    "plt.legend()"
   ]
  },
  {
   "cell_type": "code",
   "execution_count": 49,
   "id": "f3fec3af-23c8-4c27-b55d-60de600e4b29",
   "metadata": {},
   "outputs": [
    {
     "data": {
      "text/plain": [
       "array([10, 11, 12, 13, 14, 15, 16, 17, 18, 19, 20, 21, 22, 23, 24, 25, 26,\n",
       "       27, 28, 29, 30, 31, 32, 33, 34, 35, 36, 37, 38, 39, 40])"
      ]
     },
     "execution_count": 49,
     "metadata": {},
     "output_type": "execute_result"
    }
   ],
   "source": [
    "windows = np.arange(**constants.ZECMIP_MULTI_WINDOW_PARAMS)\n",
    "windows"
   ]
  },
  {
   "cell_type": "code",
   "execution_count": 50,
   "id": "7066b3af-5193-4d8d-a9d2-3fc43038bcd1",
   "metadata": {},
   "outputs": [
    {
     "data": {
      "text/plain": [
       "<module 'signal_to_noise_calculations' from '/home/563/ab2313/Documents/zecmip_stabilisation/src/signal_to_noise_calculations.py'>"
      ]
     },
     "execution_count": 50,
     "metadata": {},
     "output_type": "execute_result"
    }
   ],
   "source": [
    "reload(sn_calc)"
   ]
  },
  {
   "cell_type": "code",
   "execution_count": 51,
   "id": "8ec6c024-f69f-4f68-8839-eaaabe043cda",
   "metadata": {},
   "outputs": [],
   "source": [
    "chunk_sizes = {'time':-1, 'model':1, 'window':10, 'lat':-1, 'lon':-1}"
   ]
  },
  {
   "cell_type": "code",
   "execution_count": 52,
   "id": "157d54b7-f38f-4e97-8928-2e1d3249ceb6",
   "metadata": {},
   "outputs": [],
   "source": [
    "A1_FILE_PATH = os.path.join(constants.ZECMIP_STABILISATION_DIR, 'sn_ratio_a1_p99_custom_windows_data')\n",
    "PI_BOUNDS_FILE_PATH = os.path.join(constants.ZECMIP_STABILISATION_DIR, 'sn_ratio_bounds_p99_custom_windows_data')"
   ]
  },
  {
   "cell_type": "code",
   "execution_count": 53,
   "id": "f0c5cc19-3179-4510-b847-f3d40549478e",
   "metadata": {},
   "outputs": [],
   "source": [
    "if isinstance(a1_anom_data, (xr.Dataset, xr.DataArray)):\n",
    "    A1_FILE_PATH = A1_FILE_PATH.replace('_data', '.zarr')\n",
    "    PI_BOUNDS_FILE_PATH =  PI_BOUNDS_FILE_PATH.replace('_data', '.zarr')\n",
    "else:\n",
    "    A1_FILE_PATH = A1_FILE_PATH.replace('_data', '_xrlist')\n",
    "    PI_BOUNDS_FILE_PATH =  PI_BOUNDS_FILE_PATH.replace('_data', '_xrlist')"
   ]
  },
  {
   "cell_type": "code",
   "execution_count": 54,
   "id": "8dd1f90e-e457-44db-8554-72853cb8335b",
   "metadata": {},
   "outputs": [
    {
     "data": {
      "text/plain": [
       "('/g/data/w40/ab2313/zecmip_stabilisation/sn_ratio_a1_p99_custom_windows_xrlist',\n",
       " '/g/data/w40/ab2313/zecmip_stabilisation/sn_ratio_bounds_p99_custom_windows_xrlist')"
      ]
     },
     "execution_count": 54,
     "metadata": {},
     "output_type": "execute_result"
    }
   ],
   "source": [
    "A1_FILE_PATH, PI_BOUNDS_FILE_PATH"
   ]
  },
  {
   "cell_type": "code",
   "execution_count": 55,
   "id": "48d47e19-f198-49ad-b01e-c108fafd2341",
   "metadata": {},
   "outputs": [],
   "source": [
    "# constants.MODEL_WINDOW_INFORMATION"
   ]
  },
  {
   "cell_type": "code",
   "execution_count": 56,
   "id": "12f2602c-15f4-4272-a06a-fed3a59a26d2",
   "metadata": {
    "scrolled": true
   },
   "outputs": [],
   "source": [
    "# %%time\n",
    "# # BEST VERSION for A1\n",
    "# # # ### Signal to noise Ration\n",
    "# # # ### listXarray\n",
    "# # # ### Unique windows for each model\n",
    "\n",
    "# sn_ratio_a1_list = []\n",
    "# for model in a1_anom_data.model:\n",
    "\n",
    "#     model_windows = np.arange(10,constants.MODEL_WINDOW_INFORMATION[model]['max_window'])\n",
    "\n",
    "#     print(model, model_windows)\n",
    "#     n_workers = len(model_windows)\n",
    "#     if n_workers > 45: n_workers = 45\n",
    "#     client.cluster.scale(n_workers)#len(windows))\n",
    "#     sleep(5) \n",
    "#     sn_ratio_a1_da_model =\\\n",
    "#         sn_calc.signal_to_noise_ratio_multi_window(\n",
    "#         a1_anom_data.sel(model=model),\n",
    "#         model_windows,\n",
    "#         detrended_data=a1_anom_detrend_data.sel(model=model),\n",
    "#         parallel=True,\n",
    "#         start_align=False,\n",
    "#         noise_type='rolling',\n",
    "#         # min_periods='half',\n",
    "#         logginglevel='ERROR'\n",
    "#     )\n",
    "#     sn_ratio_a1_da_model = sn_ratio_a1_da_model.drop('ensemble')\n",
    "#     sn_ratio_a1_da_model.name = 'sn'\n",
    "#     sn_ratio_a1_da_model = sn_ratio_a1_da_model.chunk(chunks=chunk_sizes)\n",
    "#     sn_ratio_a1_list.append(sn_ratio_a1_da_model)\n",
    "    \n",
    "# sn_ratio_a1_data = listXarray(sn_ratio_a1_list, 'model')"
   ]
  },
  {
   "cell_type": "code",
   "execution_count": 57,
   "id": "28412bed-9626-434a-9165-e9496de41887",
   "metadata": {},
   "outputs": [],
   "source": [
    "# sn_ratio_a1_data.to_netcdf(A1_FILE_PATH)"
   ]
  },
  {
   "cell_type": "code",
   "execution_count": 58,
   "id": "eabc51d6-5940-4520-b56e-1f36cee7d9d8",
   "metadata": {},
   "outputs": [],
   "source": [
    "# esmpi_chunks = {\n",
    "#     'ACCESS-ESM1-5': {'time':-1, 'lat':int(145/5), 'lon':int(192/2) },\n",
    "#     'CESM2': {'time':-1, 'lat':int(192/2), 'lon': int(288/2)},\n",
    "#     'CanESM5': {'time':-1, 'lat':int(64/2), 'lon': int(128/2)},\n",
    "#     'GFDL-ESM4': {'time':-1, 'lat':int(180/4), 'lon': int(288/2)},\n",
    "#     'GISS-E2-1-G-CC': {'time':-1, 'lat':int(165/5), 'lon':int(144) },\n",
    "#     'MIROC-ES2L': {'time':-1, 'lat':int(64/2), 'lon': int(128/2)},\n",
    "#     'MPI-ESM1-2-LR': {'time':-1, 'lat':int(96/2), 'lon':int(192/2) },\n",
    "#     'NorESM2-LM': {'time':-1, 'lat':int(96/2), 'lon': int(144/2)},\n",
    "#     'UKESM1-0-LL': {'time':-1, 'lat':int(144/4), 'lon': int(192/2)},\n",
    "\n",
    "# }\n",
    "\n",
    "# esmpi_data = esmpi_data.chunk(esmpi_chunks)\n",
    "# esmpi_data = esmpi_data.compute()#chunk(esmpi_chunks)"
   ]
  },
  {
   "cell_type": "code",
   "execution_count": 59,
   "id": "af870fa8-a83f-427f-941e-29419b4a4d59",
   "metadata": {
    "scrolled": true
   },
   "outputs": [],
   "source": [
    "# %%time\n",
    "# BEST VERSION for pi-Control\n",
    "### Signal to noise Ration\n",
    "### listXarray\n",
    "### Unique windows for each model\n",
    "\n",
    "\n",
    "##### NOTES ON RUNNING THIS\n",
    "#### Can potentially be sclad to 15 for all BUT UKESSM\n",
    "#### UKSEM: 5 workers iff no chunks (worker memory gets to 50gb). \n",
    "#### If UKESM is chunked (e.g. lat split in two, then the number of workers could also be 10)\n",
    "#### without the memory getting too large. \n",
    "#### I have lots of cores though. Even dividing inton smaller chunks with more workers could improve this\n",
    "\n",
    "# sn_ratio_bounds_list = []\n",
    "# for model in esmpi_data.model:\n",
    "#     model_windows = np.arange(10,constants.MODEL_WINDOW_INFORMATION[model]['max_window'])\n",
    "#     if 'UKESM' in model:\n",
    "#         client.cluster.scale(5)\n",
    "#         sleep(5)\n",
    "#     print(model, model_windows)\n",
    "#     # n_workers = 20#len(model_windows)\n",
    "#     # if n_workers > 45: n_workers = 45\n",
    "#     # client.cluster.scale(n_workers)#len(windows))\n",
    "\n",
    "#     sn_ratio_bounds_da = sn_calc.signal_to_noise_ratio_bounds_multi_window(\n",
    "#         esmpi_data.sel(model=model),\n",
    "#         model_windows, \n",
    "#         parallel=True, \n",
    "#         qlower=1, qupper=99,\n",
    "#         logginglevel='INFO')\n",
    "    \n",
    "#     sn_ratio_bounds_list.append(sn_ratio_bounds_da)\n",
    "    \n",
    "# sn_ratio_bounds_data = listXarray(sn_ratio_bounds_list, 'model')"
   ]
  },
  {
   "cell_type": "code",
   "execution_count": 60,
   "id": "8a0bfc95-ca2f-4b4d-84bc-79797f68d751",
   "metadata": {},
   "outputs": [],
   "source": [
    "# print(PI_BOUNDS_FILE_PATH)\n",
    "# sn_ratio_bounds_data.to_netcdf(PI_BOUNDS_FILE_PATH)"
   ]
  },
  {
   "cell_type": "code",
   "execution_count": 61,
   "id": "ef98fb74-a7ad-4ebb-bcc5-557ae3c1904a",
   "metadata": {},
   "outputs": [
    {
     "name": "stdout",
     "output_type": "stream",
     "text": [
      "key_dim = model\n"
     ]
    },
    {
     "data": {
      "text/plain": [
       "Number of da/ds: 9\n",
       "---------------\n",
       "ACCESS-ESM1-5  (dataArray): ({'window': 21, 'model': 1, 'time': 101, 'lat': 145, 'lon': 192})\n",
       "CESM2          (dataArray): ({'window': 37, 'model': 1, 'time': 150, 'lat': 192, 'lon': 288})\n",
       "CanESM5        (dataArray): ({'window': 20, 'model': 1, 'time': 100, 'lat': 64, 'lon': 128})\n",
       "GFDL-ESM4      (dataArray): ({'window': 54, 'model': 1, 'time': 200, 'lat': 180, 'lon': 288})\n",
       "GISS-E2-1-G-CC (dataArray): ({'window': 47, 'model': 1, 'time': 180, 'lat': 90, 'lon': 144})\n",
       "MIROC-ES2L     (dataArray): ({'window': 70, 'model': 1, 'time': 248, 'lat': 64, 'lon': 128})\n",
       "MPI-ESM1-2-LR  (dataArray): ({'window': 49, 'model': 1, 'time': 185, 'lat': 96, 'lon': 192})\n",
       "NorESM2-LM     (dataArray): ({'window': 20, 'model': 1, 'time': 100, 'lat': 96, 'lon': 144})\n",
       "UKESM1-0-LL    (dataArray): ({'window': 97, 'model': 1, 'time': 330, 'lat': 144, 'lon': 192})"
      ]
     },
     "execution_count": 61,
     "metadata": {},
     "output_type": "execute_result"
    }
   ],
   "source": [
    "sn_ratio_a1_data = read_listxarray(A1_FILE_PATH).sn\n",
    "sn_ratio_a1_data"
   ]
  },
  {
   "cell_type": "code",
   "execution_count": 62,
   "id": "f7658f0a-e14c-428f-85e3-f7b808ca221d",
   "metadata": {},
   "outputs": [],
   "source": [
    "sn_ratio_bounds_data = read_listxarray(PI_BOUNDS_FILE_PATH,\n",
    "                                          logginglevel='ERROR')"
   ]
  },
  {
   "cell_type": "code",
   "execution_count": 63,
   "id": "96453ffb-21fc-4704-8134-009cbd380255",
   "metadata": {},
   "outputs": [
    {
     "name": "stdout",
     "output_type": "stream",
     "text": [
      "key_dim = model\n"
     ]
    },
    {
     "data": {
      "text/plain": [
       "Number of da/ds: 9\n",
       "---------------\n",
       "ACCESS-ESM1-5  (dataArray): ({'window': 21, 'model': 1, 'time': 101})\n",
       "CESM2          (dataArray): ({'window': 37, 'model': 1, 'time': 150})\n",
       "CanESM5        (dataArray): ({'window': 20, 'model': 1, 'time': 100})\n",
       "GFDL-ESM4      (dataArray): ({'window': 54, 'model': 1, 'time': 200})\n",
       "GISS-E2-1-G-CC (dataArray): ({'window': 47, 'model': 1, 'time': 180})\n",
       "MIROC-ES2L     (dataArray): ({'window': 70, 'model': 1, 'time': 248})\n",
       "MPI-ESM1-2-LR  (dataArray): ({'window': 49, 'model': 1, 'time': 185})\n",
       "NorESM2-LM     (dataArray): ({'window': 20, 'model': 1, 'time': 100})\n",
       "UKESM1-0-LL    (dataArray): ({'window': 97, 'model': 1, 'time': 330})"
      ]
     },
     "execution_count": 63,
     "metadata": {},
     "output_type": "execute_result"
    }
   ],
   "source": [
    "sn_nan_locs_data = sn_ratio_a1_data.isel(lat=0, lon=0)(np.isnan)\n",
    "sn_nan_locs_data"
   ]
  },
  {
   "cell_type": "code",
   "execution_count": 64,
   "id": "fb2f5fd1-146c-4eff-a3d1-5ad5837a2c05",
   "metadata": {},
   "outputs": [
    {
     "data": {
      "text/plain": [
       "<matplotlib.collections.QuadMesh at 0x14644966bbb0>"
      ]
     },
     "execution_count": 64,
     "metadata": {},
     "output_type": "execute_result"
    },
    {
     "data": {
      "image/png": "[encoded data removed]",
      "text/plain": [
       "<Figure size 640x480 with 2 Axes>"
      ]
     },
     "metadata": {},
     "output_type": "display_data"
    }
   ],
   "source": [
    "model='MIROC-ES2L'\n",
    "lat_lon_dict = dict(lat=43, lon=115, method='nearest')\n",
    "sn_ratio_a1_data[model].sel(**lat_lon_dict).plot(y='window')"
   ]
  },
  {
   "cell_type": "code",
   "execution_count": 65,
   "id": "97faa717-862b-484f-a4b2-6da34ef953e7",
   "metadata": {},
   "outputs": [
    {
     "data": {
      "text/plain": [
       "<matplotlib.collections.QuadMesh at 0x146449646050>"
      ]
     },
     "execution_count": 65,
     "metadata": {},
     "output_type": "execute_result"
    },
    {
     "data": {
      "image/png": "[encoded data removed]",
      "text/plain": [
       "<Figure size 640x480 with 2 Axes>"
      ]
     },
     "metadata": {},
     "output_type": "display_data"
    }
   ],
   "source": [
    "model='MIROC-ES2L'\n",
    "# lat_lon_dict = dict(lat=43, lon=115, method='nearest')\n",
    "sn_nan_locs_data[model].plot(y='window')"
   ]
  },
  {
   "cell_type": "code",
   "execution_count": 66,
   "id": "7cf054e0-62be-4d26-a974-81f31f7055c6",
   "metadata": {},
   "outputs": [
    {
     "data": {
      "text/plain": [
       "<matplotlib.collections.QuadMesh at 0x1464495f60e0>"
      ]
     },
     "execution_count": 66,
     "metadata": {},
     "output_type": "execute_result"
    },
    {
     "data": {
      "image/png": "[encoded data removed]",
      "text/plain": [
       "<Figure size 640x480 with 2 Axes>"
      ]
     },
     "metadata": {},
     "output_type": "display_data"
    }
   ],
   "source": [
    "sn_ratio_a1_data[-1].isel(window=0, time=11).plot()"
   ]
  },
  {
   "cell_type": "code",
   "execution_count": 67,
   "id": "8719961d-d2b9-4cea-b092-e93f09fd2bd6",
   "metadata": {},
   "outputs": [
    {
     "data": {
      "text/plain": [
       "<matplotlib.collections.QuadMesh at 0x1464494d8eb0>"
      ]
     },
     "execution_count": 67,
     "metadata": {},
     "output_type": "execute_result"
    },
    {
     "data": {
      "image/png": "[encoded data removed]",
      "text/plain": [
       "<Figure size 640x480 with 2 Axes>"
      ]
     },
     "metadata": {},
     "output_type": "display_data"
    }
   ],
   "source": [
    "sn_ratio_a1_data[-1].isel(window=-1, time=50).plot()"
   ]
  },
  {
   "cell_type": "code",
   "execution_count": 68,
   "id": "f9af0872-db84-4028-818c-0d7a9314c14e",
   "metadata": {},
   "outputs": [],
   "source": [
    "# Open both the files. \n",
    "# This takes ages to run - so files have been saved\n",
    "# sn_ratio_a1_data = xr.open_dataarray(A1_FILE_PATH, engine='zarr', chunks=chunk_sizes)\n",
    "# sn_ratio_bounds_data = xr.open_dataset(PI_BOUNDS_FILE_PATH,engine='zarr')"
   ]
  },
  {
   "cell_type": "code",
   "execution_count": 69,
   "id": "a1311891-2daf-44f6-b49a-1edb5eba5f41",
   "metadata": {},
   "outputs": [
    {
     "data": {
      "text/plain": [
       "{'ACCESS-ESM1-5': array([10, 11, 12, 13, 14, 15, 16, 17, 18, 19, 20, 21, 22, 23, 24, 25, 26,\n",
       "        27, 28, 29, 30]),\n",
       " 'CESM2': array([10, 11, 12, 13, 14, 15, 16, 17, 18, 19, 20, 21, 22, 23, 24, 25, 26,\n",
       "        27, 28, 29, 30, 31, 32, 33, 34, 35, 36, 37, 38, 39, 40, 41, 42, 43,\n",
       "        44, 45, 46]),\n",
       " 'CanESM5': array([10, 11, 12, 13, 14, 15, 16, 17, 18, 19, 20, 21, 22, 23, 24, 25, 26,\n",
       "        27, 28, 29]),\n",
       " 'GFDL-ESM4': array([10, 11, 12, 13, 14, 15, 16, 17, 18, 19, 20, 21, 22, 23, 24, 25, 26,\n",
       "        27, 28, 29, 30, 31, 32, 33, 34, 35, 36, 37, 38, 39, 40, 41, 42, 43,\n",
       "        44, 45, 46, 47, 48, 49, 50, 51, 52, 53, 54, 55, 56, 57, 58, 59, 60,\n",
       "        61, 62, 63]),\n",
       " 'GISS-E2-1-G-CC': array([10, 11, 12, 13, 14, 15, 16, 17, 18, 19, 20, 21, 22, 23, 24, 25, 26,\n",
       "        27, 28, 29, 30, 31, 32, 33, 34, 35, 36, 37, 38, 39, 40, 41, 42, 43,\n",
       "        44, 45, 46, 47, 48, 49, 50, 51, 52, 53, 54, 55, 56]),\n",
       " 'MIROC-ES2L': array([10, 11, 12, 13, 14, 15, 16, 17, 18, 19, 20, 21, 22, 23, 24, 25, 26,\n",
       "        27, 28, 29, 30, 31, 32, 33, 34, 35, 36, 37, 38, 39, 40, 41, 42, 43,\n",
       "        44, 45, 46, 47, 48, 49, 50, 51, 52, 53, 54, 55, 56, 57, 58, 59, 60,\n",
       "        61, 62, 63, 64, 65, 66, 67, 68, 69, 70, 71, 72, 73, 74, 75, 76, 77,\n",
       "        78, 79]),\n",
       " 'MPI-ESM1-2-LR': array([10, 11, 12, 13, 14, 15, 16, 17, 18, 19, 20, 21, 22, 23, 24, 25, 26,\n",
       "        27, 28, 29, 30, 31, 32, 33, 34, 35, 36, 37, 38, 39, 40, 41, 42, 43,\n",
       "        44, 45, 46, 47, 48, 49, 50, 51, 52, 53, 54, 55, 56, 57, 58]),\n",
       " 'NorESM2-LM': array([10, 11, 12, 13, 14, 15, 16, 17, 18, 19, 20, 21, 22, 23, 24, 25, 26,\n",
       "        27, 28, 29]),\n",
       " 'UKESM1-0-LL': array([ 10,  11,  12,  13,  14,  15,  16,  17,  18,  19,  20,  21,  22,\n",
       "         23,  24,  25,  26,  27,  28,  29,  30,  31,  32,  33,  34,  35,\n",
       "         36,  37,  38,  39,  40,  41,  42,  43,  44,  45,  46,  47,  48,\n",
       "         49,  50,  51,  52,  53,  54,  55,  56,  57,  58,  59,  60,  61,\n",
       "         62,  63,  64,  65,  66,  67,  68,  69,  70,  71,  72,  73,  74,\n",
       "         75,  76,  77,  78,  79,  80,  81,  82,  83,  84,  85,  86,  87,\n",
       "         88,  89,  90,  91,  92,  93,  94,  95,  96,  97,  98,  99, 100,\n",
       "        101, 102, 103, 104, 105, 106])}"
      ]
     },
     "execution_count": 69,
     "metadata": {},
     "output_type": "execute_result"
    }
   ],
   "source": [
    "sn_ratio_bounds_data.window #.values"
   ]
  },
  {
   "cell_type": "code",
   "execution_count": 70,
   "id": "c9c6ef92-f5c2-4716-a907-e667d311a223",
   "metadata": {},
   "outputs": [],
   "source": [
    "sn_ratio_a1_data = sn_ratio_a1_data.drop('ensemble')\n",
    "sn_ratio_bounds_data = sn_ratio_bounds_data.drop('ensemble')"
   ]
  },
  {
   "cell_type": "code",
   "execution_count": 71,
   "id": "209c3aa0-b97c-4b0a-9544-219813292e69",
   "metadata": {
    "scrolled": true
   },
   "outputs": [],
   "source": [
    "# The S/N ratio that is unstable - e.g. the A1 S/N where the pi-control is unstable\n",
    "unstable_sn_data = sn_ratio_a1_data.where(\n",
    "    (sn_ratio_a1_data>sn_ratio_bounds_data.upper_bound) | # Greater than upper-bounds\n",
    "    (sn_ratio_a1_data<sn_ratio_bounds_data.lower_bound))# Less than lower bound\n",
    "\n",
    "unstable_sn_data = unstable_sn_data.transpose(*['window', 'time', 'model', 'lat', 'lon'])"
   ]
  },
  {
   "cell_type": "code",
   "execution_count": 72,
   "id": "9e6acc27-6925-4531-a1fa-ef171fcb8eb1",
   "metadata": {},
   "outputs": [
    {
     "data": {
      "text/plain": [
       "[<matplotlib.lines.Line2D at 0x1464491d7250>]"
      ]
     },
     "execution_count": 72,
     "metadata": {},
     "output_type": "execute_result"
    },
    {
     "data": {
      "image/png": "[encoded data removed]",
      "text/plain": [
       "<Figure size 640x480 with 1 Axes>"
      ]
     },
     "metadata": {},
     "output_type": "display_data"
    }
   ],
   "source": [
    "sn_ratio_a1_data[1].sel(window=31).sel(lat=-39, lon=145, method='nearest').plot()\n",
    "unstable_sn_data[1].sel(window=31).sel(lat=-39, lon=145, method='nearest').plot()"
   ]
  },
  {
   "cell_type": "code",
   "execution_count": 73,
   "id": "e4fa59e1-8cd6-4bac-8447-0f2cb1ca21fd",
   "metadata": {},
   "outputs": [
    {
     "name": "stdout",
     "output_type": "stream",
     "text": [
      "key_dim = model\n"
     ]
    },
    {
     "data": {
      "text/plain": [
       "Number of da/ds: 9\n",
       "---------------\n",
       "ACCESS-ESM1-5  (dataArray): ({'window': 21, 'time': 101, 'model': 1, 'lat': 145, 'lon': 192})\n",
       "CESM2          (dataArray): ({'window': 37, 'time': 150, 'model': 1, 'lat': 192, 'lon': 288})\n",
       "CanESM5        (dataArray): ({'window': 20, 'time': 100, 'model': 1, 'lat': 64, 'lon': 128})\n",
       "GFDL-ESM4      (dataArray): ({'window': 54, 'time': 200, 'model': 1, 'lat': 180, 'lon': 288})\n",
       "GISS-E2-1-G-CC (dataArray): ({'window': 47, 'time': 180, 'model': 1, 'lat': 90, 'lon': 144})\n",
       "MIROC-ES2L     (dataArray): ({'window': 70, 'time': 248, 'model': 1, 'lat': 64, 'lon': 128})\n",
       "MPI-ESM1-2-LR  (dataArray): ({'window': 49, 'time': 185, 'model': 1, 'lat': 96, 'lon': 192})\n",
       "NorESM2-LM     (dataArray): ({'window': 20, 'time': 100, 'model': 1, 'lat': 96, 'lon': 144})\n",
       "UKESM1-0-LL    (dataArray): ({'window': 97, 'time': 330, 'model': 1, 'lat': 144, 'lon': 192})"
      ]
     },
     "execution_count": 73,
     "metadata": {},
     "output_type": "execute_result"
    }
   ],
   "source": [
    "unstable_sn_data"
   ]
  },
  {
   "cell_type": "markdown",
   "id": "3cb696cf-ee60-4740-b687-6bc955a696b2",
   "metadata": {},
   "source": [
    "# Stable Year Detection\n",
    "This method use when all windows lengths become stable. The method then finds which window lengths are the windows that are unstable, and get the last unstable point in these windows"
   ]
  },
  {
   "cell_type": "code",
   "execution_count": 74,
   "id": "d0dffc25-0894-464f-9bcd-8d5dc6a7281f",
   "metadata": {},
   "outputs": [
    {
     "data": {
      "text/plain": [
       "['time', 'window', 'model', 'lat', 'lon']"
      ]
     },
     "execution_count": 74,
     "metadata": {},
     "output_type": "execute_result"
    }
   ],
   "source": [
    "dim_order = ['time', 'window' , 'model', 'lat', 'lon']\n",
    "dim_order"
   ]
  },
  {
   "cell_type": "code",
   "execution_count": 75,
   "id": "1b718270-c4e8-4d9a-8fe0-09c51f504174",
   "metadata": {},
   "outputs": [],
   "source": [
    "chunks = {\n",
    "    'ACCESS-ESM1-5': {'time':-1, 'window':-1, 'lat':int(145/4), 'lon':int(192/2)},   # too big\n",
    "    'CESM2': {'time':-1, 'window':-1, 'lat':int(145/4), 'lon':int(192/4)},\n",
    "    'CanESM5': {'time':-1, 'window':-1, 'lat':int(64/4), 'lon':int(128/4)},\n",
    "    'GFDL-ESM4': {'time':-1, 'window':-1, 'lat':int(180/3), 'lon':int(144/4)},\n",
    "    'GISS-E2-1-G-CC': {'time':-1, 'window':-1, 'lat':int(90/2), 'lon':int(192/4)},\n",
    "    'MIROC-ES2L': {'time':-1, 'window':-1, 'lat':int(64/2), 'lon':int(128/2)},\n",
    "    'MPI-ESM1-2-LR': {'time':-1, 'window':-1, 'lat':int(96/2), 'lon':int(192/2)},\n",
    "    'NorESM2-LM': {'time':-1, 'window':-1, 'lat':int(96/2), 'lon':int(144/4)},\n",
    "    'UKESM1-0-LL': {'time':-1, 'window':-1, 'lat':int(144/2), 'lon':int(192/3)},\n",
    "}"
   ]
  },
  {
   "cell_type": "code",
   "execution_count": 76,
   "id": "8c26755c-e78d-46b9-b125-5eabb64c2560",
   "metadata": {},
   "outputs": [],
   "source": [
    "unstable_sn_data = unstable_sn_data.transpose(*dim_order).chunk(chunks)\n",
    "#{'time':-1, 'window':-1, 'lat':int(150/2), 'lon':int(200/2)}))\n",
    "unstable_sn_data = unstable_sn_data.persist()"
   ]
  },
  {
   "cell_type": "code",
   "execution_count": 77,
   "id": "d5bb2a7c-8fca-4cd1-bab7-a46a44c83f5e",
   "metadata": {},
   "outputs": [],
   "source": [
    "# client.cluster.scale(25)\n",
    "# sleep(4)"
   ]
  },
  {
   "cell_type": "code",
   "execution_count": 78,
   "id": "eebbec85-7380-48fb-8a7a-a3ce525c9b34",
   "metadata": {},
   "outputs": [
    {
     "name": "stdout",
     "output_type": "stream",
     "text": [
      "key_dim = model\n"
     ]
    },
    {
     "data": {
      "text/plain": [
       "Number of da/ds: 9\n",
       "---------------\n",
       "ACCESS-ESM1-5  (dataArray): ({'time': 101, 'window': 21, 'model': 1, 'lat': 145, 'lon': 192})\n",
       "              (Array: 450.51, Chunk: 55.92Mib) ({'time': (101,), 'window': (21,), 'model': (1,), 'lat': (36, 36, 36, 36, 1), 'lon': (96, 96)})\n",
       "CESM2          (dataArray): ({'time': 150, 'window': 37, 'model': 1, 'lat': 192, 'lon': 288})\n",
       "              (Array: 2341.41, Chunk: 73.17Mib) ({'time': (150,), 'window': (37,), 'model': (1,), 'lat': (36, 36, 36, 36, 36, 12), 'lon': (48, 48, 48, 48, 48, 48)})\n",
       "CanESM5        (dataArray): ({'time': 100, 'window': 20, 'model': 1, 'lat': 64, 'lon': 128})\n",
       "              (Array: 125.00, Chunk: 7.81Mib) ({'time': (100,), 'window': (20,), 'model': (1,), 'lat': (16, 16, 16, 16), 'lon': (32, 32, 32, 32)})\n",
       "GFDL-ESM4      (dataArray): ({'time': 200, 'window': 54, 'model': 1, 'lat': 180, 'lon': 288})\n",
       "              (Array: 4271.48, Chunk: 177.98Mib) ({'time': (200,), 'window': (54,), 'model': (1,), 'lat': (60, 60, 60), 'lon': (36, 36, 36, 36, 36, 36, 36, 36)})\n",
       "GISS-E2-1-G-CC (dataArray): ({'time': 180, 'window': 47, 'model': 1, 'lat': 90, 'lon': 144})\n",
       "              (Array: 836.50, Chunk: 139.42Mib) ({'time': (180,), 'window': (47,), 'model': (1,), 'lat': (45, 45), 'lon': (48, 48, 48)})\n",
       "MIROC-ES2L     (dataArray): ({'time': 248, 'window': 70, 'model': 1, 'lat': 64, 'lon': 128})\n",
       "              (Array: 1085.00, Chunk: 271.25Mib) ({'time': (248,), 'window': (70,), 'model': (1,), 'lat': (32, 32), 'lon': (64, 64)})\n",
       "MPI-ESM1-2-LR  (dataArray): ({'time': 185, 'window': 49, 'model': 1, 'lat': 96, 'lon': 192})\n",
       "              (Array: 1274.77, Chunk: 318.69Mib) ({'time': (185,), 'window': (49,), 'model': (1,), 'lat': (48, 48), 'lon': (96, 96)})\n",
       "NorESM2-LM     (dataArray): ({'time': 100, 'window': 20, 'model': 1, 'lat': 96, 'lon': 144})\n",
       "              (Array: 210.94, Chunk: 26.37Mib) ({'time': (100,), 'window': (20,), 'model': (1,), 'lat': (48, 48), 'lon': (36, 36, 36, 36)})\n",
       "UKESM1-0-LL    (dataArray): ({'time': 330, 'window': 97, 'model': 1, 'lat': 144, 'lon': 192})\n",
       "              (Array: 6752.11, Chunk: 1125.35Mib) ({'time': (330,), 'window': (97,), 'model': (1,), 'lat': (72, 72), 'lon': (64, 64, 64)})"
      ]
     },
     "execution_count": 78,
     "metadata": {},
     "output_type": "execute_result"
    }
   ],
   "source": [
    "unstable_sn_data"
   ]
  },
  {
   "cell_type": "code",
   "execution_count": 79,
   "id": "030293c3-3c04-4f52-8f7b-b36e7a8f4222",
   "metadata": {},
   "outputs": [
    {
     "data": {
      "text/plain": [
       "['time', 'window', 'model', 'lat', 'lon']"
      ]
     },
     "execution_count": 79,
     "metadata": {},
     "output_type": "execute_result"
    }
   ],
   "source": [
    "dim_order"
   ]
  },
  {
   "cell_type": "code",
   "execution_count": null,
   "id": "59ee93d9-133a-4639-b252-67c1939dd329",
   "metadata": {},
   "outputs": [
    {
     "name": "stdout",
     "output_type": "stream",
     "text": [
      "ACCESS-ESM1-5 90 [10 11 12 13 14 15 16 17 18 19 20 21 22 23 24 25 26 27 28 29 30]\n"
     ]
    }
   ],
   "source": [
    "### The year stable and unstalbe not must be done seperatly per model, \n",
    "### this is becuase the windows is now different depending on the model.\n",
    "year_stable_and_unstable_model_list = []\n",
    "for model in unstable_sn_data.model:\n",
    "    unstable_sn_da =  unstable_sn_data.sel(model=model)\n",
    "\n",
    "    model_windows = unstable_sn_da.window.values\n",
    "    max_val = constants.MODEL_WINDOW_INFORMATION[model]['time_length']- 11\n",
    "    print(model, max_val ,model_windows)\n",
    "    \n",
    "    year_stable_and_unstable_model_ds = xr.apply_ufunc(\n",
    "        partial(sn_calc.calcuate_year_stable_and_unstable, windows=model_windows),\n",
    "        unstable_sn_da,#.transpose(*dim_order),\n",
    "        input_core_dims=[['time', 'window']],\n",
    "        output_core_dims=[['stability_index']],\n",
    "        dask_gufunc_kwargs={'output_sizes': {'stability_index': 7}},\n",
    "        vectorize=True,\n",
    "        dask='parallelized',\n",
    "        output_dtypes=[np.float64],\n",
    "        kwargs={'max_val': max_val, 'logginglevel':'ERROR'}\n",
    "    ).compute()\n",
    "    year_stable_and_unstable_model_ds=year_stable_and_unstable_model_ds.assign_coords(\n",
    "        stability_index=[1, 2, 3, 4, 5, 6, 7])\n",
    "    \n",
    "    year_stable_and_unstable_model_ds.attrs['Stability index'] ='Odd values mean stable, even mean unstable'\n",
    "\n",
    "    year_stable_and_unstable_model_list.append(year_stable_and_unstable_model_ds)\n",
    "\n",
    "year_stable_unstable_data = listXarray(year_stable_and_unstable_model_list, 'model')"
   ]
  },
  {
   "cell_type": "code",
   "execution_count": null,
   "id": "6e90df5d-8e8d-4e2b-9639-28200c7d9b52",
   "metadata": {},
   "outputs": [],
   "source": [
    "year_stable_unstable_data"
   ]
  },
  {
   "cell_type": "code",
   "execution_count": null,
   "id": "74b13168-f7e2-43a1-a097-ac44df3220e8",
   "metadata": {
    "scrolled": true
   },
   "outputs": [],
   "source": [
    "# %%time\n",
    "# year_stable_unstable_data_raw = apply_ufunc(\n",
    "#     sn_calc.calcuate_year_stable_and_unstable,\n",
    "#     unstable_sn_data,\n",
    "#     # (unstable_sn_data.transpose(*dim_order)\n",
    "#      # .sel(lat=slice(-15,-5), lon=slice(150, 160))\n",
    "#     # ),\n",
    "#     input_core_dims=[['time', 'window']],\n",
    "#     output_core_dims=[['stability_index']],\n",
    "#     dask_gufunc_kwargs={'output_sizes': {'stability_index': 9}},\n",
    "#     vectorize=True,\n",
    "#     dask='parallelized',\n",
    "#     output_dtypes=[np.float64],\n",
    "#     kwargs = {'windows': windows, 'number_attempts':9, 'logginglevel':'ERROR'}\n",
    "# ).compute()\n"
   ]
  },
  {
   "cell_type": "code",
   "execution_count": null,
   "id": "678103eb-1c73-48d8-afb2-305f20a9a962",
   "metadata": {},
   "outputs": [],
   "source": [
    "# client.cluster.scale(12)\n",
    "# sleep(4)"
   ]
  },
  {
   "cell_type": "code",
   "execution_count": null,
   "id": "e810c1c4-385a-4c70-b566-2e134b67a554",
   "metadata": {
    "scrolled": true
   },
   "outputs": [],
   "source": [
    "# td = xr.apply_ufunc(\n",
    "#     sn_calc.calcuate_year_stable_and_unstable,\n",
    "#     (unstable_sn_data[model]\n",
    "#      .transpose(*dim_order)\n",
    "#      .chunk({'time':-1, 'window':-1, 'lat':int(150/2), 'lon':int(192/2)}).sel(lat=slice(-15,-5), lon=slice(150, 160))\n",
    "#      # .isel(lat=slice(0,30), lon=slice(0,100))\n",
    "#     ),\n",
    "#     input_core_dims=[['time', 'window']],\n",
    "#     output_core_dims=[['stability_index']],\n",
    "#     dask_gufunc_kwargs={'output_sizes': {'stability_index': 9}},\n",
    "#     vectorize=True,\n",
    "#     dask='parallelized',\n",
    "#     output_dtypes=[np.float64],\n",
    "#     kwargs = {'windows': windows, 'number_attempts':9, 'logginglevel':'ERROR'}\n",
    "# ).compute()\n",
    "# # td = td.compute()"
   ]
  },
  {
   "cell_type": "code",
   "execution_count": null,
   "id": "dd07e484-f0d6-4fae-a7cb-85f54d27f6ff",
   "metadata": {},
   "outputs": [],
   "source": [
    "# Assigning coords and adding attrs\n",
    "# There are currently no methods for this.\n",
    "\n",
    "# year_stable_unstable_list = []\n",
    "# for model, ds in year_stable_unstable_data_raw:\n",
    "#     ds=ds.assign_coords(stability_index=[1, 2, 3, 4, 5, 6, 7, 8, 9])\n",
    "    \n",
    "#     ds.attrs['Stability index'] ='Odd values mean stable, even mean unstable'\n",
    "#     year_stable_unstable_list.append(ds)\n",
    "\n",
    "# year_stable_unstable_data = listXarray(year_stable_unstable_list,'model')"
   ]
  },
  {
   "cell_type": "code",
   "execution_count": null,
   "id": "688f9dc7-575e-4e90-8f49-b3b0d862142c",
   "metadata": {},
   "outputs": [],
   "source": [
    "# lat_lon_dict = dict(lat=75, lon=75, method='nearest')\n",
    "# lat_lon_dict = dict(lat=85, lon=75, method='nearest')\n",
    "# lat_lon_dict = dict(lat=89, lon=76 , method='nearest')\n",
    "# lat_lon_dict = dict(lat=80, lon=140 , method='nearest')"
   ]
  },
  {
   "cell_type": "code",
   "execution_count": null,
   "id": "2a087b1d-23d4-483a-be82-2469dedc8d9f",
   "metadata": {},
   "outputs": [],
   "source": [
    "year_stable_unstable_data"
   ]
  },
  {
   "cell_type": "code",
   "execution_count": null,
   "id": "7a1e93c8-77d0-4d57-b8e8-c025017e7ab2",
   "metadata": {},
   "outputs": [],
   "source": [
    "\n",
    "model='MIROC-ES2L'\n",
    "lat_lon_dict = dict(lat=43, lon=115, method='nearest')\n",
    "year_stable_unstable_data[model].sel(**lat_lon_dict)"
   ]
  },
  {
   "cell_type": "code",
   "execution_count": null,
   "id": "4513b3b7-4e65-48c0-ae73-062973ef09fc",
   "metadata": {},
   "outputs": [],
   "source": [
    "unstable_sn_data[model].sel(**lat_lon_dict).plot(y='window')"
   ]
  },
  {
   "cell_type": "code",
   "execution_count": null,
   "id": "941eb18e-a9f3-4379-be5b-0d46c0f393de",
   "metadata": {},
   "outputs": [],
   "source": [
    "a1_anom_data[model].sel(**lat_lon_dict).plot()"
   ]
  },
  {
   "cell_type": "code",
   "execution_count": null,
   "id": "2ba6d0ff-815d-47a1-9df2-4d9b6c50cd5f",
   "metadata": {},
   "outputs": [],
   "source": [
    "reload(sn_plotting)"
   ]
  },
  {
   "cell_type": "code",
   "execution_count": null,
   "id": "76763731-3fe6-41c8-853d-f3ff77600036",
   "metadata": {},
   "outputs": [],
   "source": [
    "model='MIROC-ES2L'\n",
    "lat_lon_dict = dict(lat=43, lon=115, method='nearest')\n",
    "fig, ax1, ax2 = sn_plotting.plot_stabilization(lat_lon_dict, model, a1_anom_data, unstable_sn_data,\n",
    "                                               year_stable_unstable_data)"
   ]
  },
  {
   "cell_type": "code",
   "execution_count": null,
   "id": "fbc8a56b-97e2-46eb-9187-2b85d90d8bac",
   "metadata": {},
   "outputs": [],
   "source": [
    "a1_anom_data[model].sel(**lat_lon_dict)"
   ]
  },
  {
   "cell_type": "code",
   "execution_count": null,
   "id": "b74bf569-c5b3-47fd-b6db-3d231b3af726",
   "metadata": {},
   "outputs": [],
   "source": [
    "sn_ratio_a1_data[model].sel(**lat_lon_dict)"
   ]
  },
  {
   "cell_type": "code",
   "execution_count": null,
   "id": "7fd060c1-f4b2-4ba7-8c8f-8cf8a2ac8c67",
   "metadata": {},
   "outputs": [],
   "source": [
    "sn_ratio_a1_data[2].sel(**lat_lon_dict)"
   ]
  },
  {
   "cell_type": "code",
   "execution_count": null,
   "id": "5437e002-1c35-460b-a88e-2ddf49c52b19",
   "metadata": {},
   "outputs": [],
   "source": [
    "fig, ax = plt.subplots(1,1)\n",
    "ax2 = ax.twinx()\n",
    "model='NorESM2-LM'\n",
    "lat_lon_dict = dict(lat=60, lon=317.5, method='nearest')\n",
    "sn_ratio_a1_data[model].sel(**lat_lon_dict).plot(ax=ax, y='window')\n",
    "# a1_anom_data[model].sel(**lat_lon_dict).plot(ax=ax2)"
   ]
  },
  {
   "cell_type": "code",
   "execution_count": null,
   "id": "8a9a60ef-7344-422c-93d5-f9a278b49b69",
   "metadata": {},
   "outputs": [],
   "source": [
    "model='NorESM2-LM'\n",
    "lat_lon_dict = dict(lat=60, lon=317.5, method='nearest')\n",
    "fig, ax1, ax2 = sn_plotting.plot_stabilization(lat_lon_dict, model, a1_anom_data, unstable_sn_data,\n",
    "                                               year_stable_unstable_data)"
   ]
  },
  {
   "cell_type": "code",
   "execution_count": null,
   "id": "ea2e5896-dbb7-4fc8-bd44-d3815482af7b",
   "metadata": {},
   "outputs": [],
   "source": [
    "lat_lon_dict = dict(lat=58, lon=334, method='nearest')\n",
    "model = 'CESM2'\n",
    "fig, ax1, ax2 = sn_plotting.plot_stabilization(lat_lon_dict, model, a1_anom_data, \n",
    "                                               sn_ratio_a1_data, year_stable_unstable_data)"
   ]
  },
  {
   "cell_type": "code",
   "execution_count": null,
   "id": "df3b3953-9ad2-4ad2-9b42-60aac1610075",
   "metadata": {},
   "outputs": [],
   "source": [
    "lat_lon_dict = dict(lat=58, lon=334, method='nearest')\n",
    "model = 'CESM2'\n",
    "fig, ax1, ax2 = sn_plotting.plot_stabilization(lat_lon_dict, model, a1_anom_data, unstable_sn_data, year_stable_unstable_data)"
   ]
  },
  {
   "cell_type": "code",
   "execution_count": null,
   "id": "a46cf451-9d8c-4bef-93a7-f3a27c00a8c4",
   "metadata": {},
   "outputs": [],
   "source": [
    "lat_lon_dict = dict(lat=80, lon=140 , method='nearest')\n",
    "model = 'ACCESS-ESM1-5'\n",
    "year_stable_unstable_data[model].sel(**lat_lon_dict).values"
   ]
  },
  {
   "cell_type": "code",
   "execution_count": null,
   "id": "02a12afb-d1db-473e-91df-18228a9b317a",
   "metadata": {},
   "outputs": [],
   "source": [
    "unstable_sn_data"
   ]
  },
  {
   "cell_type": "code",
   "execution_count": null,
   "id": "de6735ba-97dc-4467-afe4-0d9547193047",
   "metadata": {},
   "outputs": [],
   "source": [
    "unstable_sn_data[model].sel(**lat_lon_dict).plot(y='window')"
   ]
  },
  {
   "cell_type": "code",
   "execution_count": null,
   "id": "0f771c53-376a-4da4-806a-e7a731c2af3c",
   "metadata": {},
   "outputs": [],
   "source": [
    "lat_lon_dict = dict(lat=80, lon=140 , method='nearest')\n",
    "model = 'ACCESS-ESM1-5'\n",
    "fig, ax1, ax2 = sn_plotting.plot_stabilization(lat_lon_dict, model, a1_anom_data, unstable_sn_data, year_stable_unstable_data)"
   ]
  },
  {
   "cell_type": "code",
   "execution_count": null,
   "id": "307eebcd-b3ed-46fa-9683-714b26f089fb",
   "metadata": {},
   "outputs": [],
   "source": [
    "# Example usage:\n",
    "lat_lon_dict = dict(lat=89, lon=76 , method='nearest')\n",
    "model = 'ACCESS-ESM1-5'\n",
    "fig, ax1, ax2 = sn_plotting.plot_stabilization(lat_lon_dict, model, a1_anom_data, unstable_sn_data, year_stable_unstable_data)"
   ]
  },
  {
   "cell_type": "code",
   "execution_count": null,
   "id": "9d0a3788-4145-4a12-8e7f-189874ff6825",
   "metadata": {},
   "outputs": [],
   "source": [
    "# Example usage:\n",
    "lat_lon_dict = dict(lat=85, lon=75, method='nearest')\n",
    "model = 'ACCESS-ESM1-5'\n",
    "fig, ax1, ax2 = sn_plotting.plot_stabilization(lat_lon_dict, model, a1_anom_data, unstable_sn_data, year_stable_unstable_data)"
   ]
  },
  {
   "cell_type": "markdown",
   "id": "4a13ebe1-dd40-475e-95b4-aed22b8f0b54",
   "metadata": {},
   "source": [
    "# Stable Anomalies"
   ]
  },
  {
   "cell_type": "code",
   "execution_count": null,
   "id": "6751970f-2534-46d2-84c0-06487838b5cf",
   "metadata": {},
   "outputs": [],
   "source": [
    "year_stable_data = year_stable_unstable_data.sel(stability_index=1)#total_stable_year_data#year_stable_data_original"
   ]
  },
  {
   "cell_type": "code",
   "execution_count": null,
   "id": "bc154c59-dfa6-42bd-a7c5-fbf3f985cbef",
   "metadata": {},
   "outputs": [],
   "source": [
    "def get_anomalies_at_stabilisations(years, values, expected_length=6, logginglevel='ERROR'):\n",
    "    \"\"\"\n",
    "    Calculate the mean of value selections during stabilization periods based on provided years.\n",
    "    \n",
    "    Parameters:\n",
    "    years (array-like): An array of years with stabilization periods.\n",
    "    values (array-like): An array of values corresponding to each year.\n",
    "    expected_length (int): The expected length of the output list. If the calculated list \n",
    "                           is shorter, it will be padded with NaN values. Default is 6.\n",
    "                           \n",
    "    Returns:\n",
    "    numpy.ndarray: An array of mean values for each stabilization period. If the number of \n",
    "                   stabilization periods is less than expected_length, the array is padded \n",
    "                   with NaN values.\n",
    "    \"\"\"\n",
    "    utils.change_logginglevel(logginglevel)\n",
    "    # Remove all NaN values from the years array\n",
    "    years = years[np.isfinite(years)]\n",
    "    \n",
    "    logger.info(years)\n",
    "\n",
    "    value_mean_list = []\n",
    "    \n",
    "    # Iterate through each year\n",
    "    for i in range(len(years)):\n",
    "\n",
    "        # Check if the index corresponds to a stabilization year (0, 2, 4, ...)\n",
    "        if 1 - i % 2:  # True for even indices\n",
    "            \n",
    "            # Define the start year of the stabilization period\n",
    "            start = years[i]\n",
    "            \n",
    "            # Define the end year, which is either 20 years after the start or the beginning of the next period\n",
    "            if i < len(years) - 1:\n",
    "                end = start + np.nanmin([20, years[i+1] - start])\n",
    "            else:\n",
    "                end = start + 20\n",
    "\n",
    "            start = int(start)\n",
    "            end = int(end)\n",
    "\n",
    "            logger.debug(f'{start=}, {end=}')\n",
    "    \n",
    "            # Select the values corresponding to the stabilization period\n",
    "            value_selection = values[start:end]\n",
    "            \n",
    "            # Calculate the mean of the selected values and add it to the list\n",
    "            value_mean = np.mean(value_selection)\n",
    "            value_mean_list.append(value_mean)\n",
    "        else:\n",
    "            pass\n",
    "\n",
    "    # If the number of calculated means is less than expected_length, pad the list with NaN values\n",
    "    if len(value_mean_list) < expected_length:\n",
    "        value_mean_list = np.concatenate([value_mean_list, np.tile(np.nan, expected_length - len(value_mean_list))])\n",
    "    \n",
    "    return value_mean_list\n"
   ]
  },
  {
   "cell_type": "code",
   "execution_count": null,
   "id": "1e10e2fe-1933-48ed-ac21-cf831d324a75",
   "metadata": {},
   "outputs": [],
   "source": [
    "expected_length = len(year_stable_unstable_data.stability_index[::2])\n",
    "expected_length"
   ]
  },
  {
   "cell_type": "code",
   "execution_count": null,
   "id": "64a11b19-85e6-4d5c-8d4b-f9fe23e309de",
   "metadata": {},
   "outputs": [],
   "source": [
    "# Stabilises year 23 and becomes unstable again year 34=> start=23, end =34\n",
    "# Restabilises again at year 50 => start 50, end 70\n",
    "# get_anomalies_at_stabilisations(np.array([23, 34, 50 ]), np.tile(1, 70))#np.array([1]*23, []))\n",
    "get_anomalies_at_stabilisations(np.array([0, 10, 30]), np.array([1]*10 + [100] * 20 + [20]), expected_length=expected_length, \n",
    "                               logginglevel='DEBUG')"
   ]
  },
  {
   "cell_type": "code",
   "execution_count": null,
   "id": "8ef22c54-7fff-4edd-86a2-7b50ce2a7b72",
   "metadata": {},
   "outputs": [],
   "source": [
    "a1_anom_data"
   ]
  },
  {
   "cell_type": "code",
   "execution_count": null,
   "id": "163186f1-759d-4ec6-8908-ea95307c7f22",
   "metadata": {},
   "outputs": [],
   "source": [
    "year_stable_unstable_data"
   ]
  },
  {
   "cell_type": "code",
   "execution_count": null,
   "id": "c7a95783-8ece-4c2c-a504-82d585dc11d6",
   "metadata": {},
   "outputs": [],
   "source": [
    "stable_point_anoms_raw = apply_ufunc(\n",
    "    get_anomalies_at_stabilisations,\n",
    "    year_stable_unstable_data,\n",
    "    a1_anom_data.isel(time=slice(0, 70)),\n",
    "    input_core_dims=[['stability_index'], ['time']],\n",
    "    output_core_dims=[['stabil_num']],\n",
    "    vectorize=True,\n",
    "    dask_gufunc_kwargs={'output_sizes':{'stabil_num': expected_length}},\n",
    "    kwargs = {'expected_length':expected_length, 'logginglevel':'ERROR'}\n",
    ")\n",
    "# test_anoms = test_anoms.assign_coords(stabil_num=np.arange(expected_length))"
   ]
  },
  {
   "cell_type": "code",
   "execution_count": null,
   "id": "0f875e51-d890-4d52-ae88-bdd446c79b40",
   "metadata": {},
   "outputs": [],
   "source": [
    "stable_point_anoms_list = []\n",
    "for model, ds in stable_point_anoms_raw:\n",
    "    ds=ds.assign_coords(stabil_num=np.arange(1, expected_length+1))\n",
    "    \n",
    "    ds.attrs['stabil_num'] ='The average at each stabilisation period'\n",
    "    stable_point_anoms_list.append(ds)\n",
    "                                   \n",
    "stable_point_anoms = listXarray(stable_point_anoms_list, 'model')"
   ]
  },
  {
   "cell_type": "code",
   "execution_count": null,
   "id": "35d4da45-cd83-480c-8ca8-4515b69b83d3",
   "metadata": {},
   "outputs": [],
   "source": [
    "final_temp_data = stable_point_anoms.max(dim='stabil_num')"
   ]
  },
  {
   "cell_type": "code",
   "execution_count": null,
   "id": "514b6a52-99b2-4718-9880-2eb93e423727",
   "metadata": {},
   "outputs": [],
   "source": [
    "def plot_stippled_data(sig, ax, sig_size:float=2, alpha=1):\n",
    "\n",
    "    # The result will be scattered, so we need a meshgrid.\n",
    "    X,Y = np.meshgrid(sig.lon, sig.lat)\n",
    "    size = np.nan_to_num(sig.values, 0)\n",
    "\n",
    "    ax.scatter(X,Y, s=size * sig_size, color='k', alpha=alpha)"
   ]
  },
  {
   "cell_type": "code",
   "execution_count": null,
   "id": "d601dc4f-3a48-46af-b980-e60f0eff5b00",
   "metadata": {},
   "outputs": [],
   "source": [
    "final_stabilisation_data = year_stable_unstable_data.isel(stability_index=[0, 2, 4,6,8]).max(dim='stability_index')"
   ]
  },
  {
   "cell_type": "code",
   "execution_count": null,
   "id": "bfb50612-d214-4d7d-b09f-1b3bde1be71f",
   "metadata": {},
   "outputs": [],
   "source": [
    "stable_after_zec50_data = where(final_stabilisation_data>45, 0, 1)"
   ]
  },
  {
   "cell_type": "code",
   "execution_count": null,
   "id": "6e154fd8-f24b-408d-942e-7eb8a9839915",
   "metadata": {},
   "outputs": [],
   "source": [
    "fig = plt.figure(figsize=(6, 5))\n",
    "ax = fig.add_subplot(111, projection=ccrs.PlateCarree(central_longitude=0))\n",
    "ax.coastlines()\n",
    "plot_stippled_data(stable_after_zec50_data[2], ax)"
   ]
  },
  {
   "cell_type": "code",
   "execution_count": null,
   "id": "9e24089b-13b3-4e8f-a5e1-127958dbb49c",
   "metadata": {},
   "outputs": [],
   "source": [
    "imodel = 8\n",
    "fig = plt.figure(figsize=(12, 8))\n",
    "ax = fig.add_subplot(111, projection=ccrs.PlateCarree(central_longitude=0))\n",
    "(final_temp_data[imodel]-zec50_data[imodel]).squeeze().plot.contourf(ax=ax, robust=True)\n",
    "ax.coastlines()\n",
    "\n",
    "plot_stippled_data(stable_after_zec50_data[imodel], ax, alpha=0.6)"
   ]
  },
  {
   "cell_type": "code",
   "execution_count": null,
   "id": "f5727a7a-4952-4403-b4e8-3b1d15ad03f0",
   "metadata": {},
   "outputs": [],
   "source": [
    "# Get the 20-year average tempeature anomaly at stabilisation.\n",
    "stable_anom_da = apply_ufunc( #xr.\n",
    "    sn_calc.get_average_after_stable_year,\n",
    "    a1_anom_data,\n",
    "    year_stable_data,\n",
    "    input_core_dims=[['time'],[]],\n",
    "    output_core_dims=[[]],\n",
    "    output_dtypes=[np.float],\n",
    "    vectorize=True\n",
    ")"
   ]
  },
  {
   "cell_type": "code",
   "execution_count": null,
   "id": "a8bcc030-91d0-4451-9dd3-c1eb325318fb",
   "metadata": {},
   "outputs": [],
   "source": [
    "stable_anom_da"
   ]
  },
  {
   "cell_type": "markdown",
   "id": "fa166281-4258-411e-a662-d871defdbea9",
   "metadata": {},
   "source": [
    "# Region Percent Stable Time series"
   ]
  },
  {
   "cell_type": "code",
   "execution_count": null,
   "id": "dfb21d39-2761-402e-9fb6-caefb5db76dc",
   "metadata": {},
   "outputs": [],
   "source": [
    "class Region(NamedTuple):\n",
    "    name: str\n",
    "    slice: tuple\n",
    "\n",
    "class regionLatLonTuples(Enum):\n",
    "    GLOBAL = Region('gl', slice(None, None))\n",
    "    LAND = Region('land', slice(None, None))\n",
    "    OCEAN = Region('ocean', slice(None, None))\n",
    "    NH = Region('nh', slice(0, None))\n",
    "    SH = Region('sh', slice(None, 0))\n",
    "    TROPICS = Region('tropics', slice(-23, 23))\n",
    "    MID_LAT_SH = Region('mid_sh', slice(-66, -23))\n",
    "    MID_LAT_NH = Region('mid_nh', slice(23, 66))\n",
    "    ARCTIC = Region('arctic', slice(66, None))\n",
    "    ANTARCTIC = Region('antarctic', slice(None, -66))\n",
    "\n",
    "\n",
    "NAMING_MAP = {\n",
    "    'global': 'Global',\n",
    "    'nh': 'Northern Hemisphere',\n",
    "    'sh': 'Southern Hemisphere',\n",
    "    'tropics': 'Tropics',\n",
    "    'land': 'Land',\n",
    "    'ocean': 'Ocean',\n",
    "    'mid_nh': 'Mid Latitudes NH',\n",
    "    'mid_sh': 'Mid Latitudes SH',\n",
    "    'arctic': 'Arctic',\n",
    "    'antarctic': 'Antarctic'}"
   ]
  },
  {
   "cell_type": "code",
   "execution_count": null,
   "id": "00c194a9-5590-4035-a214-73ed377c4f3c",
   "metadata": {},
   "outputs": [],
   "source": [
    "def fraction_comparison(ds_num, ds_denom, weights):\n",
    "    \"\"\"\n",
    "    Calculate the percentage by comparing two datasets.\n",
    "\n",
    "    Parameters:\n",
    "        ds_num (xarray.Dataset): Numerator dataset.\n",
    "        ds_denom (xarray.Dataset): Denominator dataset.\n",
    "        weights (xarray.DataArray): Weights for the calculation.\n",
    "\n",
    "    Returns:\n",
    "        xarray.DataArray: Dataset containing the percentage.\n",
    "    \"\"\"\n",
    "    # Calculate the sum of the numerator dataset weighted by weights\n",
    "    ds_num_sum = ds_num.weighted(weights).sum(dim=['lat', 'lon'])\n",
    "\n",
    "    # Calculate the sum of the denominator dataset weighted by weights\n",
    "    ds_denom_sum = ds_denom.weighted(weights).sum(dim=['lat', 'lon'])\n",
    "\n",
    "    # Calculate the percentage\n",
    "    percent_data = ds_num_sum / ds_denom_sum * 100\n",
    "\n",
    "    return percent_data"
   ]
  },
  {
   "cell_type": "code",
   "execution_count": null,
   "id": "d7de2884-4b0d-4781-8d53-814bf9ad43ff",
   "metadata": {},
   "outputs": [],
   "source": [
    "def calculate_returned_binary_data(arr: ArrayLike, year_of_emergence: int, time_years: ArrayLike) -> ArrayLike:\n",
    "    \"\"\"\n",
    "    Calculates a binary array representing the emergence of an event.\n",
    "\n",
    "    E.g. after stabilisation all values will be 1, whilst before stabilisation\n",
    "    all years will be 0\n",
    "\n",
    "    Parameters:\n",
    "        arr (ArrayLike): Input array.\n",
    "        year_of_emergence (int): Year of the event's emergence.\n",
    "        time_years (ArrayLike): Array of years.\n",
    "\n",
    "    Returns:\n",
    "        ArrayLike: Binary array representing the event's emergence.\n",
    "                   0 before the year_of_emergence, 1 after.\n",
    "\n",
    "    If year_of_emergence is NaN or all values in arr are NaN, the function\n",
    "    returns arr unchanged.\n",
    "    \"\"\"\n",
    "\n",
    "    #print(arr.shape, year_of_emergence, end='')\n",
    "    # If the year_of_emergence is nan or all the values at the location are nan\n",
    "    # then return nan\n",
    "    if np.isnan(year_of_emergence): return arr\n",
    "\n",
    "    # The integer arguement of where the time_years equals the emergence arg\n",
    "    emergence_arg = np.argwhere(time_years == np.round(year_of_emergence))\n",
    "    \n",
    "    if len(emergence_arg) == 0:\n",
    "        return np.nan\n",
    "    if isinstance(emergence_arg, int): pass\n",
    "    elif emergence_arg.shape == (1,1): emergence_arg = emergence_arg.item()\n",
    "    \n",
    "    to_return = np.zeros_like(arr)\n",
    "    \n",
    "    # Set all values to 1 after emergence has occured\n",
    "    to_return[emergence_arg:] =  1\n",
    "\n",
    "    return to_return"
   ]
  },
  {
   "cell_type": "code",
   "execution_count": null,
   "id": "4b62000e-4bd8-49f0-890d-20b65bff1b15",
   "metadata": {},
   "outputs": [],
   "source": [
    "def create_regions(binary_emergence_data: xr.Dataset, land_mask_data:xr.Dataset) -> xr.Dataset:\n",
    "    \"\"\"\n",
    "    Calculate the percentage of stability for regions based on binary emergence data.\n",
    "\n",
    "    Parameters:\n",
    "        binary_emergence_data (xr.Dataset): Dataset containing binary emergence data.\n",
    "        land_mask_data (xr.Dataset): Dataset containing land mask data.\n",
    "        only_1s_data (xr.Dataset): Dataset with only values of 1. This is needed as it can differ\n",
    "                                due to data availability\n",
    "\n",
    "    Returns:\n",
    "        xr.Dataset: Dataset with percentage of stability for each region.\n",
    "\n",
    "    This function calculates the percentage of stability for regions based on binary\n",
    "    emergence data and land mask information. It assumes the existence of a variable\n",
    "    'only_1s_data' that is the same shape as 'binary_emergence_data' and contains only\n",
    "    values of 1 where the event has occurred.\n",
    "    \"\"\"\n",
    "\n",
    "    # Calculating the weights\n",
    "    weights = np.cos(np.deg2rad(binary_emergence_data.lat))\n",
    "    weights.name = 'weights'\n",
    "\n",
    "    # The two regions that need the land-sea make\n",
    "    NEEDS_MASKING = ['land', 'ocean']\n",
    "\n",
    "    ds_collection = [] # Storing all the datasets\n",
    "    points_in_region_dict = {} # The number of \n",
    "    for region in regionLatLonTuples:\n",
    "        region_name = region.value.name.lower()\n",
    "        lat_slice = region.value.slice\n",
    "        \n",
    "        # Select data for the current region\n",
    "        ds_region = binary_emergence_data.sel(lat=lat_slice).expand_dims({'region':[region_name]})\n",
    "\n",
    "        # Apply masking if needed\n",
    "        if region_name in NEEDS_MASKING:\n",
    "            mask_to_use_data = xr.where(land_mask_data, 1, 0) if region_name == 'land' else xr.where(land_mask_data, 0, 1) \n",
    "            ds_region = ds_region.where(mask_to_use_data)\n",
    "\n",
    "\n",
    "        ds_collection.append(ds_region)\n",
    "\n",
    "    ds_regions = xr.concat(ds_collection, dim='region')\n",
    "\n",
    "    return ds_regions"
   ]
  },
  {
   "cell_type": "code",
   "execution_count": null,
   "id": "b8380a02-6cc5-4fbc-8818-444c7b40eed7",
   "metadata": {},
   "outputs": [],
   "source": [
    "mask_data"
   ]
  },
  {
   "cell_type": "code",
   "execution_count": null,
   "id": "13ea455e-d975-4a2a-8a69-c58ad5e3a5f1",
   "metadata": {},
   "outputs": [],
   "source": [
    "weight_list = []\n",
    "for model in mask_data.model:\n",
    "    weights = np.cos(np.deg2rad(mask_data[model].lat))\n",
    "    weight_list.append(weights.expand_dims(model=[model]))\n",
    "weight_data = listXarray(weight_list, mask_data.key_dim)\n",
    "weight_data"
   ]
  },
  {
   "cell_type": "code",
   "execution_count": null,
   "id": "d6e57bfa-acb5-423f-8fa9-610280d89722",
   "metadata": {},
   "outputs": [],
   "source": [
    "def binary_stable_unstable_assignment(year_list):\n",
    "    '''\n",
    "    Assigning 1 for unstable and 0 for stable\n",
    "\n",
    "    The first value in 'year_list' is the year at which stability occurs\n",
    "    The second value is the year at which instability occurs\n",
    "    '''\n",
    "\n",
    "    end_point = int(np.nanmax(year_list))\n",
    "    \n",
    "    \n",
    "    binary_stability_list = []\n",
    "    for num in range(len(year_list)):\n",
    "        \n",
    "        # print(year)\n",
    "        if np.isnan(year_list[num]):\n",
    "            break\n",
    "\n",
    "\n",
    "        if num == 0:\n",
    "            tile_length = year_list[num]\n",
    "        else:\n",
    "            tile_length = year_list[num] - year_list[num-1]\n",
    "            \n",
    "        tile_length = int(tile_length)\n",
    "        fill_val = 1 - (num % 2) # 0 -> 1, 1->0, 2->1\n",
    "\n",
    "        number_vals = np.tile(fill_val, tile_length)\n",
    "        binary_stability_list.append(number_vals)\n",
    "        \n",
    "    return np.concatenate(binary_stability_list)\n",
    "        "
   ]
  },
  {
   "cell_type": "code",
   "execution_count": null,
   "id": "4b741ad2-7a8c-4fb5-9189-f935af4fe270",
   "metadata": {},
   "outputs": [],
   "source": [
    "def binary_stable_unstable_assignment(year_list, expected_length=50):\n",
    "    '''\n",
    "    Assigning 1 for unstable and 0 for stable.\n",
    "\n",
    "    The first value in 'year_list' is the year at which stability occurs.\n",
    "    The second value is the year at which instability occurs.\n",
    "    '''\n",
    "    \n",
    "    # Remove any NaN values from year_list and get the maximum year\n",
    "    year_list = np.array(year_list)\n",
    "    valid_years = year_list[~np.isnan(year_list)]\n",
    "\n",
    "    # Need to make sure this finishes at 50\n",
    "    # E.g if the climate stabilises at the year 13, then only 13 ones \n",
    "    # between the year 0 and 13 are applied\n",
    "    if not np.any(year_list>=expected_length):\n",
    "        year_list = np.concatenate([year_list, [expected_length]])\n",
    "\n",
    "    end_point = int(np.nanmax(year_list))\n",
    "    \n",
    "    # Initialize the binary stability list, start with ones (unstable)\n",
    "    binary_stability_list = np.ones(end_point)\n",
    "    \n",
    "    # Assign 0s for stable periods\n",
    "    for i in range(0, len(valid_years), 2):\n",
    "        start = int(valid_years[i])\n",
    "        end = int(valid_years[i + 1]) if i + 1 < len(valid_years) else end_point\n",
    "        binary_stability_list[start:end] = 0\n",
    "\n",
    "    if len(binary_stability_list) < expected_length:\n",
    "        binary_stability_list = np.concatenate([binary_stability_list, np.tile(np.nan, expected_length-len(binary_stability_list))])\n",
    "    \n",
    "    return binary_stability_list\n"
   ]
  },
  {
   "cell_type": "code",
   "execution_count": null,
   "id": "74cdc481-d894-4121-9c29-cf84015bb298",
   "metadata": {},
   "outputs": [],
   "source": [
    "def binary_stable_unstable_assignment_cooling_and_warming(year_list, year_vals, expected_length=50, \n",
    "                                                         logginglevel='INFO'):\n",
    "    '''\n",
    "    Assigning 0 for unstable and 1 for stable.\n",
    "\n",
    "    The first value in 'year_list' is the year at which stability occurs.\n",
    "    The second value is the year at which instability occurs.\n",
    "    '''\n",
    "    utils.change_logginglevel(logginglevel)\n",
    "    \n",
    "    # Remove any NaN values from year_list and get the maximum year\n",
    "    # print(year_list, year_vals)\n",
    "    year_list = np.array(year_list)\n",
    "    valid_years = year_list[~np.isnan(year_list)]\n",
    "\n",
    "    # Need to make sure this finishes at 50\n",
    "    if not np.any(year_list >= expected_length):\n",
    "        year_list = np.concatenate([year_list, [expected_length]])\n",
    "\n",
    "    logger.info(f'year_list {year_list}')\n",
    "\n",
    "    end_point = int(np.nanmax(year_list))\n",
    "    \n",
    "    # Initialize the binary stability list, start with zeros (unstable)\n",
    "    binary_stability_list = np.zeros(end_point)\n",
    "\n",
    "    init_start = 0\n",
    "    # Assign 1s for stable periods\n",
    "    for i in range(0, len(valid_years), 1):\n",
    "        logger.debug(f'\\n{i}')\n",
    "        if i == 0:\n",
    "            start = init_start\n",
    "            end = int(valid_years[i])\n",
    "\n",
    "        else:\n",
    "            start = int(valid_years[i-1])\n",
    "            end = int(valid_years[i]) if i < len(valid_years) else end_point\n",
    "        logger.debug(start, end)\n",
    "        \n",
    "        # If the start and ends are boht zero, don't do anything\n",
    "        # This arrises when the start is already zero\n",
    "        if not (start== 0  and end==0):\n",
    "            fill_val = 1-i%2\n",
    "            logger.debug(f'{fill_val=}')\n",
    "            if fill_val:\n",
    "                year_val_selection = year_vals[start:end]\n",
    "                try:\n",
    "                    logger.debug(year_val_selection)\n",
    "                    grad, _ =  np.polyfit(np.arange(len(year_val_selection)), year_val_selection, deg=1)\n",
    "                except SystemError:\n",
    "                    grad = 1\n",
    "                    print(valid_years)\n",
    "                    string = f'{start=}, {end=}, {fill_val=}, '\n",
    "                    string += f'{grad=:.2f}' if fill_val else ''\n",
    "                    print(string)\n",
    "                    print('\\n')\n",
    "                fill_val = np.sign(grad) * fill_val\n",
    "            string = f'{start=}, {end=}, {fill_val=}, '\n",
    "            string += f'{grad=:.2f}' if fill_val else ''\n",
    "            logger.debug(string)\n",
    "            binary_stability_list[start:end] = fill_val\n",
    "        # print('complete')\n",
    "\n",
    "    if len(binary_stability_list) < expected_length:\n",
    "        binary_stability_list = np.concatenate([binary_stability_list, np.tile(np.nan, expected_length - len(binary_stability_list))])\n",
    "    elif len(binary_stability_list) > expected_length:\n",
    "        binary_stability_list = binary_stability_list[:expected_length]\n",
    "    # print(len(binary_stability_list))\n",
    "\n",
    "    return binary_stability_list"
   ]
  },
  {
   "cell_type": "code",
   "execution_count": null,
   "id": "df1027dc-9b51-4a8b-b4cc-280067c75bfe",
   "metadata": {},
   "outputs": [],
   "source": [
    "def binary_stable_unstable_assignment_cooling_and_warming_sn_sum(year_list, year_vals, expected_length=50, \n",
    "                                                         logginglevel='ERROR'):\n",
    "    '''\n",
    "    Assigning 0 for unstable and 1 for stable.\n",
    "\n",
    "    The first value in 'year_list' is the year at which stability occurs.\n",
    "    The second value is the year at which instability occurs.\n",
    "    '''\n",
    "    utils.change_logginglevel(logginglevel)\n",
    "    \n",
    "    # Remove any NaN values from year_list and get the maximum year\n",
    "    # print(year_list, year_vals)\n",
    "    year_list = np.array(year_list)\n",
    "    valid_years = year_list[~np.isnan(year_list)]\n",
    "\n",
    "    # Need to make sure this finishes at 50\n",
    "    if not np.any(year_list >= expected_length):\n",
    "        year_list = np.concatenate([year_list, [expected_length]])\n",
    "\n",
    "    logger.info(f'year_list {year_list}')\n",
    "\n",
    "    end_point = int(np.nanmax(year_list))\n",
    "    \n",
    "    # Initialize the binary stability list, start with zeros (unstable)\n",
    "    binary_stability_list = np.zeros(end_point)\n",
    " \n",
    "    init_start = 0\n",
    "    # Assign 1s for stable periods\n",
    "    for i in range(0, len(valid_years), 1):\n",
    "        logger.debug(f'\\n{i}')\n",
    "        if i == 0:\n",
    "            start = init_start\n",
    "            end = int(valid_years[i])\n",
    "\n",
    "        else:\n",
    "            start = int(valid_years[i-1])\n",
    "            end = int(valid_years[i]) if i < len(valid_years) else end_point\n",
    "        logger.debug(start, end)\n",
    "        \n",
    "        # If the start and ends are boht zero, don't do anything\n",
    "        # This arrises when the start is already zero\n",
    "        if not (start== 0  and end==0):\n",
    "            binary_stability_list[start:end] = year_vals[start:end]\n",
    "        # print('complete')\n",
    "\n",
    "    if len(binary_stability_list) < expected_length:\n",
    "        binary_stability_list = np.concatenate([binary_stability_list, np.tile(np.nan, expected_length - len(binary_stability_list))])\n",
    "    elif len(binary_stability_list) > expected_length:\n",
    "        binary_stability_list = binary_stability_list[:expected_length]\n",
    "    # print(len(binary_stability_list))\n",
    "\n",
    "    return binary_stability_list"
   ]
  },
  {
   "cell_type": "code",
   "execution_count": null,
   "id": "dc01cefc-598a-48c4-8cf7-7b6821070173",
   "metadata": {},
   "outputs": [],
   "source": [
    "def binary_stable_unstable_assignment_cooling_and_warming_anom_based(\n",
    "    year_list, stable_anom_values, expected_length=50, logginglevel='ERROR'):\n",
    "    '''\n",
    "    Assigning 0 for unstable and 1 for stable.\n",
    "\n",
    "    The first value in 'year_list' is the year at which stability occurs.\n",
    "    The second value is the year at which instability occurs.\n",
    "    '''\n",
    "    utils.change_logginglevel(logginglevel)\n",
    "    \n",
    "    # Remove any NaN values from year_list and get the maximum year\n",
    "    # print(year_list, year_vals)\n",
    "    year_list = np.array(year_list)\n",
    "    valid_years = year_list[~np.isnan(year_list)]\n",
    "\n",
    "    # Need to make sure this finishes at 50\n",
    "    if not np.any(year_list >= expected_length):\n",
    "        year_list = np.concatenate([year_list, [expected_length]])\n",
    "\n",
    "    logger.info(f'year_list {year_list}')\n",
    "\n",
    "    end_point = int(np.nanmax(year_list))\n",
    "    \n",
    "    # Initialize the binary stability list, start with zeros (unstable)\n",
    "    binary_stability_list = np.zeros(end_point)\n",
    "\n",
    "\n",
    "    # stable_anom_selection_ints = [0, 1, 1]\n",
    "    stability_selection_count = 0\n",
    "    init_start = 0\n",
    "    # Assign 1s for stable periods\n",
    "    for i in range(0, len(valid_years), 1):\n",
    "        logger.debug(f'\\n{i}')\n",
    "        if i == 0:\n",
    "            start = init_start\n",
    "            end = int(valid_years[i])\n",
    "\n",
    "        else:\n",
    "            start = int(valid_years[i-1])\n",
    "            end = int(valid_years[i]) if i < len(valid_years) else end_point\n",
    "        logger.debug(start, end)\n",
    "        \n",
    "        # If the start and ends are boht zero, don't do anything\n",
    "        # This arrises when the start is already zero\n",
    "        if not (start==0  and end==0):\n",
    "\n",
    "            # i = 0 => 1-0%2 = 1\n",
    "            # i = 1 => 0\n",
    "            # Filling in all the stable value with 1 and unstableu values with two\n",
    "            fill_val = 1-i%2\n",
    "            # This only moved up if a stable period is encountered\n",
    "            stability_selection_count += fill_val\n",
    "            logger.debug(f'{fill_val=}')\n",
    "            if fill_val:\n",
    "                # If we are the start, we want the comparison to \n",
    "                # the previous stable perido\n",
    "                if i == 0:\n",
    "                    fill_val = np.sign(stable_anom_values[0])\n",
    "                # Otherwise we want the comparison to the last stable period\n",
    "                else:\n",
    "                    fill_val = np.sign(stable_anom_values[stability_selection_count]-stable_anom_values[stability_selection_count-1])\n",
    "                    \n",
    "            # string = f'{start=}, {end=}, {fill_val=}, '\n",
    "            # string += f'{grad=:.2f}' if fill_val else ''\n",
    "            logger.debug(string)\n",
    "            binary_stability_list[start:end] = fill_val\n",
    "        # print('complete')\n",
    "\n",
    "    if len(binary_stability_list) < expected_length:\n",
    "        binary_stability_list = np.concatenate([binary_stability_list, np.tile(np.nan, expected_length - len(binary_stability_list))])\n",
    "    elif len(binary_stability_list) > expected_length:\n",
    "        binary_stability_list = binary_stability_list[:expected_length]\n",
    "    # print(len(binary_stability_list))\n",
    "\n",
    "    return binary_stability_list"
   ]
  },
  {
   "cell_type": "code",
   "execution_count": null,
   "id": "41c89454-97b9-4de0-b8bb-bb447be67210",
   "metadata": {
    "scrolled": true
   },
   "outputs": [],
   "source": [
    "# Stable year 10, unstable year 20, stable yeaer 30, unstable year 40, stable year 50\n",
    "year_list = np.array([10, 20, 30, 40, 50])\n",
    "# year_vals =  np.concatenate([np.arange(10), [10]*10, np.arange(10,1,-1), [1000]*10])\n",
    "# year_vals = np.arange(51)\n",
    "year_vals = np.arange(51, 1, -1)\n",
    "\n",
    "tarr = binary_stable_unstable_assignment_cooling_and_warming(year_list,year_vals, logginglevel='ERROR')"
   ]
  },
  {
   "cell_type": "code",
   "execution_count": null,
   "id": "becca612-58ea-40e7-acfb-eecc428d5ad4",
   "metadata": {},
   "outputs": [],
   "source": [
    "np.where(tarr!=0)"
   ]
  },
  {
   "cell_type": "code",
   "execution_count": null,
   "id": "9efe2a59-e7ca-49b6-b2f6-8d3738ab57e3",
   "metadata": {},
   "outputs": [],
   "source": [
    "binary_direction_data = where(sn_ratio_a1_data>0, 1, -1)\n",
    "binary_direction_sum_data = binary_direction_data.sum(dim='window')\n",
    "binary_direction_sum_data = binary_direction_sum_data/binary_direction_sum_data(np.abs)"
   ]
  },
  {
   "cell_type": "code",
   "execution_count": null,
   "id": "36c7ea59-1c3a-4af2-b402-4bfe4a7de713",
   "metadata": {},
   "outputs": [],
   "source": [
    "(stable_point_anoms[0].isel(stabil_num=1) - stable_point_anoms[0].isel(stabil_num=0)).plot()"
   ]
  },
  {
   "cell_type": "code",
   "execution_count": null,
   "id": "1f376558-8a8f-42b3-b65d-510fe6d0c3a0",
   "metadata": {},
   "outputs": [],
   "source": [
    "binary_stability_stable_unstable_data = apply_ufunc(\n",
    "    binary_stable_unstable_assignment_cooling_and_warming_anom_based,\n",
    "    year_stable_unstable_data,\n",
    "    stable_point_anoms,\n",
    "    input_core_dims=[['stability_index'], ['stabil_num']],\n",
    "    output_core_dims=[['time']],\n",
    "    vectorize=True,\n",
    "    dask_gufunc_kwargs = {'output_sizes':{'time':50}, 'input_sizes':{'time':100}}\n",
    ")"
   ]
  },
  {
   "cell_type": "code",
   "execution_count": null,
   "id": "2a626b3f-c0f6-46a8-85ac-17c64741adc7",
   "metadata": {},
   "outputs": [],
   "source": [
    "binary_stability_stable_unstable_data"
   ]
  },
  {
   "cell_type": "code",
   "execution_count": null,
   "id": "43dfe6d7-99a0-4b30-bd22-feffac02f394",
   "metadata": {},
   "outputs": [],
   "source": [
    "year_stable_unstable_data[0].sel(stability_index=1).sel(lat=-67.5, lon=220, method='nearest').values#.plot()"
   ]
  },
  {
   "cell_type": "code",
   "execution_count": null,
   "id": "69b2d1b7-9740-43a1-bef6-fe61dc8ecdba",
   "metadata": {},
   "outputs": [],
   "source": [
    "(np.abs(binary_stability_stable_unstable_data[0]).sum(dim='time')).plot(levels=np.arange(0,55.1,5))"
   ]
  },
  {
   "cell_type": "code",
   "execution_count": null,
   "id": "3cdff1a6-13e3-4038-8758-9a126d2fb1e8",
   "metadata": {},
   "outputs": [],
   "source": [
    "# # Using the year when each window becomes stable. Create a data set that is\n",
    "# # 0 when unstable and 1 when stable. \n",
    "# binary_stability_da = xr.apply_ufunc( #xr\n",
    "#     calculate_returned_binary_data,\n",
    "#     unstable_sn_data[2].isel(window=0), # This is just a place holder, used for the shape\n",
    "#     xr.where(year_stable_data[2]>50, 50, year_stable_data[1]),\n",
    "#     unstable_sn_data[2].time.dt.year-1, # Subtracting one, as this is ofset by 1\n",
    "#     input_core_dims = [['time'], [], ['time']],\n",
    "#     output_core_dims=[['time']],\n",
    "#     vectorize=True,\n",
    "#     dask='parallelized',\n",
    "#     output_dtypes=[np.float64]\n",
    "# ).compute()"
   ]
  },
  {
   "cell_type": "code",
   "execution_count": null,
   "id": "1100dac2-8c7d-4d52-877f-3c8ce2505faf",
   "metadata": {
    "scrolled": true
   },
   "outputs": [],
   "source": [
    "# # Using the year when each window becomes stable. Create a data set that is\n",
    "# # 0 when unstable and 1 when stable. \n",
    "# binary_stability_data = apply_ufunc( #xr\n",
    "#     calculate_returned_binary_data,\n",
    "#     unstable_sn_data.isel(window=0), # This is just a place holder, used for the shape\n",
    "#     where(year_stable_data>50, 50, year_stable_data),\n",
    "#     unstable_sn_data[0].time.dt.year-1, # Subtracting one, as this is ofset by 1\n",
    "#     input_core_dims = [['time'], [], ['time']],\n",
    "#     output_core_dims=[['time']],\n",
    "#     vectorize=True,\n",
    "#     dask='parallelized',\n",
    "#     output_dtypes=[np.float64]\n",
    "\n",
    "# ).compute()"
   ]
  },
  {
   "cell_type": "code",
   "execution_count": null,
   "id": "7a209b2c-772c-44d2-b7c0-18da0404f12a",
   "metadata": {},
   "outputs": [],
   "source": [
    "# Binary stability_dat has positive and negatives for trend gradient\n",
    "binary_stability_data = binary_stability_stable_unstable_data(np.abs)"
   ]
  },
  {
   "cell_type": "code",
   "execution_count": null,
   "id": "d496a12a-86d2-46eb-8660-6e1ed6287039",
   "metadata": {},
   "outputs": [],
   "source": [
    "# import listXarray\n",
    "# reload(listXarray)\n",
    "# from listXarray import listXarray, where"
   ]
  },
  {
   "cell_type": "code",
   "execution_count": null,
   "id": "63323a3d-2d71-414d-bc3d-e1a8f5dd2dc4",
   "metadata": {},
   "outputs": [],
   "source": [
    "# A dataset with every point as 1, this is useful for getting the maximum weighted sum for a field\n",
    "# full_data = xr.where(np.isfinite(binary_stability_data), 1, 1)\n",
    "full_data = where(binary_stability_data(np.isfinite), 1, 1).compute()"
   ]
  },
  {
   "cell_type": "code",
   "execution_count": null,
   "id": "efd9a722-4edb-48a2-9949-83f8f9a11f8d",
   "metadata": {},
   "outputs": [],
   "source": [
    "full_data"
   ]
  },
  {
   "cell_type": "code",
   "execution_count": null,
   "id": "98663148-5171-4595-9f22-0008abe43316",
   "metadata": {},
   "outputs": [],
   "source": [
    "binary_stability_data_regions_list = []\n",
    "for model in binary_stability_data.model:\n",
    "    binary_stability_da = binary_stability_data.sel(model=model)\n",
    "    mask_da = mask_data.sel(model=model)\n",
    "    binary_stability_da_regions = create_regions(binary_stability_da, mask_da)\n",
    "    binary_stability_data_regions_list.append(binary_stability_da_regions)\n",
    "binary_stability_data_regions = listXarray(binary_stability_data_regions_list, 'model')"
   ]
  },
  {
   "cell_type": "code",
   "execution_count": null,
   "id": "e0f6f13f-8a54-49bd-9d5f-2df4f61f6427",
   "metadata": {},
   "outputs": [],
   "source": [
    "binary_stability_data_regions"
   ]
  },
  {
   "cell_type": "code",
   "execution_count": null,
   "id": "7f6e1b30-ce37-4661-9d61-526b2a21540a",
   "metadata": {},
   "outputs": [],
   "source": [
    "# binary_stability_data_regions = binary_stability_data(create_regions, mask_data).compute()"
   ]
  },
  {
   "cell_type": "code",
   "execution_count": null,
   "id": "bfd05afa-3f6f-4de3-b36d-9b8194ba0550",
   "metadata": {},
   "outputs": [],
   "source": [
    "full_data_regions = where(binary_stability_data_regions(np.isfinite), 1, 0)\n",
    "#full_data(create_regions,  mask_data).compute()"
   ]
  },
  {
   "cell_type": "code",
   "execution_count": null,
   "id": "0005551a-271b-46f2-8245-9a25f6d52e49",
   "metadata": {},
   "outputs": [],
   "source": [
    "# binary_stability_data_regions['CESM2'].sum(dim=['lat', 'lon']).plot(hue='region')"
   ]
  },
  {
   "cell_type": "code",
   "execution_count": null,
   "id": "fe8f4fad-de1d-4a43-ab8d-979fdc9f4bfb",
   "metadata": {},
   "outputs": [],
   "source": [
    "# for model in binary_stability_data_regions.model:\n",
    "#     region_model_ds = \n",
    "#     full_model_ds = \n",
    "#     fraction_model_ds = fraction_comparison(region_model_ds, full_model_ds, weights_model_ds)"
   ]
  },
  {
   "cell_type": "code",
   "execution_count": null,
   "id": "c39e5ac1-0b1f-41ae-86f8-de11c241ae26",
   "metadata": {},
   "outputs": [],
   "source": [
    "percent_stable_timeseries_ds = binary_stability_data_regions(\n",
    "    fraction_comparison, full_data_regions, weight_data).concat(dim='model').compute()"
   ]
  },
  {
   "cell_type": "code",
   "execution_count": null,
   "id": "fae2b765-9957-4462-9510-787ab53d82d5",
   "metadata": {},
   "outputs": [],
   "source": [
    "num_years_unstable = binary_stability_data.sel(model='MIROC-ES2L').sum(dim='time')"
   ]
  },
  {
   "cell_type": "code",
   "execution_count": null,
   "id": "959b1461-99ed-4e4f-8c69-4e44506196c1",
   "metadata": {},
   "outputs": [],
   "source": [
    "num_years_unstable"
   ]
  },
  {
   "cell_type": "code",
   "execution_count": null,
   "id": "5ef0a0a7-2219-4626-9ea9-240271cfdd65",
   "metadata": {},
   "outputs": [],
   "source": [
    "region_order = ['gl', 'nh', 'sh', 'land', 'ocean', 'arctic', 'antarctic', 'mid_nh', 'mid_sh', 'tropics']\n",
    "percent_stable_timeseries_ds = percent_stable_timeseries_ds.sel(region=region_order)"
   ]
  },
  {
   "cell_type": "code",
   "execution_count": null,
   "id": "714a7e07-385d-4fbd-a8e8-b80b3993d015",
   "metadata": {},
   "outputs": [],
   "source": [
    "# (binary_stability_stable_unstable_data>0) & (binary_stability_stable_unstable_data>0)"
   ]
  },
  {
   "cell_type": "code",
   "execution_count": null,
   "id": "55861206-c39f-441e-88e7-4cc07f17cc68",
   "metadata": {},
   "outputs": [],
   "source": [
    "warm_data = where(binary_stability_stable_unstable_data>0, 1, 0)#.sum(dim=['lat', 'lon'])\n",
    "cool_data = where(binary_stability_stable_unstable_data<0, 1, 0)#.sum(dim=['lat', 'lon'])"
   ]
  },
  {
   "cell_type": "code",
   "execution_count": null,
   "id": "eb1b75c6-f683-4480-beac-53d7733228f5",
   "metadata": {},
   "outputs": [],
   "source": [
    "warm_data['CanESM5'].isel(time=0).plot()"
   ]
  },
  {
   "cell_type": "code",
   "execution_count": null,
   "id": "3fa425fd-55cf-41a1-b769-e8c65d407916",
   "metadata": {},
   "outputs": [],
   "source": [
    "cool_data['CanESM5'].isel(time=0).plot()"
   ]
  },
  {
   "cell_type": "code",
   "execution_count": null,
   "id": "2c33d5d5-c90c-47e4-9e51-bddf3c6fff8d",
   "metadata": {},
   "outputs": [],
   "source": [
    "def calculate_fraction(data, full_data, weight_data):\n",
    "    result_list = []\n",
    "    models = data.model\n",
    "    for model in models:\n",
    "        da = data.sel(model=model)\n",
    "        weigth_da = weight_data.sel(model=model)\n",
    "        full_da = full_data.sel(model=model)\n",
    "        fraction_da = fraction_comparison(np.abs(da), full_da, weigth_da)\n",
    "        result_list.append(fraction_da)\n",
    "    \n",
    "    result_data = listXarray(result_list, 'model')\n",
    "    return result_data.concat('model')"
   ]
  },
  {
   "cell_type": "code",
   "execution_count": null,
   "id": "201c649c-aac2-41bc-a211-e1b9626d13cb",
   "metadata": {},
   "outputs": [],
   "source": [
    "number_cool_da = calculate_fraction(cool_data, full_data, weight_data)\n",
    "number_warm_da = calculate_fraction(warm_data, full_data, weight_data)"
   ]
  },
  {
   "cell_type": "code",
   "execution_count": null,
   "id": "aee9f1e7-6952-4f8c-9d0d-3b5eab01e606",
   "metadata": {},
   "outputs": [],
   "source": [
    "fig = plt.figure(figsize=(12, 20))\n",
    "gs = gridspec.GridSpec(len(models_sorted_name), 1)\n",
    "axes = [fig.add_subplot(gs[i]) for i in range(len(models_sorted_name))]\n",
    "for num,model in enumerate(models_sorted_name):\n",
    "    ax = axes[num]\n",
    "    number_cool_da.sel(model=model).plot(ax=ax, color='blue')\n",
    "    number_warm_da.sel(model=model).plot(ax=ax, color='red')\n",
    "    ax.set_title(model)\n",
    "    # ax.set_ylim(0,40)\n",
    "    ax.grid()"
   ]
  },
  {
   "cell_type": "code",
   "execution_count": null,
   "id": "2d331aee-0f2f-413a-ae48-3f0bcc0a57a4",
   "metadata": {},
   "outputs": [],
   "source": [
    "number_cool_da.plot(hue='model');"
   ]
  },
  {
   "cell_type": "code",
   "execution_count": null,
   "id": "1b779c28-74f0-48c2-a1b0-6e5745c2ba5d",
   "metadata": {},
   "outputs": [],
   "source": [
    "number_warm_da.plot(hue='model');"
   ]
  },
  {
   "cell_type": "code",
   "execution_count": null,
   "id": "aa41c56b-6c14-4fa2-8fcf-e52830b07b2f",
   "metadata": {},
   "outputs": [],
   "source": [
    "# number_cool_list = []\n",
    "# for model in binary_stability_data.model:\n",
    "#     cool_da = cool_data.sel(model=model)\n",
    "#     mask_da = mask_data.sel(model=model)\n",
    "#     full_da = full_data.sel(model=model)\n",
    "#     cool_fraction_da = fraction_comparison(cool_da, full_da, mask_da)\n",
    "#     number_cool_list.append(cool_fraction_da)\n",
    "# number_cool_data = listXarray(number_cool_list, 'model')\n",
    "# number_cool_da = number_cool_data.concat('model')\n",
    "# number_cool_da = np.abs(100-number_cool_da)\n",
    "\n",
    "# number_warm_list = []\n",
    "# for model in binary_stability_data.model:\n",
    "#     warm_da = warm_data.sel(model=model)\n",
    "#     mask_da = mask_data.sel(model=model)\n",
    "#     full_da = full_data.sel(model=model)\n",
    "#     warm_fraction_da = fraction_comparison(warm_da, full_da, mask_da)\n",
    "#     number_warm_list.append(warm_fraction_da)\n",
    "# number_warm_data = listXarray(number_warm_list, 'model')\n",
    "# number_warm_da = number_warm_data.concat('model')\n",
    "# # number_warm_da = np.abs(100-number_warm_da)"
   ]
  },
  {
   "cell_type": "code",
   "execution_count": null,
   "id": "7c3a2ab9-7ded-441c-8e9b-f4d00e713c53",
   "metadata": {},
   "outputs": [],
   "source": [
    "# percent_stable_timeseries_data = percent_stable_timeseries_data.compute()\n",
    "# percent_stable_timeseries_data"
   ]
  },
  {
   "cell_type": "code",
   "execution_count": null,
   "id": "00bd50a5-18bd-4615-9d8f-2bb8898b0176",
   "metadata": {},
   "outputs": [],
   "source": [
    "# # Opposite of the above: Stable replace with 0n and unstable is 1.\n",
    "# # The opposite is need as we are looking at when the percetage of unstable points becomes 0\n",
    "# binary_unstable_data = where(binary_stability_data, 0, 1) #xr\n",
    "# binary_unstable_warm_data = binary_unstable_data.where(stable_anom_da>0)\n",
    "# binary_unstable_cool_data = binary_unstable_data.where(stable_anom_da<=0)"
   ]
  },
  {
   "cell_type": "code",
   "execution_count": null,
   "id": "2b4acd37-68e7-444f-b9ce-6884d7ad7cf1",
   "metadata": {},
   "outputs": [],
   "source": [
    "# # The number of cooling and warming trends at each grid cell\n",
    "# number_warm_data = binary_unstable_warm_data(fraction_comparison, full_data, weight_data)#.expand_dims(region=['global_warm']) \n",
    "# number_cool_data = binary_unstable_cool_data(fraction_comparison, full_data, weight_data)#.expand_dims(region=['global_warm']) "
   ]
  },
  {
   "cell_type": "code",
   "execution_count": null,
   "id": "8ef7815c-3465-4245-a377-2a3cbac66f58",
   "metadata": {},
   "outputs": [],
   "source": [
    "# number_cool_data = number_cool_data.compute().concat(dim='model').drop(['ensemble', 'window'])\n",
    "# number_warm_data = number_warm_data.compute().concat(dim='model').drop(['ensemble', 'window'])"
   ]
  },
  {
   "cell_type": "code",
   "execution_count": null,
   "id": "31ae33a8-db3a-4129-97ca-e99d40d83e73",
   "metadata": {},
   "outputs": [],
   "source": [
    "# number_cool_data.plot(hue='model');"
   ]
  },
  {
   "cell_type": "code",
   "execution_count": null,
   "id": "c64d2f37-3ece-494b-95ad-fe41cc0ebfd3",
   "metadata": {},
   "outputs": [],
   "source": [
    "# percent_stable_timeseries_ds = percent_stable_timeseries_data.concat(dim='model')\n",
    "# percent_stable_timeseries_ds"
   ]
  },
  {
   "cell_type": "code",
   "execution_count": null,
   "id": "0e2bea30-3cce-4932-99d0-ba175e1c6bf1",
   "metadata": {},
   "outputs": [],
   "source": [
    "full_data_regions.isel(model=0).isel(time=1).plot(col='region', col_wrap=3)"
   ]
  },
  {
   "cell_type": "code",
   "execution_count": null,
   "id": "8ac60f01-6f42-4ddd-95df-b7980420510d",
   "metadata": {},
   "outputs": [],
   "source": [
    "binary_stability_data_regions.isel(model=2).isel(time=1).plot(col='region', col_wrap=3)"
   ]
  },
  {
   "cell_type": "markdown",
   "id": "0297ae45-700f-4aa7-b118-542d95785c0d",
   "metadata": {},
   "source": [
    "# Quick Verification Plots\n",
    "Plots that are not good, but nice to plot to check"
   ]
  },
  {
   "cell_type": "code",
   "execution_count": null,
   "id": "269896da-4a64-4c92-bba5-e39f94abb850",
   "metadata": {},
   "outputs": [],
   "source": [
    "fig = plt.figure(figsize=(12, 8))\n",
    "gs = gridspec.GridSpec(3,3)\n",
    "axes =[fig.add_subplot(gs[i], projection=ccrs.PlateCarree()) for i in range(len(stable_anom_da))]\n",
    "\n",
    "for num in range(len(stable_anom_da)):\n",
    "    ax = axes[num]\n",
    "    stable_anom_da[num].plot(ax=ax)\n",
    "    ax.coastlines()\n",
    "    ax.set_title(stable_anom_da.refkeys[num])"
   ]
  },
  {
   "cell_type": "code",
   "execution_count": null,
   "id": "8997d106-8fd1-41e1-9328-be6201dd44df",
   "metadata": {},
   "outputs": [],
   "source": [
    "stable_anom_da.isel(model=0).plot()"
   ]
  },
  {
   "cell_type": "code",
   "execution_count": null,
   "id": "5291fb07-7673-4c45-8b52-1ae00ef067d6",
   "metadata": {},
   "outputs": [],
   "source": [
    "# stable_anom_da.plot(col='model', col_wrap=3, robust=True)"
   ]
  },
  {
   "cell_type": "code",
   "execution_count": null,
   "id": "b1caafc6-abc9-428e-bd80-4bd2f7adce2b",
   "metadata": {},
   "outputs": [],
   "source": [
    "# year_stable_data.plot(col='model', col_wrap=3)"
   ]
  },
  {
   "cell_type": "code",
   "execution_count": null,
   "id": "5ec6ffa8-45e6-49b1-9eaf-38784cc1d43a",
   "metadata": {},
   "outputs": [],
   "source": [
    "unstable_sn_data[0]"
   ]
  },
  {
   "cell_type": "code",
   "execution_count": null,
   "id": "3bd2dffd-f886-4763-a724-d4bcb21d4fe0",
   "metadata": {},
   "outputs": [],
   "source": [
    "# unstable_sn_data.isel(window=-1, model=1, time=4).plot()"
   ]
  },
  {
   "cell_type": "code",
   "execution_count": null,
   "id": "cbf61064-a74c-4a74-9953-8097dc16598c",
   "metadata": {},
   "outputs": [],
   "source": [
    "# stable_anom_da.plot(col='model', col_wrap=3, robust=True)"
   ]
  },
  {
   "cell_type": "code",
   "execution_count": null,
   "id": "60319176-940b-4ed8-823b-8b7faf7cdca5",
   "metadata": {},
   "outputs": [],
   "source": [
    "# stable_sn_data.isel(window=-1, model=1, time=4).plot()"
   ]
  },
  {
   "cell_type": "code",
   "execution_count": null,
   "id": "41b75cbc-62bb-4381-9578-1e2ac5b233a7",
   "metadata": {},
   "outputs": [],
   "source": [
    "projection = ccrs.PlateCarree(central_longitude=np.mean(year_stable_data[0].lon.values))"
   ]
  },
  {
   "cell_type": "code",
   "execution_count": null,
   "id": "61db1dc7-e2c5-4110-b6a5-dd63e46126bc",
   "metadata": {},
   "outputs": [],
   "source": [
    "projection = ccrs.PlateCarree(central_longitude=-90)\n",
    "# np.mean(rolling_year_stable_window_max_data.lon.values)-90"
   ]
  },
  {
   "cell_type": "code",
   "execution_count": null,
   "id": "5d87c520-4695-40c5-bd9e-11114771d9f2",
   "metadata": {},
   "outputs": [],
   "source": [
    "# fig = plt.figure(figsize=(12, 8))\n",
    "# ax = fig.add_subplot(111,projection=ccrs.PlateCarree())\n",
    "# year_stable_model_average.average_value.plot(ax=ax, cmap='BuPu')\n",
    "# ax.coastlines()"
   ]
  },
  {
   "cell_type": "code",
   "execution_count": null,
   "id": "38e2cd0f-a0cd-4c38-9648-5338d987f478",
   "metadata": {},
   "outputs": [],
   "source": [
    "sn_ratio_a1_data"
   ]
  },
  {
   "cell_type": "markdown",
   "id": "58d7d7f5",
   "metadata": {},
   "source": [
    "# Plots"
   ]
  },
  {
   "cell_type": "markdown",
   "id": "bc5d8381-2e89-40c1-af0e-c4aba5f782c9",
   "metadata": {},
   "source": [
    "## Set-up"
   ]
  },
  {
   "cell_type": "markdown",
   "id": "1199b59b-f1c7-4c49-9f5f-909b725618a2",
   "metadata": {},
   "source": [
    "## Figure 2 (Maps of stabilisation and anomaly)"
   ]
  },
  {
   "cell_type": "markdown",
   "id": "84075c78-268b-4b06-9d68-d96524a4b1e3",
   "metadata": {},
   "source": [
    "### Prototype"
   ]
  },
  {
   "cell_type": "code",
   "execution_count": null,
   "id": "856457db-971b-41db-8512-15af8fb2524e",
   "metadata": {},
   "outputs": [],
   "source": [
    "year_stable_unstable_data = year_stable_unstable_data.compute()"
   ]
  },
  {
   "cell_type": "code",
   "execution_count": null,
   "id": "5223da90-4649-49ca-b5f5-9f0f7fcb36b2",
   "metadata": {},
   "outputs": [],
   "source": [
    "final_year_stable = year_stable_unstable_data.isel(stability_index=[0,2,4,6]).max(dim='stability_index')\n",
    "final_year_stable"
   ]
  },
  {
   "cell_type": "code",
   "execution_count": null,
   "id": "4b7d5320-aae1-4c24-a0fa-55c631d443cf",
   "metadata": {},
   "outputs": [],
   "source": [
    "min_time_to_restable_data = year_stable_unstable_data.isel(stability_index=[1,3,5,7]).min(dim='stability_index')\n",
    "# max_restable = year_stable_unstable_data.isel(stability_index=[1,3,5,7]).min(dim='stability_index')\n",
    "min_time_to_restable_data"
   ]
  },
  {
   "cell_type": "code",
   "execution_count": null,
   "id": "1d9f16dc-b6b2-4ed1-8163-915741377e46",
   "metadata": {},
   "outputs": [],
   "source": [
    "fig = plt.figure()\n",
    "model = 'ACCESS-ESM1-5'\n",
    "ax = fig.add_subplot(111, projection=ccrs.PlateCarree())\n",
    "sn_plotting.grey_mask(ax, np.isnan(stable_point_anoms.sel(model=model).isel(stabil_num =1)))\n",
    "stable_point_anoms.sel(model=model).isel(stabil_num =1).plot(ax=ax)\n",
    "ax.coastlines()"
   ]
  },
  {
   "cell_type": "code",
   "execution_count": null,
   "id": "733f790e-d482-436c-9a33-066640fc4342",
   "metadata": {},
   "outputs": [],
   "source": [
    "## Changes to be made\n",
    "## In final stabilisation: the areas that did not change, should be the same as before\n",
    "## The final columns should have grey where there was no change. \n",
    "indices_requested = 3\n",
    "\n",
    "ncols, nrows = 3, 9\n",
    "num_plots = ncols * nrows\n",
    "\n",
    "titles_anoms = ['Temperature Anomaly at\\nInitial Stabilisation',\n",
    "                'Temperature Anomaly at\\nFinal Stabilisation',\n",
    "                'Temperature Anomaly Difference (Final - Initial)']\n",
    "\n",
    "vm = 1.8; step=.2; levels_anom = np.arange(-vm, vm+step, step) # based upon 99th percentile of abs.\n",
    "\n",
    "\n",
    "fig = plt.figure(figsize=(20, 35))\n",
    "height_ratios = [1]*nrows+[0.15/2]*2\n",
    "gs_top = gridspec.GridSpec(nrows+2, ncols, height_ratios=height_ratios, wspace=.1, hspace=0.1)\n",
    "gs_bottom = gridspec.GridSpec(nrows+2, ncols, height_ratios=height_ratios, hspace=0)\n",
    "\n",
    "# axes = [fig.add_subplot(gs_top[i], projection=projection_init) for i in range(0, num_plots)]\n",
    "cax1 = plt.subplot(gs_bottom[nrows:nrows+1, :])\n",
    "\n",
    "for row, model in enumerate(models_sorted_name):\n",
    "    # axes = [fig.add_subplot(gs[row+2, i], projection=ccrs.PlateCarree()) for i in range(indices_requested)]\n",
    "    for column in range(indices_requested):\n",
    "        ax = fig.add_subplot(gs_top[row, column], projection=ccrs.PlateCarree())\n",
    "\n",
    "        if column in [0, 1]: anom_diff = stable_point_anoms.sel(model=model).isel(stabil_num =column)\n",
    "        else:\n",
    "            anom_diff =\\\n",
    "                stable_point_anoms.sel(model=model).isel(stabil_num =1) - stable_point_anoms.sel(model=model).isel(stabil_num = 0)\n",
    "\n",
    "        if column in [1, 2]: sn_plotting.grey_mask(ax, np.isnan(anom_diff))\n",
    "\n",
    "        c1 = anom_diff.plot(ax=ax, cmap='RdBu_r', levels=levels_anom, extend='both', add_colorbar=False)\n",
    "\n",
    "        ax.coastlines()\n",
    "        if row == 0: ax.set_title(titles_anoms[column], fontsize=15)\n",
    "        else: ax.set_title('')\n",
    "        if column == 0: ax.annotate(model, xy=(-0.2, 0.5), size=15, xycoords='axes fraction', ha='center', va='center')\n",
    "\n",
    "\n",
    "cbar1 = plt.colorbar(c1, cax=cax1, orientation='horizontal', extend='both');\n",
    "cbar1.set_label(\"Temperature Anomaly as Stabilisation (K)\", fontsize=18, labelpad=10)\n",
    "cbar1.ax.xaxis.set_label_position('top')\n",
    "cbar1.set_ticks(levels_anom)\n",
    "cbar1.ax.tick_params(labelsize=14)\n"
   ]
  },
  {
   "cell_type": "code",
   "execution_count": null,
   "id": "84f97ee1-a086-4426-a0fb-647edabe8c9e",
   "metadata": {},
   "outputs": [],
   "source": [
    "stabiliation_titles = ['First Year Stable', 'Year Non-stable after Stabilisation', 'Year Completely Stable']"
   ]
  },
  {
   "cell_type": "code",
   "execution_count": null,
   "id": "377fe850-2bc2-4b3e-bba2-ddf9fa1b92f7",
   "metadata": {},
   "outputs": [],
   "source": [
    "# 0. Time from stable to unstable\n",
    "# 1. Length of unstabilisation\n",
    "# 2. Number of year spent stable\n",
    "\n",
    "ncols, nrows = 3, 9\n",
    "num_plots = ncols * nrows\n",
    "stabilisation_ticks = np.arange(0, 55, 5)\n",
    "\n",
    "fig = plt.figure(figsize=(20, 35))\n",
    "height_ratios = [1]*nrows+[0.15/2]*2\n",
    "gs_top = gridspec.GridSpec(nrows+2, ncols, height_ratios=height_ratios, wspace=.1, hspace=0.1)\n",
    "gs_bottom = gridspec.GridSpec(nrows+2, ncols, height_ratios=height_ratios, hspace=0)\n",
    "\n",
    "cax1 = plt.subplot(gs_bottom[nrows:nrows+1, :])\n",
    "\n",
    "\n",
    "for row, model in enumerate(models_sorted_name):\n",
    "    \n",
    "    year_stable_unstable_da_model = year_stable_unstable_data.sel(model=model)\n",
    "    \n",
    "    column = 0\n",
    "    ax1 = fig.add_subplot(gs_top[row, column], projection=ccrs.PlateCarree())#axes[row* (column+1)]    \n",
    "    # Stability index 1 is the first year unstable\n",
    "    # Stability index 0 is the first year stable\n",
    "    # Thus 1 - 0 is the time from first stabilisation until de-stabilisation\n",
    "    year_diff_1m0 = (year_stable_unstable_da_model.isel(stability_index=1) - year_stable_unstable_da_model.isel(stability_index=0))\n",
    "    c1 = year_diff_1m0.plot(\n",
    "        ax=ax1, levels=stabilisation_ticks, cmap='Spectral_r', add_colorbar=False, extend='max')\n",
    "    sn_plotting.grey_mask(ax1, np.isnan(year_diff_1m0))\n",
    "    ax1.annotate(model, xy=(-0.21, 0.5), size=18, xycoords='axes fraction', ha='center', va='center')\n",
    "\n",
    "    column = 1\n",
    "    # Stability index 2 is restable\n",
    "    # Stability index 1 is the first year unstable\n",
    "    # Thus 2 - 1 is the time spent unstable\n",
    "    ax2 = fig.add_subplot(gs_top[row, column], projection=ccrs.PlateCarree())#axes[row* (column+1)]\n",
    "   \n",
    "    year_diff_2m1 = (year_stable_unstable_da_model.isel(stability_index=2) - year_stable_unstable_da_model.isel(stability_index=1))\n",
    "    year_diff_2m1.plot(\n",
    "        ax=ax2, levels=stabilisation_ticks, cmap='Spectral_r', add_colorbar=False, extend='both')\n",
    "    sn_plotting.grey_mask(ax2, np.isnan(year_diff_2m1))\n",
    "\n",
    "    \n",
    "    column = 2\n",
    "    ax3 = fig.add_subplot(gs_top[row, column], projection=ccrs.PlateCarree())#axes[row* (column+1)]\n",
    "    binary_stability_data.sel(model=model).sum(dim='time').plot(\n",
    "        ax=ax3, levels=stabilisation_ticks, cmap='Spectral_r', add_colorbar=False, extend='both')\n",
    "        \n",
    "\n",
    "    # Formatting\n",
    "    axes = [ax1, ax2, ax3]\n",
    "    for ax in axes: ax.coastlines()\n",
    "    \n",
    "    if row == 0:\n",
    "        ax1.set_title('Number of Year from\\nStabilisation until Unstable',  size=18)\n",
    "        ax2.set_title('Number of Years during\\nSecond Non Stable Period', size=18)\n",
    "        ax3.set_title('Total Number of Years Unstable', size=18)\n",
    "    else:\n",
    "        for ax in axes: ax.set_title('')\n",
    "\n",
    "cbar1 = plt.colorbar(c1, cax=cax1, orientation='horizontal', extend='max');\n",
    "cbar1.set_label('Number of Years', fontsize=18, labelpad=10)\n",
    "cbar1.ax.xaxis.set_label_position('top')\n",
    "cbar1.ax.set_xticks(stabilisation_ticks);"
   ]
  },
  {
   "cell_type": "code",
   "execution_count": null,
   "id": "8327fd87-c995-48db-aa6a-722c29d5b81a",
   "metadata": {},
   "outputs": [],
   "source": [
    "interesting_models = ['ACCESS-ESM1-5', 'CESM2', 'NorESM2-LM', 'MIROC-ES2L']"
   ]
  },
  {
   "cell_type": "code",
   "execution_count": null,
   "id": "44faaba8-1cf4-4482-b97f-cbcf07475482",
   "metadata": {},
   "outputs": [],
   "source": [
    "# ncols, nrows = 3, len(interesting_models)\n",
    "# num_plots = ncols * nrows\n",
    "# stabilisation_ticks = np.arange(0, 55, 5)\n",
    "\n",
    "# fig = plt.figure(figsize=(20, 4*nrows))\n",
    "# height_ratios = [1]*nrows+[0.15/2]*2\n",
    "# gs_top = gridspec.GridSpec(nrows+2, ncols, height_ratios=height_ratios, wspace=.1, hspace=0.1)\n",
    "# gs_bottom = gridspec.GridSpec(nrows+2, ncols, height_ratios=height_ratios, hspace=0)\n",
    "\n",
    "# cax1 = plt.subplot(gs_bottom[nrows, :])\n",
    "# cax2 = plt.subplot(gs_bottom[nrows+1, :])\n",
    "\n",
    "# # anom_indcices = [[1, 0], [1,0]]\n",
    "\n",
    "\n",
    "# for row, model in enumerate(interesting_models):\n",
    "\n",
    "#         anom_model_da = stable_point_anoms.sel(model=model)\n",
    "#         ax = fig.add_subplot(gs_top[row, column], projection=ccrs.PlateCarree())#axes[row* (column+1)]\n",
    "\n",
    "#         if column == 1: da = min_time_to_restable_data.sel(model=model)\n",
    "#         else: da = year_stable_unstable_data.sel(model=model).isel(stability_index=column)\n",
    "\n",
    "\n",
    "#         anom_diff =\\\n",
    "#                 anom_model_da.isel(stabil_num=1) -\\\n",
    "#                 anom_model_da.isel(stabil_num =0)\n",
    "#         da_cool = da.where(anom_diff <=0)\n",
    "#         da_warm = da.where(anom_diff >0)\n",
    "\n",
    "#         # 'YlOrBr' #'YlGnBu'\n",
    "#         c1 = da_warm.plot(ax=ax, cmap='Reds', levels=stabilisation_ticks, extend='max', add_colorbar=False)\n",
    "#         c2 = da_cool.plot(ax=ax, cmap='BuPu', levels=stabilisation_ticks, extend='max', add_colorbar=False)\n",
    "\n",
    "#         # ax.set_title(i)\n",
    "#         ax.coastlines()\n",
    "        \n",
    "#         if row == 0: ax.set_title(stabiliation_titles[column], fontsize=15)\n",
    "#         else: ax.set_title('')\n",
    "#         if column == 0: ax.annotate(model, xy=(-0.2, 0.5), size=15, xycoords='axes fraction', ha='center', va='center')\n",
    "\n",
    "\n",
    "# cbar1 = plt.colorbar(c1, cax=cax1, orientation='horizontal', extend='max');\n",
    "# cbar2 = plt.colorbar(c2, cax=cax2, orientation='horizontal', extend='max');\n",
    "\n",
    "# # Set the title for cbar1 above the colorbar\n",
    "# cbar1.set_label('Year', fontsize=18, labelpad=10)\n",
    "# cbar1.ax.xaxis.set_label_position('top')\n",
    "# # Set the tick label size for both colorbars\n",
    "# cbar2.set_ticks(stabilisation_ticks)\n",
    "# cbar2.ax.tick_params(labelsize=14)\n",
    "# cbar1.ax.set_xticklabels([]);\n",
    "# cbar1.ax.set_xticks([]);"
   ]
  },
  {
   "cell_type": "code",
   "execution_count": null,
   "id": "753248fb-8ac7-401f-a1e0-35d0fac2b8de",
   "metadata": {},
   "outputs": [],
   "source": [
    "stabiliation_titles"
   ]
  },
  {
   "cell_type": "code",
   "execution_count": null,
   "id": "e4fd8317-67fc-4617-9462-a73e973bc7c2",
   "metadata": {},
   "outputs": [],
   "source": [
    "stabiliation_titles2 = ['Year Non-stable after Stabilisation',\n",
    "                        'Lenth of Non-stable Period',\n",
    "                        'Number Years Non-Stable']"
   ]
  },
  {
   "cell_type": "code",
   "execution_count": null,
   "id": "91adc3a0-7340-40ee-896b-9fd7f6f35d86",
   "metadata": {},
   "outputs": [],
   "source": [
    "# model='NorESM2-LM'\n",
    "# lat_lon_dict = dict(lat=60, lon=317.5, method='nearest')\n",
    "\n",
    "\n",
    "model='MIROC-ES2L'\n",
    "lat_lon_dict = dict(lat=43, lon=115, method='nearest')\n",
    "\n",
    "a1_anom_data[model].sel(**lat_lon_dict).plot()"
   ]
  },
  {
   "cell_type": "code",
   "execution_count": null,
   "id": "217c8eea-2590-4eee-b403-df349cdbec9d",
   "metadata": {},
   "outputs": [],
   "source": []
  },
  {
   "cell_type": "code",
   "execution_count": null,
   "id": "0798bf72-f219-4300-a513-caa4460abcc9",
   "metadata": {},
   "outputs": [],
   "source": [
    "# model='CESM2'\n",
    "# anom_diff = stable_point_anoms.sel(model=model).isel(stabil_num=1) - stable_point_anoms.sel(model=model).isel(stabil_num=0)\n",
    "# anom_diff.sel(lat=slice(55, 62.5), lon=slice(330,340)).plot()\n",
    "\n",
    "\n",
    "# model='NorESM2-LM'\n",
    "# anom_diff = stable_point_anoms.sel(model=model).isel(stabil_num=1) - stable_point_anoms.sel(model=model).isel(stabil_num=0)\n",
    "# anom_diff.sel(lat=slice(55, 65), lon=slice(310,330)).plot()\n",
    "\n",
    "# Failed\n",
    "# lat_lon_dict = dict(lat=79, lon=67.5, method='nearest')\n",
    "\n",
    "model='MIROC-ES2L'\n",
    "anom_diff = stable_point_anoms.sel(model=model).isel(stabil_num=1) - stable_point_anoms.sel(model=model).isel(stabil_num=0)\n",
    "anom_diff.sel(lat=slice(30, 50), lon=slice(100,125)).plot()\n",
    "# anom_diff"
   ]
  },
  {
   "cell_type": "code",
   "execution_count": null,
   "id": "faf4e261-6ae2-4abd-be29-6a4dc1d89110",
   "metadata": {},
   "outputs": [],
   "source": [
    "titles_anoms = ['Temperature Anomaly at\\nInitial Stabilisation',\n",
    "                'Temperature Anomaly at\\nFinal Stabilisation',\n",
    "                'Temperature Anomaly Difference\\n(Final - Initial)']\n",
    "\n",
    "cols, nrows = 3, len(interesting_models)\n",
    "num_plots = ncols * nrows\n",
    "stabilisation_ticks = np.arange(0, 55, 5)\n",
    "\n",
    "fig = plt.figure(figsize=(20, 4*nrows))\n",
    "height_ratios = [1]*nrows+[0.2/2]*2\n",
    "gs_top = gridspec.GridSpec(nrows+2, ncols, height_ratios=height_ratios, wspace=.1, hspace=0.15)\n",
    "gs_bottom = gridspec.GridSpec(nrows+2, ncols, height_ratios=height_ratios, hspace=0)\n",
    "\n",
    "cax1 = plt.subplot(gs_bottom[nrows, :])\n",
    "\n",
    "\n",
    "for row, model in enumerate(interesting_models):\n",
    "    for column in range(indices_requested):\n",
    "        ax = fig.add_subplot(gs_top[row, column], projection=ccrs.PlateCarree())\n",
    "\n",
    "        if column in [0, 1]: anom_diff = stable_point_anoms.sel(model=model).isel(stabil_num=column)\n",
    "        else:\n",
    "            anom_diff =\\\n",
    "                stable_point_anoms.sel(model=model).isel(stabil_num=1) - stable_point_anoms.sel(model=model).isel(stabil_num=0)\n",
    "\n",
    "        if column in [1, 2]: sn_plotting.grey_mask(ax, np.isnan(anom_diff))\n",
    "\n",
    "        c1 = anom_diff.plot(ax=ax, cmap='RdBu_r', levels=levels_anom, extend='both', add_colorbar=False)\n",
    "\n",
    "        ax.coastlines()\n",
    "        if row == 0: ax.set_title(titles_anoms[column], fontsize=20)\n",
    "        else: ax.set_title('')\n",
    "        if column == 0: ax.annotate(model, xy=(-0.25, 0.5), size=20, xycoords='axes fraction', ha='center', va='center')\n",
    "\n",
    "\n",
    "cbar1 = plt.colorbar(c1, cax=cax1, orientation='horizontal', extend='both');\n",
    "cbar1.set_label(\"Temperature Anomaly as Stabilisation (K)\", fontsize=20, labelpad=10)\n",
    "cbar1.ax.xaxis.set_label_position('top')\n",
    "cbar1.set_ticks(levels_anom)\n",
    "cbar1.ax.tick_params(labelsize=16)\n"
   ]
  },
  {
   "cell_type": "code",
   "execution_count": null,
   "id": "814dced4-8bba-46ef-83f8-da1b3e53e4c2",
   "metadata": {},
   "outputs": [],
   "source": [
    "ncols, nrows = 3, len(interesting_models)\n",
    "num_plots = ncols * nrows\n",
    "stabilisation_ticks = np.arange(0, 55, 5)\n",
    "\n",
    "fig = plt.figure(figsize=(20, 4*nrows))\n",
    "height_ratios = [1]*nrows+[0.2/2]*2\n",
    "gs_top = gridspec.GridSpec(nrows+2, ncols, height_ratios=height_ratios, wspace=.1, hspace=0.15)\n",
    "gs_bottom = gridspec.GridSpec(nrows+2, ncols, height_ratios=height_ratios, hspace=0)\n",
    "\n",
    "cax1 = plt.subplot(gs_bottom[nrows, :])\n",
    "cax2 = plt.subplot(gs_bottom[nrows+1, :])\n",
    "\n",
    "\n",
    "for row, model in enumerate(interesting_models):\n",
    "    \n",
    "    year_stable_unstable_da_model = year_stable_unstable_data.sel(model=model)\n",
    "    anom_model_da = stable_point_anoms.sel(model=model)\n",
    "    anom_diff =\\\n",
    "            anom_model_da.isel(stabil_num=1) -\\\n",
    "            anom_model_da.isel(stabil_num =0)\n",
    "    \n",
    "    column = 0\n",
    "    ax1 = fig.add_subplot(gs_top[row, column], projection=ccrs.PlateCarree())#axes[row* (column+1)]\n",
    "    da_cool = min_time_to_restable_data.sel(model=model).where(anom_diff <=0)\n",
    "    da_warm = min_time_to_restable_data.sel(model=model).where(anom_diff >0)\n",
    "    \n",
    "    # 'YlOrBr' #'YlGnBu'\n",
    "    c1 = da_warm.plot(ax=ax1, cmap='Reds', levels=stabilisation_ticks, extend='max', add_colorbar=False)\n",
    "    c2 = da_cool.plot(ax=ax1, cmap='BuPu', levels=stabilisation_ticks, extend='max', add_colorbar=False)\n",
    "    sn_plotting.grey_mask(ax1, np.isnan(min_time_to_restable_data.sel(model=model)))\n",
    "\n",
    "    column = 1\n",
    "    ax2 = fig.add_subplot(gs_top[row, column], projection=ccrs.PlateCarree())\n",
    "    first_minus_last = final_year_stable.sel(model=model) - min_time_to_restable_data.sel(model=model)\n",
    "    first_minus_last_cool = first_minus_last.where(anom_diff <=0)\n",
    "    first_minus_last_warm = first_minus_last.where(anom_diff >0)\n",
    "    # 'YlOrBr' #'YlGnBu'\n",
    "    first_minus_last_warm.plot(ax=ax2, cmap='Reds', levels=stabilisation_ticks, extend='max', add_colorbar=False)\n",
    "    first_minus_last_cool.plot(ax=ax2, cmap='BuPu', levels=stabilisation_ticks, extend='max', add_colorbar=False)\n",
    "    sn_plotting.grey_mask(ax2, np.isnan(first_minus_last.sel(model=model)))\n",
    "\n",
    "    column = 2\n",
    "    ax3 = fig.add_subplot(gs_top[row, column], projection=ccrs.PlateCarree())\n",
    "    number_years_unstable_da = binary_stability_data.sel(model=model).sum(dim='time')\n",
    "    # Get the largest anomaly (using abs), the convert back to negative or positive by sign\n",
    "    final_temp = np.abs(stable_point_anoms.sel(model=model)).max(dim='stabil_num') * np.sign(stable_point_anoms.sel(model=model).isel(stabil_num=0))\n",
    "    \n",
    "    number_years_unstable_da_cool = number_years_unstable_da.where(final_temp <=0)\n",
    "    number_years_unstable_da_warm = number_years_unstable_da.where(final_temp >0)\n",
    "    number_years_unstable_da_warm.plot(ax=ax3, cmap='Reds', levels=stabilisation_ticks, extend='max', add_colorbar=False)\n",
    "    number_years_unstable_da_cool.plot(ax=ax3, cmap='BuPu', levels=stabilisation_ticks, extend='max', add_colorbar=False)\n",
    "    sn_plotting.grey_mask(ax3, np.isnan(number_years_unstable_da))\n",
    "\n",
    "    \n",
    "    axes = [ax1, ax2, ax3]\n",
    "\n",
    "    for ax in axes:\n",
    "        ax.coastlines()\n",
    "    \n",
    "    if row == 0:\n",
    "        ax1.set_title(stabiliation_titles2[0], fontsize=20)\n",
    "        ax2.set_title(stabiliation_titles2[1], fontsize=20)\n",
    "        ax3.set_title(stabiliation_titles2[1], fontsize=20)\n",
    "    else: ax1.set_title(''); ax2.set_title(''); ax3.set_title('')\n",
    "    ax1.annotate(model, xy=(-0.25, 0.5), size=20, xycoords='axes fraction', ha='center', va='center')\n",
    "\n",
    "\n",
    "cbar1 = plt.colorbar(c1, cax=cax1, orientation='horizontal', extend='max');\n",
    "cbar2 = plt.colorbar(c2, cax=cax2, orientation='horizontal', extend='max');\n",
    "\n",
    "# Set the title for cbar1 above the colorbar\n",
    "cbar1.set_label('Year(s)', fontsize=20, labelpad=10)\n",
    "cbar1.ax.xaxis.set_label_position('top')\n",
    "# Set the tick label size for both colorbars\n",
    "cbar2.set_ticks(stabilisation_ticks)\n",
    "cbar2.ax.tick_params(labelsize=16)\n",
    "cbar1.ax.set_xticklabels([]);\n",
    "cbar1.ax.set_xticks([]);"
   ]
  },
  {
   "cell_type": "code",
   "execution_count": null,
   "id": "5378993a-7668-4477-a21a-b10e89d73b8a",
   "metadata": {},
   "outputs": [],
   "source": [
    "ncols, nrows = 3, 3\n",
    "num_plots = ncols * nrows\n",
    "stabilisation_ticks = np.arange(0, 55, 5)\n",
    "\n",
    "fig = plt.figure(figsize=(20, 35/nrows))\n",
    "height_ratios = [1]*nrows+[0.2/2]*2\n",
    "gs_top = gridspec.GridSpec(nrows+2, ncols, height_ratios=height_ratios, wspace=.1, hspace=0.15)\n",
    "gs_bottom = gridspec.GridSpec(nrows+2, ncols, height_ratios=height_ratios, hspace=0)\n",
    "\n",
    "cax1 = plt.subplot(gs_bottom[nrows, :])\n",
    "cax2 = plt.subplot(gs_bottom[nrows+1, :])\n",
    "\n",
    "# anom_indcices = [[1, 0], [1,0]]\n",
    "\n",
    "for num, model in enumerate(models_sorted_name):\n",
    "\n",
    "    anom_model_da = stable_point_anoms.sel(model=model)\n",
    "    ax = fig.add_subplot(gs_top[num], projection=ccrs.PlateCarree())#axes[row* (column+1)]\n",
    "\n",
    "    da = final_year_stable.sel(model=model)\n",
    "\n",
    "    anom_diff = anom_model_da.isel(stabil_num = 0)\n",
    "\n",
    "    da_cool = da.where(anom_diff <=0)\n",
    "    da_warm = da.where(anom_diff >0)\n",
    "\n",
    "    # 'YlOrBr' #'YlGnBu'\n",
    "    c1 = da_warm.plot(ax=ax, cmap='Reds', levels=stabilisation_ticks, extend='max', add_colorbar=False)\n",
    "    c2 = da_cool.plot(ax=ax, cmap='BuPu', levels=stabilisation_ticks, extend='max', add_colorbar=False)\n",
    "\n",
    "    ax.coastlines()\n",
    "    ax.set_title(model, size=20)\n",
    "\n",
    "\n",
    "cbar1 = plt.colorbar(c1, cax=cax1, orientation='horizontal', extend='max');\n",
    "cbar2 = plt.colorbar(c2, cax=cax2, orientation='horizontal', extend='max');\n",
    "\n",
    "# Set the title for cbar1 above the colorbar\n",
    "cbar1.set_label('Year of Stabilisation', fontsize=20, labelpad=10)\n",
    "cbar1.ax.xaxis.set_label_position('top')\n",
    "# Set the tick label size for both colorbars\n",
    "cbar2.set_ticks(stabilisation_ticks)\n",
    "cbar2.ax.tick_params(labelsize=16)\n",
    "cbar1.ax.set_xticklabels([]);\n",
    "cbar1.ax.set_xticks([]);"
   ]
  },
  {
   "cell_type": "code",
   "execution_count": null,
   "id": "016b889f-2a25-4e3b-bfdf-7ae16c0fd0f2",
   "metadata": {},
   "outputs": [],
   "source": [
    "ncols, nrows = 3, 9\n",
    "num_plots = ncols * nrows\n",
    "stabilisation_ticks = np.arange(0, 55, 5)\n",
    "\n",
    "fig = plt.figure(figsize=(20, 35))\n",
    "height_ratios = [1]*nrows+[0.15/2]*2\n",
    "gs_top = gridspec.GridSpec(nrows+2, ncols, height_ratios=height_ratios, wspace=.1, hspace=0.1)\n",
    "gs_bottom = gridspec.GridSpec(nrows+2, ncols, height_ratios=height_ratios, hspace=0)\n",
    "\n",
    "cax1 = plt.subplot(gs_bottom[nrows, :])\n",
    "cax2 = plt.subplot(gs_bottom[nrows+1, :])\n",
    "\n",
    "# anom_indcices = [[1, 0], [1,0]]\n",
    "\n",
    "\n",
    "for row, model in enumerate(models_sorted_name):\n",
    "    for column in range(indices_requested):\n",
    "\n",
    "        anom_model_da = stable_point_anoms.sel(model=model)\n",
    "        ax = fig.add_subplot(gs_top[row, column], projection=ccrs.PlateCarree())#axes[row* (column+1)]\n",
    "\n",
    "        if column == 1: da = min_time_to_restable_data.sel(model=model)\n",
    "        else: da = year_stable_unstable_data.sel(model=model).isel(stability_index=column)\n",
    "\n",
    "        if column == 0: anom_diff = anom_model_da.isel(stabil_num = 0)\n",
    "        else:\n",
    "            anom_diff =\\\n",
    "                anom_model_da.isel(stabil_num=1) -\\\n",
    "                anom_model_da.isel(stabil_num =0)\n",
    "        da_cool = da.where(anom_diff <=0)\n",
    "        da_warm = da.where(anom_diff >0)\n",
    "\n",
    "        # 'YlOrBr' #'YlGnBu'\n",
    "        c1 = da_warm.plot(ax=ax, cmap='Reds', levels=stabilisation_ticks, extend='max', add_colorbar=False)\n",
    "        c2 = da_cool.plot(ax=ax, cmap='BuPu', levels=stabilisation_ticks, extend='max', add_colorbar=False)\n",
    "\n",
    "        # ax.set_title(i)\n",
    "        ax.coastlines()\n",
    "        \n",
    "        if row == 0: ax.set_title(stabiliation_titles[column], fontsize=20)\n",
    "        else: ax.set_title('')\n",
    "        if column == 0: ax.annotate(model, xy=(-0.2, 0.5), size=15, xycoords='axes fraction', ha='center', va='center')\n",
    "\n",
    "\n",
    "cbar1 = plt.colorbar(c1, cax=cax1, orientation='horizontal', extend='max');\n",
    "cbar2 = plt.colorbar(c2, cax=cax2, orientation='horizontal', extend='max');\n",
    "\n",
    "# Set the title for cbar1 above the colorbar\n",
    "cbar1.set_label('Year', fontsize=20, labelpad=10)\n",
    "cbar1.ax.xaxis.set_label_position('top')\n",
    "# Set the tick label size for both colorbars\n",
    "cbar2.set_ticks(stabilisation_ticks)\n",
    "cbar2.ax.tick_params(labelsize=16)\n",
    "cbar1.ax.set_xticklabels([]);\n",
    "cbar1.ax.set_xticks([]);"
   ]
  },
  {
   "cell_type": "code",
   "execution_count": null,
   "id": "3efa635c-fdd9-48d7-989c-7b900b28972c",
   "metadata": {},
   "outputs": [],
   "source": [
    "ncols, nrows = 3, 3\n",
    "num_plots = ncols * nrows\n",
    "stabilisation_ticks = np.arange(0, 55, 5)\n",
    "\n",
    "fig = plt.figure(figsize=(20, 35/nrows))\n",
    "height_ratios = [1]*nrows+[0.2/2]*2\n",
    "gs_top = gridspec.GridSpec(nrows+2, ncols, height_ratios=height_ratios, wspace=.1, hspace=0.15)\n",
    "gs_bottom = gridspec.GridSpec(nrows+2, ncols, height_ratios=height_ratios, hspace=0)\n",
    "\n",
    "cax1 = plt.subplot(gs_bottom[nrows, :])\n",
    "cax2 = plt.subplot(gs_bottom[nrows+1, :])\n",
    "\n",
    "# anom_indcices = [[1, 0], [1,0]]\n",
    "\n",
    "for num, model in enumerate(models_sorted_name):\n",
    "\n",
    "    anom_model_da = stable_point_anoms.sel(model=model)\n",
    "    ax = fig.add_subplot(gs_top[num], projection=ccrs.PlateCarree())#axes[row* (column+1)]\n",
    "\n",
    "    da = year_stable_unstable_data.sel(model=model).isel(stability_index=0)\n",
    "\n",
    "    anom_diff = anom_model_da.isel(stabil_num = 0)\n",
    "\n",
    "    da_cool = da.where(anom_diff <=0)\n",
    "    da_warm = da.where(anom_diff >0)\n",
    "\n",
    "    # 'YlOrBr' #'YlGnBu'\n",
    "    c1 = da_warm.plot(ax=ax, cmap='Reds', levels=stabilisation_ticks, extend='max', add_colorbar=False)\n",
    "    c2 = da_cool.plot(ax=ax, cmap='BuPu', levels=stabilisation_ticks, extend='max', add_colorbar=False)\n",
    "\n",
    "    ax.coastlines()\n",
    "    ax.set_title(model, size=20)\n",
    "\n",
    "\n",
    "cbar1 = plt.colorbar(c1, cax=cax1, orientation='horizontal', extend='max');\n",
    "cbar2 = plt.colorbar(c2, cax=cax2, orientation='horizontal', extend='max');\n",
    "\n",
    "# Set the title for cbar1 above the colorbar\n",
    "cbar1.set_label('Year of Stabilisation', fontsize=20, labelpad=10)\n",
    "cbar1.ax.xaxis.set_label_position('top')\n",
    "# Set the tick label size for both colorbars\n",
    "cbar2.set_ticks(stabilisation_ticks)\n",
    "cbar2.ax.tick_params(labelsize=16)\n",
    "cbar1.ax.set_xticklabels([]);\n",
    "cbar1.ax.set_xticks([]);"
   ]
  },
  {
   "cell_type": "code",
   "execution_count": null,
   "id": "d64fe16f-c122-44bb-9f68-230a7f60a084",
   "metadata": {},
   "outputs": [],
   "source": [
    "# indices_requested = 3\n",
    "\n",
    "# fig = plt.figure(figsize=(18, 30))\n",
    "# gs = gridspec.GridSpec(len(models_sorted_name)+1,indices_requested, height_ratios=[0.1] + [1]*len(models_sorted_name))\n",
    "\n",
    "# titles = ['First Year Stable', 'Year Non-stable after stabilisation', 'Re_stabilisation']\n",
    "\n",
    "# for row, model in enumerate(models_sorted_name):\n",
    "#     axes = [fig.add_subplot(gs[row+1, i], projection=ccrs.PlateCarree()) for i in range(indices_requested)]\n",
    "#     for column in range(indices_requested):\n",
    "#         ax = axes[column]\n",
    "#         da = year_stable_unstable_data.sel(model=model).isel(stability_index=column)\n",
    "#         c = da.plot(ax=ax, cmap='Spectral_r', levels=np.linspace(0, 50.01, 11), add_colorbar=False)\n",
    "#         ax.coastlines()\n",
    "#         ax.set_title(titles[column])\n",
    "\n",
    "# cax = plt.subplot(gs[0, :])\n",
    "\n",
    "# plt.colorbar(c, cax=cax, orientation='horizontal')"
   ]
  },
  {
   "cell_type": "code",
   "execution_count": null,
   "id": "224c11f5-375e-47e9-ac34-bbab58ab852b",
   "metadata": {},
   "outputs": [],
   "source": [
    "# indices_requested = 3\n",
    "\n",
    "# fig = plt.figure(figsize=(indices_requested*4,4))\n",
    "# gs = gridspec.GridSpec(2,indices_requested, height_ratios=[0.1, 1])\n",
    "# axes = [fig.add_subplot(gs[i+indices_requested], projection=ccrs.PlateCarree()) for i in range(indices_requested)]\n",
    "\n",
    "# titles = ['First Year Stable', 'Year Non-stable after stabilisation', 'Re_stabilisation']\n",
    "\n",
    "# for i in range(indices_requested):\n",
    "#     ax = axes[i]\n",
    "#     da = year_stable_unstable_model_da.isel(stability_index=i)\n",
    "#     c = da.plot(ax=ax, cmap='Spectral_r', levels=np.linspace(0, 50.01, 11), add_colorbar=False)\n",
    "#     ax.set_title(i)\n",
    "#     ax.coastlines()\n",
    "#     ax.set_title(titles[i])\n",
    "\n",
    "# cax = plt.subplot(gs[0, :])\n",
    "\n",
    "# plt.colorbar(c, cax=cax, orientation='horizontal')"
   ]
  },
  {
   "cell_type": "markdown",
   "id": "92700430-59ae-46f6-9abe-89d678071b24",
   "metadata": {},
   "source": [
    "### Standard Maps"
   ]
  },
  {
   "cell_type": "code",
   "execution_count": null,
   "id": "1b3f5e03-f447-47bf-bb6d-a14c75a63369",
   "metadata": {},
   "outputs": [],
   "source": [
    "# year_stable_data = year_stable_unstable_data.sel(stability_index=1)\n",
    "year_stable_data = year_stable_unstable_data.sel(stability_index=[1,3,5,7,9]).max(dim='stability_index')"
   ]
  },
  {
   "cell_type": "code",
   "execution_count": null,
   "id": "54528650-e975-4192-a275-214033df72a2",
   "metadata": {},
   "outputs": [],
   "source": [
    "### Small calculations - splitting into warm stable and cool stable\n",
    "year_stable_data = year_stable_data.squeeze()\n",
    "stable_warm_data = year_stable_data.where(stable_anom_da>=0)\n",
    "stable_cool_data = year_stable_data.where(stable_anom_da<0)"
   ]
  },
  {
   "cell_type": "code",
   "execution_count": null,
   "id": "de66fd3c-b119-4345-979e-5d2caecdd67e",
   "metadata": {},
   "outputs": [],
   "source": [
    "\n",
    "# 20-year window levels\n",
    "# vm = 30; step=2; levels_stable = np.arange(0, vm+step, step) \n",
    "# 40-year window levels\n",
    "vm = 50; step=5; levels_stable = np.arange(0, vm+step, step) \n",
    "\n",
    "ncols, nrows = 3, 3\n",
    "num_plots = ncols * nrows\n",
    "\n",
    "fig = plt.figure(figsize=(18*nrows, 10*ncols))\n",
    "height_ratios = [1]*nrows+[0.15/2]*2\n",
    "gs_top = gridspec.GridSpec(nrows+2, ncols, height_ratios=height_ratios, wspace=.1, hspace=0.3)\n",
    "gs_bottom = gridspec.GridSpec(nrows+2, ncols, height_ratios=height_ratios, hspace=0)\n",
    "\n",
    "axes = [fig.add_subplot(gs_top[i], projection=projection_init) for i in range(0, num_plots)]\n",
    "cax1 = plt.subplot(gs_bottom[nrows, :])\n",
    "cax2 = plt.subplot(gs_bottom[nrows+1, :])\n",
    "\n",
    "\n",
    "\n",
    "### Data plotting\n",
    "# , stabilisation_method = 'blackout'\n",
    "stable_plot_kwargs = dict(dim='model', levels=levels_stable, extend='neither', add_label=False,\n",
    "    max_stabilisation_year=50, stabilisation_method='blackout', \n",
    "                          font_scale=2.8, projection=ccrs.PlateCarree, ptype='imshow')\n",
    "\n",
    "fig, gs, axes, cbar1 = sn_plotting.map_plot_all_for_coords_3(\n",
    "    stable_cool_data, fig=fig, gs=gs_top, axes=axes, cax=cax1, cmap='BuPu',\n",
    "    cbar_title=\"Year of Stabilisation\", **stable_plot_kwargs)\n",
    "\n",
    "fig, gs, axes, cbar2 = sn_plotting.map_plot_all_for_coords_3(\n",
    "    stable_warm_data, fig=fig, gs=gs_top, axes=axes, cax=cax2, cmap='Reds', **stable_plot_kwargs)\n",
    "\n",
    "cbar1[0].ax.set_xticklabels([]);\n",
    "cbar1[0].ax.set_xticks([]);"
   ]
  },
  {
   "cell_type": "code",
   "execution_count": null,
   "id": "c9f0b37c-24ab-4ab3-8c05-f146048611b7",
   "metadata": {},
   "outputs": [],
   "source": [
    "fig = plt.figure(figsize=(18*nrows, 10*ncols))\n",
    "gs = gridspec.GridSpec(nrows+2, ncols, height_ratios=[1]*nrows+[0.1]+[0.15], hspace=0.1)\n",
    "axes = [fig.add_subplot(gs[i], projection=projection_init) for i in range(0, num_plots)]\n",
    "cax = plt.subplot(gs_bottom[nrows+1, :])\n",
    "\n",
    "\n",
    "vm = 1.8; step=.2; levels_anom = np.arange(-vm, vm+step, step) # based upon 99th percentile of abs.\n",
    "fig, gs, axes, cbar = sn_plotting.map_plot_all_for_coords_3(\n",
    "    stable_anom_da, dim='model', levels=levels_anom, fig=fig, gs=gs, axes=axes, cax=cax,\n",
    "    cbar_title=\"Temperature Anomaly as Stabilisation (K)\", projection=ccrs.PlateCarree, \n",
    "    add_label=False, font_scale=2.8, \n",
    "    logginglevel='ERROR', ptype='imshow')\n"
   ]
  },
  {
   "cell_type": "markdown",
   "id": "a9a233ae-739b-4f8e-a3fd-fe4ff5f093d8",
   "metadata": {},
   "source": [
    "## Figure 3 (Time series of percent stable)"
   ]
  },
  {
   "cell_type": "code",
   "execution_count": null,
   "id": "8bf2ddb5-9f5c-49a1-a890-59284c29235d",
   "metadata": {},
   "outputs": [],
   "source": [
    "### Plot set-up\n",
    "\n",
    "line_plot_kwargs = dict(xlabel='Time After Emission Cessation (Years)', labelpad=70, ncol=2,\n",
    "                        font_scale=1.8, xlim=(0, 49), bbox_to_anchor=(1, 0.75))\n",
    "left_kwargs = dict(ylabel='Percent\\nStable (%)')\n",
    "\n",
    "\n",
    "line_plot_kwargs['ylim'] = (0, 100) #if window == 40 else (40, 100)\n",
    "\n",
    "### Plot Creation\n",
    "nplots = len(percent_stable_timeseries_ds.region.values)\n",
    "fig = plt.figure(figsize=(20, 25))\n",
    "gs = gridspec.GridSpec(nplots, 1, wspace=0, hspace=0)\n",
    "axes = [fig.add_subplot(gs[i]) for i in range(nplots)]\n",
    "\n",
    "for num, reg in enumerate(percent_stable_timeseries_ds.region.values):\n",
    "    kwargs_to_use = left_kwargs if ((num%2) or (num==0)) else {}\n",
    "    sn_plotting.plot_all_coord_lines(\n",
    "        percent_stable_timeseries_ds.sel(model=models_sorted).sel(region=reg), fig=fig, ax=axes[num],\n",
    "        title=NAMING_MAP[reg], params=ZEC_LINESTYLE_DICT, \n",
    "        add_legend=False,#, if num < len(percent_stable_timeseries_data.region.values)-1 else True,\n",
    "        logginglevel='ERROR', legend_fontsize=16,\n",
    "        **kwargs_to_use, **line_plot_kwargs);\n",
    "\n",
    "# for num, ax in enumerate(axes):\n",
    "#     title = ax.get_title()\n",
    "#     ax.set_title('')\n",
    "#     # Remove the first and last yticks so it doesn't overlap with the next/previous plot.\n",
    "#     ax.set_yticks(np.take(ax.get_yticks(), np.arange(1, len(ax.get_yticks())-1)))\n",
    "#     ax.annotate(title, xy=(0.01, 0.85), xycoords='axes fraction', size=plotting_functions.PlotConfig.title_size*1.4)\n",
    "#     if not num%2 and num >1: ax.set_yticklabels([])\n",
    "#     if 1 < num < 8: ax.set_xticklabels([]) # Need or the last number can still be seen"
   ]
  },
  {
   "cell_type": "code",
   "execution_count": null,
   "id": "cc3997de-c489-42ed-a62e-52bdf0289a1b",
   "metadata": {},
   "outputs": [],
   "source": [
    "### Plot set-up\n",
    "\n",
    "line_plot_kwargs = dict(xlabel='Time After Emission Cessation (Years)', labelpad=70, ncol=2,\n",
    "                        font_scale=1.8, xlim=(0, 49), bbox_to_anchor=(1, 0.75))\n",
    "left_kwargs = dict(ylabel='Percent\\nStable (%)')\n",
    "\n",
    "\n",
    "line_plot_kwargs['ylim'] = (0, 100) #if window == 40 else (40, 100)\n",
    "\n",
    "### Plot Creation\n",
    "nplots = len(percent_stable_timeseries_ds.region.values)+1\n",
    "fig = plt.figure(figsize=(12*2, 4*nplots))\n",
    "gs = gridspec.GridSpec(int(np.ceil(nplots/2))+1, 2, height_ratios=[1.5]+[0.2] + [1]*int(np.ceil((nplots-2)/2)), wspace=0, hspace=0)\n",
    "ax0 = fig.add_subplot(gs[0, :]); axes = [fig.add_subplot(gs[i+4]) for i in range(nplots-2)]\n",
    "axes.insert(0, ax0)\n",
    "\n",
    "for num, reg in enumerate(percent_stable_timeseries_ds.region.values):\n",
    "    kwargs_to_use = left_kwargs if ((num%2) or (num==0)) else {}\n",
    "    sn_plotting.plot_all_coord_lines(percent_stable_timeseries_ds.sel(model=models_sorted).sel(region=reg), fig=fig, ax=axes[num],\n",
    "                                     title=NAMING_MAP[reg], params=ZEC_LINESTYLE_DICT, \n",
    "                                     add_legend=False if num < len(percent_stable_timeseries_ds.region)-1 else True,\n",
    "                                     logginglevel='ERROR', legend_fontsize=16,\n",
    "                                     **kwargs_to_use, **line_plot_kwargs);\n",
    "\n",
    "for num, ax in enumerate(axes):\n",
    "    title = ax.get_title()\n",
    "    ax.set_title('')\n",
    "    # Remove the first and last yticks so it doesn't overlap with the next/previous plot.\n",
    "    ax.set_yticks(np.take(ax.get_yticks(), np.arange(1, len(ax.get_yticks())-1)))\n",
    "    ax.annotate(title, xy=(0.01, 0.85), xycoords='axes fraction', size=plotting_functions.PlotConfig.title_size*1.4)\n",
    "    if not num%2 and num >1: ax.set_yticklabels([])\n",
    "    if 1 < num < 8: ax.set_xticklabels([]) # Need or the last number can still be seen"
   ]
  },
  {
   "cell_type": "code",
   "execution_count": null,
   "id": "e9f42d26-52f8-40e4-8c9f-1ff624a3ce7d",
   "metadata": {},
   "outputs": [],
   "source": [
    "percent_stable_timeseries_ds.region.values"
   ]
  },
  {
   "cell_type": "code",
   "execution_count": null,
   "id": "a779f516-9c61-4cbb-9742-d9239d7a9062",
   "metadata": {},
   "outputs": [],
   "source": [
    "region_ordered = ['gl', 'land', 'ocean', 'nh', 'sh', 'mid_sh', 'mid_nh',\n",
    "       'arctic', 'antarctic',  'tropics']"
   ]
  },
  {
   "cell_type": "code",
   "execution_count": null,
   "id": "15e79eb9-8401-471a-a3c7-3d9d9d0bc958",
   "metadata": {},
   "outputs": [],
   "source": [
    "model_sorted_name = np.sort(percent_stable_timeseries_ds.model.values)\n",
    "model_sorted_name"
   ]
  },
  {
   "cell_type": "code",
   "execution_count": null,
   "id": "b81067e3-a110-4aa2-9144-dc1bcd6e5830",
   "metadata": {},
   "outputs": [],
   "source": [
    "percent_stable_timeseries_ds = percent_stable_timeseries_ds.sel(region=region_ordered)"
   ]
  },
  {
   "cell_type": "code",
   "execution_count": null,
   "id": "bc97452f-4640-47ad-b57b-d755c019d7ba",
   "metadata": {},
   "outputs": [],
   "source": [
    "fig = plt.figure(figsize=(14, 24))\n",
    "ncols = 2\n",
    "nrows = int(np.ceil(len(models_sorted)))\n",
    "gs = gridspec.GridSpec(nrows, ncols, hspace=0.2, wspace=0.02)\n",
    "axes_left = [fig.add_subplot(gs[i]) for i in range(nrows)]\n",
    "\n",
    "regions = percent_stable_timeseries_ds.region.values\n",
    "time = percent_stable_timeseries_ds.time.values#.dt.year.values\n",
    "\n",
    "for num,model in enumerate(model_sorted_name):\n",
    "    ax2 = axes_left[num]\n",
    "\n",
    "    for region in region_ordered:\n",
    "        linewidth = 3.5 if region == 'gl' else 1.5\n",
    "        color = sn_plotting.REGION_STYLE_DICT[region]['color']\n",
    "        linestyle = sn_plotting.REGION_STYLE_DICT[region].get('linestyle', '-')\n",
    "        ax2.plot(time, percent_stable_timeseries_ds.sel(model=model, region=region).squeeze().values,\n",
    "                color=color, linestyle=linestyle, label=NAMING_MAP[region], linewidth=linewidth)\n",
    "\n",
    "    ax2.set_ylim(0, 100)\n",
    "    ax2.set_xlim(1,50)\n",
    "    # ax2.set_title(model, fontsize=14)\n",
    "    ax2.annotate(model, xy=(0.01, 0.9), xycoords='axes fraction', ha='left', va='center', fontsize=12)\n",
    "    ax2.grid(True, alpha=0.5, linestyle='--', color='grey')\n",
    "    ax2.set_ylim(0, 105)\n",
    "    ax2.set_yticks(np.arange(0, 120, 20))\n",
    "    ax2.set_ylabel('Percent of Surface\\nArea Not Stable (%)')\n",
    "    if num%2:\n",
    "        ax2.yaxis.set_label_position('right')\n",
    "        ax2.yaxis.set_ticks_position('right')\n",
    "    # ax2.legend(ncol=2, loc='upper right', fontsize=8)#, bbox_to_anchor=(1.05, 0.5), fontsize=8)\n",
    "\n",
    "leg = axes_left[-1].legend(ncol=2, loc='center left', bbox_to_anchor=(1.05, 0.5), fontsize=12)"
   ]
  },
  {
   "cell_type": "code",
   "execution_count": null,
   "id": "a2b29352-38c0-414a-a1a8-a8e314e9234c",
   "metadata": {},
   "outputs": [],
   "source": []
  },
  {
   "cell_type": "code",
   "execution_count": null,
   "id": "d180e26b-c2ff-4c0c-8c71-913fc91cbd06",
   "metadata": {},
   "outputs": [],
   "source": [
    "fig = plt.figure(figsize=(14, 24))\n",
    "ncols = 2\n",
    "nrows = len(models_sorted)\n",
    "gs = gridspec.GridSpec(nrows, ncols, hspace=0.4)\n",
    "axes_left = [fig.add_subplot(gs[i, 0]) for i in range(nrows)]\n",
    "axes_right = [fig.add_subplot(gs[i, 1]) for i in range(nrows)]\n",
    "\n",
    "regions = percent_stable_timeseries_ds.region.values\n",
    "time = percent_stable_timeseries_ds.time.values#.dt.year.values\n",
    "\n",
    "for num,model in enumerate(model_sorted_name):\n",
    "    ax = axes_right[num]\n",
    "    vals = percent_stable_timeseries_ds.sel(model=model).isel(time=0).values\n",
    "    vals2 = percent_stable_timeseries_ds.sel(model=model).isel(time=-2).values\n",
    "    \n",
    "    sort_indices = np.argsort(vals)\n",
    "    vals_sorted = vals[sort_indices]\n",
    "    vals2_sorted = vals2[sort_indices]\n",
    "    region_sorted = regions[sort_indices]\n",
    "    region_names = region_sorted#[NAMING_MAP[reg] for reg in region_sorted]\n",
    "    \n",
    "    ax.bar(region_names, vals_sorted, color='green', alpha=0.5)\n",
    "    ax.bar(region_names, vals2_sorted, color='magenta', alpha=0.5)\n",
    "    ax.set_ylim(0, 100)\n",
    "    ax.grid(True, alpha=0.5, linestyle='--', color='grey')\n",
    "    ax.set_title(model)\n",
    "    ax.set_xticklabels(ax.get_xticklabels(), rotation=45) \n",
    "\n",
    "    #### \n",
    "    ax2 = axes_left[num]\n",
    "\n",
    "    \n",
    "    for region in region_sorted:\n",
    "        color = sn_plotting.REGION_STYLE_DICT[region]['color']\n",
    "        linestyle = sn_plotting.REGION_STYLE_DICT[region].get('linestyle', '-')\n",
    "        ax2.plot(time, percent_stable_timeseries_ds.sel(model=model, region=region).squeeze().values,\n",
    "                color=color, linestyle=linestyle, label=region)\n",
    "\n",
    "    ax2.set_ylim(0, 100)\n",
    "    ax2.set_xlim(1,50)\n",
    "    \n",
    "    ax2.grid(True, alpha=0.5, linestyle='--', color='grey')\n",
    "\n",
    "    if num == 0:\n",
    "        leg = ax2.legend(loc='center left', bbox_to_anchor=[-0.35, 0.35])"
   ]
  },
  {
   "cell_type": "code",
   "execution_count": null,
   "id": "ac518dbc-0c8f-4c79-92e0-ccd326a348af",
   "metadata": {},
   "outputs": [],
   "source": [
    "fig = plt.figure(figsize=(14, 12))\n",
    "ncols = 2\n",
    "nrows = int(np.ceil(len(models_sorted)/ncols))\n",
    "gs = gridspec.GridSpec(nrows, ncols, hspace=0.4)\n",
    "axes = [fig.add_subplot(gs[i]) for i in range(ncols*nrows-1)]\n",
    "regions = percent_stable_timeseries_ds.region.values\n",
    "\n",
    "for num,model in enumerate(models_sorted):\n",
    "    ax = axes[num]\n",
    "    vals = percent_stable_timeseries_ds.sel(model=model).isel(time=0).values\n",
    "    vals2 = percent_stable_timeseries_ds.sel(model=model).isel(time=-2).values\n",
    "    \n",
    "    sort_indices = np.argsort(vals)\n",
    "    vals_sorted = vals[sort_indices]\n",
    "    vals2_sorted = vals2[sort_indices]\n",
    "    region_sorted = regions[sort_indices]\n",
    "    region_names = region_sorted#[NAMING_MAP[reg] for reg in region_sorted]\n",
    "    \n",
    "    ax.bar(region_names, vals_sorted, color='green', alpha=0.5)\n",
    "    ax.bar(region_names, vals2_sorted, color='magenta', alpha=0.5)\n",
    "    ax.set_ylim(0, 100)\n",
    "    ax.grid(True, alpha=0.5, linestyle='--', color='grey')\n",
    "    ax.set_title(model)\n",
    "    ax.set_xticklabels(ax.get_xticklabels(), rotation=45) "
   ]
  },
  {
   "cell_type": "raw",
   "id": "b5911fa5-ae5f-4cb8-8888-95959e162c80",
   "metadata": {},
   "source": [
    "plt.bar(np.arange(len(region_ordered)),percent_stable_timeseries_ds.isel(model=3, time=0).values)#.plot.bar()"
   ]
  },
  {
   "cell_type": "code",
   "execution_count": null,
   "id": "6e0dc5a5-bfa6-4b49-86bb-f4bd9c1278a9",
   "metadata": {},
   "outputs": [],
   "source": [
    "### Plot set-up\n",
    "\n",
    "line_plot_kwargs = dict(xlabel='Time After Emission Cessation (Years)', labelpad=70, ncol=2,\n",
    "                        exp_type='zecmip', font_scale=1.8, xlim=(0, 49), bbox_to_anchor=(1, 0.75))\n",
    "left_kwargs = dict(ylabel='Percent\\nStable (%)')\n",
    "\n",
    "\n",
    "line_plot_kwargs['ylim'] = (0, 100) #if window == 40 else (40, 100)\n",
    "\n",
    "### Plot Creation\n",
    "nplots = len(percent_stable_timeseries_ds.region.values)+1\n",
    "fig = plt.figure(figsize=(12*2, 4*nplots))\n",
    "gs = gridspec.GridSpec(int(np.ceil(nplots/2))+1, 2, height_ratios=[1.5]+[0.2] + [1]*int(np.ceil((nplots-2)/2)), wspace=0, hspace=0)\n",
    "ax0 = fig.add_subplot(gs[0, :]); axes = [fig.add_subplot(gs[i+4]) for i in range(nplots-2)]\n",
    "axes.insert(0, ax0)\n",
    "\n",
    "for num, reg in enumerate(region_ordered):\n",
    "    kwargs_to_use = left_kwargs if ((num%2) or (num==0)) else {}\n",
    "    sn_plotting.plot_all_coord_lines(percent_stable_timeseries_ds.sel(region=reg), fig=fig, ax=axes[num],\n",
    "                                     title=NAMING_MAP[reg], #linestyle=linestyle_dict, \n",
    "                                     add_legend=False if num < len(percent_stable_timeseries_ds.region.values)-1 else True,\n",
    "                                     logginglevel='ERROR', legend_fontsize=16,\n",
    "                                     **kwargs_to_use, **line_plot_kwargs);\n",
    "\n",
    "for num, ax in enumerate(axes):\n",
    "    title = ax.get_title()\n",
    "    ax.set_title('')\n",
    "    # Remove the first and last yticks so it doesn't overlap with the next/previous plot.\n",
    "    ax.set_yticks(np.take(ax.get_yticks(), np.arange(1, len(ax.get_yticks())-1)))\n",
    "    ax.annotate(title, xy=(0.01, 0.85), xycoords='axes fraction', size=plotting_functions.PlotConfig.title_size*1.4)\n",
    "    if not num%2 and num >1: ax.set_yticklabels([])\n",
    "    if 1 < num < 8: ax.set_xticklabels([]) # Need or the last number can still be seen"
   ]
  },
  {
   "cell_type": "code",
   "execution_count": null,
   "id": "053bd553-27a3-4e3e-8c6d-67efc597df2b",
   "metadata": {
    "tags": []
   },
   "outputs": [],
   "source": [
    "\n",
    "line_plot_kwargs = dict(xlabel='Time After Emission Cessation (Years)', labelpad=70, ncol=2, exp_type='zecmip', font_scale=1.8,\n",
    "                        xlim=(0, 49), ylim=(0, 100), bbox_to_anchor=(1.1,1))\n",
    "left_kwargs = dict( ylabel='Percent of\\nPoints Stable (%)')\n",
    "\n",
    "window = 40\n",
    "plt.style.use('default')\n",
    "nplots = len(percent_stable_timeseries_ds.region)+1\n",
    "fig = plt.figure(figsize=(12*2, 4*nplots))\n",
    "gs = gridspec.GridSpec(int(np.ceil(nplots/2)), 2, height_ratios=[1.5] + [1]*int(np.ceil((nplots-2)/2)), wspace=0.1, hspace=0.4)\n",
    "ax0 = fig.add_subplot(gs[0, :]); axes = [fig.add_subplot(gs[i+2]) for i in range(nplots-2)]\n",
    "axes.insert(0, ax0)\n",
    "\n",
    "for num, reg in enumerate(percent_stable_timeseries_ds.region.values):\n",
    "    kwargs_to_use = left_kwargs if ((num%2) or (num==0)) else {}\n",
    "    sn_plotting.plot_all_coord_lines(percent_stable_timeseries_ds.sel(region=reg), fig=fig, ax=axes[num],\n",
    "                                     title=NAMING_MAP[reg],add_legend=False if num < len(percent_stable_timeseries_ds.region.values)-1 else True, liensytle=linestyles,\n",
    "                                     **kwargs_to_use, **line_plot_kwargs);\n",
    "    #axes[num].set_xlim([stable_sn_da.time.values[0], stable_sn_da.time.values[-1]]); axes[num].set_ylim(0, 100)"
   ]
  },
  {
   "cell_type": "code",
   "execution_count": null,
   "id": "bcb53113-4b4a-4bb2-ace6-c41c2548788d",
   "metadata": {},
   "outputs": [],
   "source": [
    "line_plot_kwargs_median = dict(xlabel='Time After Emission Cessation (Years)', ylabel='',\n",
    "                               labelpad=70, font_scale=1.1,xlim=(0, 49), ylim=(0, 101), consensus=False)\n",
    "\n",
    "fig = plt.figure(figsize=(12, 4*2))\n",
    "ax = fig.add_subplot(111)\n",
    "\n",
    "fig, ax, leg = sn_plotting.plot_all_coord_lines(\n",
    "    percent_stable_timeseries_ds.median(dim='model'),\n",
    "    ax=ax, coord='region', exp_type='region', linestyle=linestyles, \n",
    "    add_legend=True, bbox_to_anchor=(1.03,-0.15), **line_plot_kwargs_median)\n",
    "\n",
    "ax.set_ylabel('Percent Stable (%)', size=18, ha='left')\n",
    "\n",
    "# Update the legend elements. Get the legend labels\n",
    "labels = [text.get_text() for text in leg.get_texts()]\n",
    "for old_label, new_label in NAMING_MAP.items():\n",
    "    try:\n",
    "        leg.get_texts()[labels.index(old_label)].set_text(new_label)\n",
    "    except ValueError: pass\n",
    "\n",
    "\n",
    "legend_handles = leg.legendHandles\n",
    "legend_texts = [t.get_text() for t in leg.get_texts()]\n",
    "new_order = ['Global'] + [t for t in legend_texts if t != 'Global']\n",
    "\n",
    "# Create a new legend\n",
    "leg = ax.legend([handle for _, handle in sorted(zip(legend_texts, legend_handles), \n",
    "                                                key=lambda pair: new_order.index(pair[0]))], new_order, \n",
    "               fontsize=15)"
   ]
  },
  {
   "cell_type": "markdown",
   "id": "98f7fb16-b58b-4d2a-ac7f-9bbcf7556c08",
   "metadata": {},
   "source": [
    "## Figure 4 (Time series of warming and cooling trneds)"
   ]
  },
  {
   "cell_type": "code",
   "execution_count": null,
   "id": "978cce96-228b-4b49-9c08-a9d4f5d8260d",
   "metadata": {},
   "outputs": [],
   "source": [
    "models = number_cool_da.model"
   ]
  },
  {
   "cell_type": "code",
   "execution_count": null,
   "id": "7f6f9ae6-bb95-4b01-8b5c-57828b3600ca",
   "metadata": {},
   "outputs": [],
   "source": [
    "fig = plt.figure(figsize=(12, 10))\n",
    "gs = gridspec.GridSpec(2, 1, hspace=0)\n",
    "\n",
    "ax_top = fig.add_subplot(gs[0])\n",
    "ax_bottom = fig.add_subplot(gs[1])\n",
    "\n",
    "time = number_cool_da.time.values\n",
    "\n",
    "for num, model in enumerate(models_sorted_name):\n",
    "    line_format_dict = dict(\n",
    "        linestyle = ZEC_LINESTYLE_DICT[model].get('linestyle', '-'),\n",
    "        color = ZEC_LINESTYLE_DICT[model].get('color', 'black'),\n",
    "        linewidth=2)\n",
    "    \n",
    "    ax_top.plot(time, number_cool_da.sel(model=model).squeeze().values, label='Cooling', **line_format_dict)\n",
    "    ax_bottom.plot(time, number_warm_da.sel(model=model).squeeze().values, label='Warming', **line_format_dict)\n",
    "    \n",
    "    ytext1 = number_cool_da.sel(model=model).squeeze().values[0] - 0.1\n",
    "    ytext2 = number_warm_da.sel(model=model).squeeze().values[0] - 0.1\n",
    "\n",
    "    # Adjust ytext1 and ytext2 based on the model\n",
    "    if 'CanESM5' in model: ytext1 += .5\n",
    "    if 'ACCESS' in model: ytext1 -= 1.1\n",
    "\n",
    "    if 'ACCESS' in model: ytext2 -= 0.85\n",
    "    if 'Nor' in model: ytext2 -= 3\n",
    "    if 'GISS' in model: ytext2 += 2.4\n",
    "    if 'GFDL' in model: ytext2 -= 1.5\n",
    "    if 'MPI' in model: ytext2 += 1\n",
    "    # if 'CanESM5' in model: ytext2 += 1\n",
    "    if 'CESM2' in model: ytext2 += 0.8\n",
    "    \n",
    "    ax_top.annotate(model, xy=(time[0] - 0.5, ytext1), ha='right', color=line_format_dict['color'])\n",
    "    ax_bottom.annotate(model, xy=(time[0] - 0.5, ytext2), ha='right', color=line_format_dict['color'])\n",
    "    \n",
    "sn_plotting.format_xticks(ax_bottom, time, time-1)\n",
    "sn_plotting.format_xticks(ax_top, time, time-1)\n",
    "\n",
    "ax_bottom.set_ylabel('Percent of Surface Area\\nnot Stable and Warming (%)', fontsize=14)\n",
    "ax_top.set_ylabel('Percent of Surface Area\\nnot Stable and Cooling (%)', fontsize=14)\n",
    "\n",
    "for ax in [ax_bottom, ax_top]:\n",
    "    ax.grid(True, alpha=0.5, c='grey', linestyle='--')\n",
    "    ax.set_xlim(-9, 50)\n",
    "    ax.set_ylim(0, 60)\n",
    "    ax.set_xticks([0, 10, 20, 30, 40, 50])\n",
    "    ax.set_xticklabels([0, 10, 20, 30, 40, 50])\n",
    "\n",
    "ax_bottom.set_xlabel('Time After Emission Cessation (Years)', fontsize=14)\n",
    "ax_top.set_xlabel('Time After Emission Cessation (Years)', fontsize=14)\n",
    "\n",
    "ax_top.xaxis.set_label_position('top')\n",
    "ax_top.xaxis.tick_top()\n"
   ]
  },
  {
   "cell_type": "markdown",
   "id": "54808e63-bd5b-454a-917e-cd190e334c9d",
   "metadata": {},
   "source": [
    "## Supplementary Figures"
   ]
  },
  {
   "cell_type": "markdown",
   "id": "1c535196-841d-4da2-9e5d-204b550a7975",
   "metadata": {},
   "source": [
    "### Figure S12 (does not stabilise grid cells)"
   ]
  },
  {
   "cell_type": "code",
   "execution_count": null,
   "id": "d4d9e3cc-5f0c-4a2e-9979-9ee823f74838",
   "metadata": {},
   "outputs": [],
   "source": [
    "import matplotlib.colors as mcolors\n",
    "# Create a custom colormap with two colors: gray and transparent\n",
    "colors = [(0, 0, 0, 0), 'blue',  '#6c5ce7', 'black']#(0.5, 0.5, 0.5, 1)]  # (R, G, B, Alpha)\n",
    "cmap_binary = mcolors.LinearSegmentedColormap.from_list(\"binary_no_color\", colors)"
   ]
  },
  {
   "cell_type": "code",
   "execution_count": null,
   "id": "d6330297-042b-4526-a875-f8176fe981f3",
   "metadata": {},
   "outputs": [],
   "source": [
    "colors = np.concatenate([[[1,1,1,1]], plt.get_cmap('cool')(np.linspace(0, 1, 3))])\n",
    "cmap_binary = mcolors.LinearSegmentedColormap.from_list(\"binary_no_color\", colors)"
   ]
  },
  {
   "cell_type": "code",
   "execution_count": null,
   "id": "569d9156-0f9e-4955-b279-43971a56273a",
   "metadata": {},
   "outputs": [],
   "source": [
    "cmap_binary"
   ]
  },
  {
   "cell_type": "code",
   "execution_count": null,
   "id": "d0c3152c-2baf-46b3-875b-6b22bca2889b",
   "metadata": {},
   "outputs": [],
   "source": [
    "def stability_achieved_rank(val):\n",
    "    '''\n",
    "    Defines the \n",
    "\n",
    "    '''\n",
    "    if val >= 60: return 3\n",
    "    if val >= 50: return 2\n",
    "    if val >= 40: return 1\n",
    "    return 0\n",
    "    "
   ]
  },
  {
   "cell_type": "code",
   "execution_count": null,
   "id": "660f0d35-53d4-40d6-88b4-33747b4f5e09",
   "metadata": {},
   "outputs": [],
   "source": [
    "stability_achieved_rank = np.vectorize(stability_achieved_rank)"
   ]
  },
  {
   "cell_type": "code",
   "execution_count": null,
   "id": "828a86e0-78e3-4147-b36e-dad3ea55e697",
   "metadata": {},
   "outputs": [],
   "source": [
    "stability_achieved_rank_data = year_stable_data(xr.zeros_like) + year_stable_data(stability_achieved_rank)"
   ]
  },
  {
   "cell_type": "code",
   "execution_count": null,
   "id": "a0d6a53a-c6da-4b1f-af69-5f91432b6552",
   "metadata": {},
   "outputs": [],
   "source": [
    "stability_achieved_rank_data"
   ]
  },
  {
   "cell_type": "code",
   "execution_count": null,
   "id": "c316be5d-5a96-4fe2-b5e9-dda548ef2c2f",
   "metadata": {},
   "outputs": [],
   "source": [
    "\n",
    "# 20-year window levels\n",
    "# vm = 30; step=2; levels_stable = np.arange(0, vm+step, step) \n",
    "# 40-year window levels\n",
    "vm = 60; step=5; levels_stable = np.arange(0, vm+step, step) \n",
    "\n",
    "ncols, nrows = 3, 3\n",
    "num_plots = ncols * nrows\n",
    "\n",
    "fig = plt.figure(figsize=(18*nrows, 10*ncols))\n",
    "gs_top = gridspec.GridSpec(nrows+2, ncols, height_ratios=[1]*nrows+[0.15]*2, wspace=.1)\n",
    "gs_bottom = gridspec.GridSpec(nrows+2, ncols, height_ratios=[1]*nrows+[0.15]*2, hspace=0)\n",
    "\n",
    "axes = [fig.add_subplot(gs_top[i], projection=projection_init) for i in range(0, num_plots)]\n",
    "cax1 = plt.subplot(gs_bottom[nrows+0, :])\n",
    "\n",
    "stable_plot_kwargs = dict(dim='model', extend='neither', add_label=False,\n",
    "    max_stabilisation_year=60, font_scale=2, projection=ccrs.PlateCarree, ptype='imshow')\n",
    "\n",
    "fig, gs, axes, cbar1 = sn_plotting.map_plot_all_for_coords_3(\n",
    "    stability_achieved_rank_data, \n",
    "    fig=fig, gs=gs_top, axes=axes, cax=cax1, cmap=cmap_binary, levels=[0, 1, 2, 3,5],\n",
    "    cbar_title=\"\", **stable_plot_kwargs)\n",
    "\n",
    "cbar1[0].ax.set_xticks([0.5,1.5, 2.5, 4])\n",
    "cbar1[0].ax.set_xticklabels(['Stablises before year 40', 'Stabiliastion between\\nyear 40 and 50', \n",
    "                             'Stabiliastion between\\nyear 50 and 60',\n",
    "                             'Does not stabilise'])\n",
    "cbar1[0].ax.tick_params(labelsize=44)  # Set font size to 14"
   ]
  },
  {
   "cell_type": "code",
   "execution_count": null,
   "id": "41d244c4-5bac-4a92-8a79-3343a88fe02e",
   "metadata": {},
   "outputs": [],
   "source": [
    "\n",
    "# 20-year window levels\n",
    "# vm = 30; step=2; levels_stable = np.arange(0, vm+step, step) \n",
    "# 40-year window levels\n",
    "vm = 60; step=5; levels_stable = np.arange(0, vm+step, step) \n",
    "\n",
    "ncols, nrows = 3, 3\n",
    "num_plots = ncols * nrows\n",
    "\n",
    "fig = plt.figure(figsize=(18*nrows, 10*ncols))\n",
    "gs_top = gridspec.GridSpec(nrows+2, ncols, height_ratios=[1]*nrows+[0.15]*2, wspace=.1)\n",
    "gs_bottom = gridspec.GridSpec(nrows+2, ncols, height_ratios=[1]*nrows+[0.15]*2, hspace=0)\n",
    "\n",
    "axes = [fig.add_subplot(gs_top[i], projection=projection_init) for i in range(0, num_plots)]\n",
    "cax1 = plt.subplot(gs_bottom[nrows+0, :])\n",
    "\n",
    "\n",
    "\n",
    "### Data plotting\n",
    "# , stabilisation_method = 'blackout'\n",
    "stable_plot_kwargs = dict(dim='model', extend='neither', add_label=False,\n",
    "    max_stabilisation_year=60, font_scale=2, projection=ccrs.PlateCarree, ptype='imshow')\n",
    "\n",
    "fig, gs, axes, cbar1 = sn_plotting.map_plot_all_for_coords_3(\n",
    "    where(year_stable_data >=60, 1, 0), \n",
    "    # xr.where(year_stable_data >50, 1, 0), \n",
    "    fig=fig, gs=gs_top, axes=axes, cax=cax1, cmap=cmap_binary, levels=[0, 1, 2],\n",
    "    cbar_title=\"\", **stable_plot_kwargs)\n",
    "\n",
    "cbar1[0].ax.set_xticks([0.5,1.5])\n",
    "cbar1[0].ax.set_xticklabels(['Stablises before year 50', 'Stabilises after year 50'])\n",
    "cbar1[0].ax.tick_params(labelsize=44)  # Set font size to 14"
   ]
  },
  {
   "cell_type": "markdown",
   "id": "9dc1f369-ffb4-4a5e-adc1-20fe2629d27a",
   "metadata": {},
   "source": [
    "### Figure S13 (stability bounds)"
   ]
  },
  {
   "cell_type": "code",
   "execution_count": null,
   "id": "6d4e673d-1b25-4b81-8edd-97060b4b1e19",
   "metadata": {},
   "outputs": [],
   "source": [
    "fig = plt.figure(figsize=(18, 12))\n",
    "gs = gridspec.GridSpec(4, 3, height_ratios = [0.05] + [1]*3, hspace=0)\n",
    "axes = [fig.add_subplot(gs[i+3], projection=ccrs.PlateCarree(central_longitude=180)) for i in range(9)]\n",
    "# axes= [fig.add_subplot(gs[0, 0], projection=ccrs.PlateCarree()), \n",
    "#        fig.add_subplot(gs[0, 1], projection=ccrs.PlateCarree())]\n",
    "\n",
    "fig, gs, axes, cax = sn_plotting.map_plot_all_for_coords_3(\n",
    "    sn_ratio_bounds_data.lower_bound.mean(dim='window'), dim='bound',\n",
    "    levels=sn_levels, projection=projection, cmap=sn_cmap, font_scale=0.9,\n",
    "    cbar_title=\"Signal-to-Noise Ratio\", extend='neither',\n",
    "    fig=fig, gs=gs,\n",
    "    axes =axes,\n",
    "    cax = plt.subplot(gs[0, :]),\n",
    "    add_colorbar=True,\n",
    ")\n",
    "\n",
    "# axes[0].set_title('Lower S/N Rario Bound', fontsize=14)\n",
    "# axes[1].set_title('Upper S/N Ratio Bound', fontsize=14)"
   ]
  },
  {
   "cell_type": "code",
   "execution_count": null,
   "id": "8d599f49-fe2a-4d58-90ff-38ec7ba26a88",
   "metadata": {},
   "outputs": [],
   "source": [
    "fig = plt.figure(figsize=(12,8))\n",
    "ax1 = fig.add_subplot(211)\n",
    "ax2 = fig.add_subplot(212)\n",
    "lat_lon_dict = dict(lat=80, lon=67.5, method='nearest')\n",
    "\n",
    "model = 'ACCESS-ESM1-5'\n",
    "ax1.plot(esmpi_data[model].sel(**lat_lon_dict).isel(time=slice(0,500)).squeeze().values,\n",
    "        color='green', alpha=0.7, linewidth=1.7,);\n",
    "ax2.plot(a1_anom_data[model].sel(**lat_lon_dict).squeeze().values,\n",
    "         color='green', linewidth=1.7, alpha=0.7);\n",
    "\n",
    "# slope, fitted_line = calculate_slope_and_line(\n",
    "#     a1_anom_data[model].sel(**lat_lon_dict).squeeze().values)\n",
    "# ax2.plot(np.arange(len(fitted_line)), fitted_line, \n",
    "#         color='black', linewidth=2)\n",
    "\n",
    "ax2.plot(\n",
    "    (a1_anom_data[model].sel(**lat_lon_dict).squeeze()\n",
    "     .rolling(time=20, center=True).mean().values),\n",
    "color='blue', linewidth=1.7, alpha=0.7, linestyle='--', label='Rolling 20-year mean');\n",
    "\n",
    "ax2.plot(np.arange(40, 61),\n",
    "    np.tile(zec50_data[model].sel(**lat_lon_dict).values, 21),\n",
    "        linewidth=2.5, color='magenta', label='ZEC'+r'$_{50}$')\n",
    "\n",
    "ax2.plot(np.arange(\n",
    "    year_stable_data[model].sel(**lat_lon_dict).values,\n",
    "    year_stable_data[model].sel(**lat_lon_dict).values+21),\n",
    "    np.tile(stable_anom_da[model].sel(**lat_lon_dict).values, 21),\n",
    "        linewidth=2.5, color='magenta', linestyle='--', \n",
    "        label='Temperature Anomaly at Stabilisation')\n",
    "\n",
    "ax2.legend(ncol=2, fontsize=12)\n",
    "\n",
    "plotting_functions.format_axis(\n",
    "    ax1, xlabel='Time After Simulation Start (Years)', title=f'{model} (75N, 40S)',\n",
    "    ylabel='GMST'+r' ($^{\\circ}C$)',\n",
    "    labelpad=55, invisible_spines=['top', 'right'])\n",
    "\n",
    "\n",
    "\n",
    "ax2.yaxis.set_major_locator(mticker.MultipleLocator(1))\n",
    "ax2.yaxis.set_minor_locator(mticker.MultipleLocator(.5))\n",
    "\n",
    "plotting_functions.format_axis(\n",
    "    ax2, xlabel='Time After Emission Cessation (Years)', title='',\n",
    "    ylabel='GMST\\n'+r'Anomaly ($^{\\circ}C$)',\n",
    "    labelpad=55, invisible_spines=['top', 'right'])\n",
    "\n",
    "# ax1.set_xticklabels(a1_anom_data.isel(time=slice(14, 60)).time.dt.year.values[::15])"
   ]
  },
  {
   "cell_type": "code",
   "execution_count": null,
   "id": "6c3f75bc-66c7-4cb9-b5cc-781a9662b958",
   "metadata": {},
   "outputs": [],
   "source": [
    "fig = plt.figure(figsize=(16, 12))\n",
    "gs = gridspec.GridSpec(4, 3, height_ratios=[0.15, 1, 1, 1], hspace=0.4) \n",
    "\n",
    "axes =[fig.add_subplot(gs[i+3]) for i in range(9)]\n",
    "# Create a position for the colorbar on top\n",
    "cbar_ax = fig.add_subplot(gs[0, :])\n",
    "\n",
    "# Define levels for the discrete colorbar\n",
    "levels = np.arange(-2.5, 2.75, 0.25)\n",
    "\n",
    "# Create a colormap and normalize with the levels\n",
    "cmap = plt.get_cmap('RdBu_r')\n",
    "norm = BoundaryNorm(levels, ncolors=cmap.N, clip=True)\n",
    "\n",
    "# Create subplots\n",
    "for num, model in enumerate(static_noise_data.model):\n",
    "    ax = axes[num]\n",
    "    ax.grid(True, linestyle='--', color='grey', alpha=0.6, zorder=-1000)\n",
    "\n",
    "    sc = ax.scatter(static_noise_data[model].values.flatten(),\n",
    "                    year_stable_data[model].values.flatten(), \n",
    "                    c=stable_anom_a.sel(model=model).values.flatten(), cmap=cmap, norm=norm) \n",
    "    #zec50_data, stable_anom_da\n",
    "    ax.set_title(model, fontsize=18)\n",
    "    ax.set_xlim(0,4)\n",
    "    ax.set_ylim(0, 60)\n",
    "    \n",
    "# Add the colorbar\n",
    "cbar = fig.colorbar(sc, cax=cbar_ax, orientation='horizontal')\n",
    "cbar.ax.set_title('Temperature Anomaly at Stabilisation ' + r'$ (^\\circ C)$', fontsize=18)\n",
    "\n",
    "cbar.ax.tick_params(labelsize=16)  # Increase font size of the tick labels\n",
    "\n",
    "axes[3].set_ylabel('Year of Stabilisation', fontsize=18)\n",
    "axes[7].set_xlabel('Standard Deviation'  + r'$ (^\\circ C)$', fontsize=18)\n"
   ]
  },
  {
   "cell_type": "code",
   "execution_count": null,
   "id": "708f42ca-29ad-415c-a924-a46ef8d29887",
   "metadata": {},
   "outputs": [],
   "source": [
    "arr = a1_anom_data[model].sel(**lat_lon_dict).squeeze().values\n",
    "arr.shape"
   ]
  },
  {
   "cell_type": "code",
   "execution_count": null,
   "id": "3b37a51a-5b5e-4933-9cbd-3424e10f8894",
   "metadata": {},
   "outputs": [],
   "source": [
    "window = 30\n",
    "signal_list = []\n",
    "noise_list = []\n",
    "for t in range(len(arr)-window):\n",
    "    arr_subset = arr[t:t+window]\n",
    "    slope = calculate_slope(arr_subset) * window\n",
    "    noise = np.std(arr_subset)\n",
    "    signal_list.append(slope)\n",
    "    noise_list.append(noise)\n",
    "signal_list = np.array(signal_list)\n",
    "noise_list = np.array(noise_list)\n",
    "sn_list = signal_list/noise_list"
   ]
  },
  {
   "cell_type": "code",
   "execution_count": null,
   "id": "f258833c-5015-4c03-8a54-38a295a7eace",
   "metadata": {},
   "outputs": [],
   "source": [
    "actual_values = sn_ratio_a1_data.sel(model=model).sel(**lat_lon_dict).sel(window=window).squeeze().values"
   ]
  },
  {
   "cell_type": "code",
   "execution_count": null,
   "id": "e490c44f-2a2c-4906-8996-35398ed5d08f",
   "metadata": {},
   "outputs": [],
   "source": [
    "a1_anom_detrend_data.sel(model=model).sel(**lat_lon_dict).plot()\n",
    "a1_anom_data.sel(model=model).sel(**lat_lon_dict).plot()"
   ]
  },
  {
   "cell_type": "code",
   "execution_count": null,
   "id": "d1cf110e-5304-427a-9c44-1241d95436c7",
   "metadata": {},
   "outputs": [],
   "source": [
    "# plt.plot(actual_values)\n",
    "plt.plot(sn_list, label='test')\n",
    "plt.plot(actual_values, label='actual')\n",
    "plt.legend()"
   ]
  },
  {
   "cell_type": "code",
   "execution_count": null,
   "id": "f99f2bd6-4482-473e-b650-441ef5fa78f1",
   "metadata": {},
   "outputs": [],
   "source": [
    "diff_stable_and_zec50_data = zec50_data - stable_anom_da"
   ]
  },
  {
   "cell_type": "code",
   "execution_count": null,
   "id": "deb67d74-46a3-4f63-9647-474c0484479c",
   "metadata": {},
   "outputs": [],
   "source": [
    "fig = plt.figure(figsize=(18*nrows, 10*ncols))\n",
    "gs = gridspec.GridSpec(nrows+2, ncols, height_ratios=[1]*nrows+[0.1]+[0.15], hspace=0.1)\n",
    "axes = [fig.add_subplot(gs[i], projection=projection_init) for i in range(0, num_plots)]\n",
    "cax = plt.subplot(gs_bottom[nrows+1, :])\n",
    "\n",
    "\n",
    "vm = 1.5; step=.3; levels_diff= np.arange(-vm, vm+step, step) # based upon 99th percentile of abs.\n",
    "fig, gs, axes, cbar = sn_plotting.map_plot_all_for_coords_3(\n",
    "    diff_stable_and_zec50_data, dim='model', levels=levels_diff, fig=fig, gs=gs, axes=axes, cax=cax,\n",
    "    cbar_title=\"ZEC\" + r'$_{50}$' + ' - Temperature Anomaly at Stabilisation ' + r'$(^\\circ C)$', \n",
    "    projection=ccrs.PlateCarree, \n",
    "    add_label=False, font_scale=2.8, \n",
    "    logginglevel='ERROR', ptype='imshow')\n"
   ]
  },
  {
   "cell_type": "markdown",
   "id": "5999af15-6b41-4b14-9002-b5c806e94b67",
   "metadata": {},
   "source": [
    "# TCRE local ZEC correlation"
   ]
  },
  {
   "cell_type": "code",
   "execution_count": null,
   "id": "d3594246-80c5-42d3-8f7d-082f9ba628a1",
   "metadata": {},
   "outputs": [],
   "source": [
    "ecs_dict = {\n",
    "    'NorESM2-LM': 2.54,\n",
    "    'MIROC-ES2L': 2.7,\n",
    "    'MPI-ESM1-2-LR': 2.83,\n",
    "    'GISS-E2-1-G-CC': 2.9,\n",
    "    'GFDL-ESM4': 3.1,\n",
    "    'ACCESS-ESM1-5': 3.87,\n",
    "    'CESM2': 5.1,\n",
    "    'UKESM1-0-LL': 5.4,\n",
    "    'CanESM5': 5.7\n",
    "}"
   ]
  },
  {
   "cell_type": "code",
   "execution_count": null,
   "id": "2f31a53b-50c5-4f00-ab58-f541cffbf3f5",
   "metadata": {},
   "outputs": [],
   "source": [
    "# This comes from the ZEC nat var paper\n",
    "tcre_dict = {\n",
    "    'ACCESS-ESM1-5': 1.81,\n",
    "    'CESM2': 2.01,\n",
    "    'CanESM5': 2.10,\n",
    "    'GFDL-ESM4': 1.36,\n",
    "    'GISS-E2-1-G-CC': 1.68,\n",
    "    'MIROC-ES2L': 1.36,\n",
    "    'MPI-ESM1-2-LR': 1.65,\n",
    "    'NorESM2-LM': 1.42,\n",
    "    'UKESM1-0-LL': 2.65\n",
    "}"
   ]
  },
  {
   "cell_type": "code",
   "execution_count": null,
   "id": "66931db3-86b6-4a9d-8c3a-4d07f67ead5d",
   "metadata": {},
   "outputs": [],
   "source": [
    "from scipy.stats import spearmanr"
   ]
  },
  {
   "cell_type": "code",
   "execution_count": null,
   "id": "5b056052-8b99-46d9-9413-909c73f3f1b5",
   "metadata": {},
   "outputs": [],
   "source": [
    "def apply_correlation(arr1, arr2):\n",
    "    if np.all(np.isnan(arr1)) or np.all(np.isnan(arr2)): return np.nan\n",
    "\n",
    "    finite_locs = np.isfinite(arr1)\n",
    "    arr1 = arr1[finite_locs]\n",
    "    arr2 = arr2[finite_locs]\n",
    "\n",
    "    return spearmanr(arr1, arr2).statistic"
   ]
  },
  {
   "cell_type": "code",
   "execution_count": null,
   "id": "c405e43c-7a37-481d-8012-f2a78e8bf168",
   "metadata": {},
   "outputs": [],
   "source": [
    "list(tcre_dict.values())"
   ]
  },
  {
   "cell_type": "code",
   "execution_count": null,
   "id": "011777d0-e5b0-4091-8a02-ab81f951e801",
   "metadata": {},
   "outputs": [],
   "source": [
    "apply_correlation_tcre = partial(apply_correlation, arr2=np.array(list(tcre_dict.values())))\n",
    "tcre_correlation = xr.apply_ufunc(\n",
    "    apply_correlation_tcre,\n",
    "    stable_anom_da.sel(model=list(tcre_dict)), # make sure same order\n",
    "    input_core_dims=[['model']], \n",
    "    output_core_dims=[[]],\n",
    "    vectorize=True\n",
    ")"
   ]
  },
  {
   "cell_type": "code",
   "execution_count": null,
   "id": "39114fc9-a434-49d8-82cf-66e66d09c87f",
   "metadata": {},
   "outputs": [],
   "source": [
    "fig = plt.figure(figsize=(10, 6))\n",
    "ax = fig.add_subplot(111, projection=ccrs.PlateCarree())\n",
    "tcre_correlation.plot(ax=ax, levels=np.arange(-1, 1.1, .1))\n",
    "ax.coastlines()"
   ]
  },
  {
   "cell_type": "code",
   "execution_count": null,
   "id": "b9b37d85-e011-44f7-8602-8eb1e89dec44",
   "metadata": {},
   "outputs": [],
   "source": [
    "apply_correlation_ecs = partial(apply_correlation, arr2=np.array(list(ecs_dict.values())))\n",
    "ecs_correlation = xr.apply_ufunc(\n",
    "    apply_correlation_ecs,\n",
    "    stable_anom_da.sel(model=list(tcre_dict)), # make sure same order\n",
    "    input_core_dims=[['model']], \n",
    "    output_core_dims=[[]],\n",
    "    vectorize=True\n",
    ")"
   ]
  },
  {
   "cell_type": "code",
   "execution_count": null,
   "id": "30287087-6d94-4e5e-be4c-405c157cfc96",
   "metadata": {},
   "outputs": [],
   "source": [
    "fig = plt.figure(figsize=(10, 6))\n",
    "ax = fig.add_subplot(111, projection=ccrs.PlateCarree())\n",
    "ecs_correlation.plot(ax=ax, levels=np.arange(-1, 1.1, .1))\n",
    "ax.coastlines()"
   ]
  },
  {
   "cell_type": "code",
   "execution_count": null,
   "id": "bdddcad8-aae9-42fb-862a-f8e21f5dd021",
   "metadata": {},
   "outputs": [],
   "source": [
    "stable_anom_da.sel(model=list(tcre_dict))"
   ]
  },
  {
   "cell_type": "markdown",
   "id": "64514a44-3218-4f44-b0de-06e9ec0b2073",
   "metadata": {},
   "source": [
    "# Drift Comparison (Figure S11)"
   ]
  },
  {
   "cell_type": "code",
   "execution_count": null,
   "id": "9abb197b-f2c9-459c-adb8-abb5dbcae710",
   "metadata": {
    "tags": []
   },
   "outputs": [],
   "source": [
    "#### TODO: Do not import as *. Add drift_functino. as prefix to all necissary functions\n",
    "from drift_functions import *"
   ]
  },
  {
   "cell_type": "code",
   "execution_count": null,
   "id": "eb698564-0e6f-49b9-9596-51e77b76dc15",
   "metadata": {
    "scrolled": true,
    "tags": []
   },
   "outputs": [],
   "source": [
    "# P-values\n",
    "pi_pval_da = calculate_pvals(\n",
    "    esmpi_data.chunk({'time':-1, 'model':1, 'lat': int(96/4)}).isel(time=slice(0, 100)))"
   ]
  },
  {
   "cell_type": "code",
   "execution_count": null,
   "id": "5dd86111-e57b-43a7-8153-738396ac4221",
   "metadata": {},
   "outputs": [],
   "source": [
    "a1_anom_data"
   ]
  },
  {
   "cell_type": "code",
   "execution_count": null,
   "id": "207b1070-e860-4f7e-a369-68e7f8550def",
   "metadata": {
    "scrolled": true
   },
   "outputs": [],
   "source": [
    "exp_pval_da = calculate_pvals(a1_anom_data)"
   ]
  },
  {
   "cell_type": "code",
   "execution_count": null,
   "id": "e3c650fd-aae8-4b1c-a27c-2072593e3d48",
   "metadata": {
    "tags": []
   },
   "outputs": [],
   "source": [
    "exp_pval_da.isel(model=0).plot()"
   ]
  },
  {
   "cell_type": "code",
   "execution_count": null,
   "id": "59e5fec5-7ea1-447e-9b1b-006d347455ab",
   "metadata": {
    "tags": []
   },
   "outputs": [],
   "source": [
    "# Just the p-values that are less tha 0.05\n",
    "pi_sig_da = xr.where(pi_pval_da < 0.05, 1, np.nan)#.astype(int)\n",
    "exp_sig_da = xr.where(exp_pval_da < 0.05, 1, np.nan)#.astype(int)"
   ]
  },
  {
   "cell_type": "code",
   "execution_count": null,
   "id": "f97b01e8-279f-425e-8d38-85bd4b73036c",
   "metadata": {
    "tags": []
   },
   "outputs": [],
   "source": [
    "fig = plt.figure(); ax = fig.add_subplot(111, projection=ccrs.Robinson())\n",
    "sn_plotting.plot_stippled_data(pi_sig_da.isel(model=0), ax)"
   ]
  },
  {
   "cell_type": "code",
   "execution_count": null,
   "id": "dc10a699-a3e2-400e-bf3b-77d3489ccf45",
   "metadata": {
    "tags": []
   },
   "outputs": [],
   "source": [
    "# Calculating the gradient over the 100 year run length\n",
    "gradient_exp_full_da = calculate_trend(a1_anom_data);\n",
    "gradient_pi_full_da = calculate_trend(esmpi_data.isel(time=slice(0, 100)))"
   ]
  },
  {
   "cell_type": "code",
   "execution_count": null,
   "id": "480db99e-6158-4450-83f2-1c9ac1fc58fb",
   "metadata": {
    "tags": []
   },
   "outputs": [],
   "source": [
    "# Multiplying gradient by 50 to get K per 50 years\n",
    "gradient_exp_full_da = (gradient_exp_full_da*50).persist()\n",
    "gradient_pi_full_da = (gradient_pi_full_da*50).persist()"
   ]
  },
  {
   "cell_type": "code",
   "execution_count": null,
   "id": "0a473004-52ff-44c7-9a9a-6b108d96200d",
   "metadata": {
    "tags": []
   },
   "outputs": [],
   "source": [
    "# Difference in the gradients\n",
    "gradient_full_diff = gradient_exp_full_da-gradient_pi_full_da"
   ]
  },
  {
   "cell_type": "code",
   "execution_count": null,
   "id": "12e1ad9a-b707-4145-a24d-a9fe6f406d88",
   "metadata": {
    "tags": []
   },
   "outputs": [],
   "source": [
    "reload(sn_plotting)"
   ]
  },
  {
   "cell_type": "code",
   "execution_count": null,
   "id": "2e706346-5363-4da3-8940-785dcd49ba7d",
   "metadata": {
    "tags": []
   },
   "outputs": [],
   "source": [
    "# All mean value plots\n",
    "models = gradient_full_diff.model.values\n",
    "nrows = len(models); ncols = 3\n",
    "fig = plt.figure(figsize=(6*ncols, 8*ncols))\n",
    "gs = gridspec.GridSpec(nrows+1, ncols, height_ratios = [1]*nrows +[0.2], hspace=.2, wspace=0)\n",
    "projection = ccrs.PlateCarree(central_longitude=int(np.mean(gradient_full_diff.lon.values)))\n",
    "\n",
    "drift_plot_levels = np.arange(-1.4, 1.4, .2)\n",
    "drift_plot_kwargs = dict(levels=drift_plot_levels, extend='both', cmap='RdBu_r', add_label=False, font_scale=0.7)\n",
    "vm =40; step=5; levels_mean_stab2 = np.arange(0, vm+step, step)\n",
    "all_axes = []\n",
    "\n",
    "### A1\n",
    "\n",
    "fig, gs, axes1 = sn_plotting.map_plot_all_for_coords_3(\n",
    "    gradient_exp_full_da, dim='model',\n",
    "    fig=fig, gs=gs, add_colorbar=False, stipling_da=exp_sig_da,\n",
    "    axes = [fig.add_subplot(gs[i, 0], projection=projection) for i in range(len(models))],\n",
    "    **drift_plot_kwargs)\n",
    "\n",
    "for num, (ax, model) in enumerate(zip(axes1, models)):\n",
    "    # ax.set_ylabel(model, labelpad=500)\n",
    "    # sn_plotting.plot_stippled_data(pi_sig_da.sel(model=model), ax) # TODO: This is not working in the `map_plot_all_for_coords_3` function\n",
    "    if num == 0: ax.set_title('A1 Experiment', fontsize=plotting_functions.PlotConfig.title_size*drift_plot_kwargs['font_scale'])\n",
    "    else: ax.set_title('')\n",
    "    \n",
    "y_axis_kwargs = dict(xy=(-.25, 0.5), ha='center', va='center', xycoords='axes fraction', rotation=0,\n",
    "                     size=plotting_functions.PlotConfig.title_size*drift_plot_kwargs['font_scale'])\n",
    "for model, ax in zip(models, axes1): ax.annotate(model, **y_axis_kwargs)\n",
    "all_axes.extend(axes1)\n",
    "\n",
    "\n",
    "#### Pi-control\n",
    "\n",
    "fig, gs, axes2 = sn_plotting.map_plot_all_for_coords_3(\n",
    "    gradient_pi_full_da, dim='model',\n",
    "    fig=fig, gs=gs, add_colorbar=False,stipling_da=pi_sig_da, \n",
    "    axes = [fig.add_subplot(gs[i, 1], projection=projection) for i in range(len(models))],\n",
    "    **drift_plot_kwargs)\n",
    "for ax in axes2: ax.set_title('')\n",
    "axes2[0].set_title('Pre-Industrial Control', size=plotting_functions.PlotConfig.title_size*drift_plot_kwargs['font_scale'])\n",
    "\n",
    "all_axes.extend(axes2)\n",
    "\n",
    "### Diff\n",
    "\n",
    "fig, gs, axes3, cbar = sn_plotting.map_plot_all_for_coords_3(\n",
    "    gradient_full_diff, dim='model',\n",
    "    cbar_title=\"Gradient (K /(50 year))\", fig=fig, gs=gs,\n",
    "    axes = [fig.add_subplot(gs[i, 2], projection=projection) for i in range(len(models))],\n",
    "    cax = plt.subplot(gs[nrows, :]), \n",
    "    **drift_plot_kwargs)\n",
    "\n",
    "\n",
    "for ax in axes3: ax.set_title('')\n",
    "axes3[0].set_title('Difference', size=plotting_functions.PlotConfig.title_size*drift_plot_kwargs['font_scale'])\n",
    "all_axes.extend(axes3)\n",
    "\n",
    "#for num, ax in enumerate(all_axes): plotting_functions.add_figure_label(ax, f'{chr(97+num)})', font_scale=0.7)"
   ]
  },
  {
   "cell_type": "code",
   "execution_count": null,
   "id": "26cf56d2-432b-4b63-944f-f55dbbfce93e",
   "metadata": {},
   "outputs": [],
   "source": []
  }
 ],
 "metadata": {
  "kernelspec": {
   "display_name": "Python [conda env:analysis3-24.07]",
   "language": "python",
   "name": "conda-env-analysis3-24.07-py"
  },
  "language_info": {
   "codemirror_mode": {
    "name": "ipython",
    "version": 3
   },
   "file_extension": ".py",
   "mimetype": "text/x-python",
   "name": "python",
   "nbconvert_exporter": "python",
   "pygments_lexer": "ipython3",
   "version": "3.10.14"
  },
  "toc": {
   "base_numbering": 1,
   "nav_menu": {},
   "number_sections": true,
   "sideBar": true,
   "skip_h1_title": false,
   "title_cell": "Table of Contents",
   "title_sidebar": "Contents",
   "toc_cell": false,
   "toc_position": {},
   "toc_section_display": true,
   "toc_window_display": false
  },
  "varInspector": {
   "cols": {
    "lenName": 16,
    "lenType": 16,
    "lenVar": 40
   },
   "kernels_config": {
    "python": {
     "delete_cmd_postfix": "",
     "delete_cmd_prefix": "del ",
     "library": "var_list.py",
     "varRefreshCmd": "print(var_dic_list())"
    },
    "r": {
     "delete_cmd_postfix": ") ",
     "delete_cmd_prefix": "rm(",
     "library": "var_list.r",
     "varRefreshCmd": "cat(var_dic_list()) "
    }
   },
   "oldHeight": 588.85,
   "position": {
    "height": "611.083px",
    "left": "1560px",
    "right": "20px",
    "top": "107px",
    "width": "566.767px"
   },
   "types_to_exclude": [
    "module",
    "function",
    "builtin_function_or_method",
    "instance",
    "_Feature"
   ],
   "varInspector_section_display": "block",
   "window_display": false
  }
 },
 "nbformat": 4,
 "nbformat_minor": 5
}
